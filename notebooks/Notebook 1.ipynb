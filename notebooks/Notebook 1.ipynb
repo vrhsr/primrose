{
 "cells": [
  {
   "cell_type": "code",
   "execution_count": null,
   "metadata": {
    "cell_id": "07bae84d09b348bbb787e7314e7307b5",
    "deepnote_cell_type": "code",
    "execution_context_id": "7785e0f8-c8d5-46fe-9321-13d8453a6968",
    "execution_millis": 1275,
    "execution_start": 1756928474779,
    "source_hash": "3bc44cd8"
   },
   "outputs": [],
   "source": [
    "import pandas as pd\n",
    "import matplotlib.pyplot as plt\n",
    "import seaborn as sns"
   ]
  },
  {
   "cell_type": "code",
   "execution_count": null,
   "metadata": {
    "cell_id": "65f0c04315c144ed82c85298da798db9",
    "deepnote_cell_type": "code",
    "execution_context_id": "7785e0f8-c8d5-46fe-9321-13d8453a6968",
    "execution_millis": 3534,
    "execution_start": 1756928476115,
    "source_hash": "e0a03ee9"
   },
   "outputs": [
    {
     "name": "stdout",
     "output_type": "stream",
     "text": [
      "Requirement already satisfied: streamlit in /root/venv/lib/python3.10/site-packages (1.49.1)\n",
      "Requirement already satisfied: scikit-learn in /root/venv/lib/python3.10/site-packages (1.7.1)\n",
      "Requirement already satisfied: xgboost in /root/venv/lib/python3.10/site-packages (3.0.4)\n",
      "Requirement already satisfied: pandas in /root/venv/lib/python3.10/site-packages (2.3.2)\n",
      "Requirement already satisfied: matplotlib in /root/venv/lib/python3.10/site-packages (3.10.6)\n",
      "Requirement already satisfied: seaborn in /root/venv/lib/python3.10/site-packages (0.13.2)\n",
      "Requirement already satisfied: joblib in /root/venv/lib/python3.10/site-packages (1.5.2)\n",
      "Requirement already satisfied: toml<2,>=0.10.1 in /root/venv/lib/python3.10/site-packages (from streamlit) (0.10.2)\n",
      "Requirement already satisfied: numpy<3,>=1.23 in /root/venv/lib/python3.10/site-packages (from streamlit) (1.25.2)\n",
      "Requirement already satisfied: click<9,>=7.0 in /root/venv/lib/python3.10/site-packages (from streamlit) (8.2.1)\n",
      "Requirement already satisfied: protobuf<7,>=3.20 in /root/venv/lib/python3.10/site-packages (from streamlit) (4.25.8)\n",
      "Requirement already satisfied: altair!=5.4.0,!=5.4.1,<6,>=4.0 in /toolkit-cache/0.2.29/python3.10/kernel-libs/lib/python3.10/site-packages (from streamlit) (5.5.0)\n",
      "Requirement already satisfied: cachetools<7,>=4.0 in /root/venv/lib/python3.10/site-packages (from streamlit) (5.5.2)\n",
      "Requirement already satisfied: typing-extensions<5,>=4.4.0 in /root/venv/lib/python3.10/site-packages (from streamlit) (4.14.1)\n",
      "Requirement already satisfied: pillow<12,>=7.1.0 in /root/venv/lib/python3.10/site-packages (from streamlit) (11.3.0)\n",
      "Requirement already satisfied: packaging<26,>=20 in /root/venv/lib/python3.10/site-packages (from streamlit) (25.0)\n",
      "Requirement already satisfied: pyarrow>=7.0 in /toolkit-cache/0.2.29/python3.10/kernel-libs/lib/python3.10/site-packages (from streamlit) (17.0.0)\n",
      "Requirement already satisfied: pydeck<1,>=0.8.0b4 in /root/venv/lib/python3.10/site-packages (from streamlit) (0.9.1)\n",
      "Requirement already satisfied: requests<3,>=2.27 in /root/venv/lib/python3.10/site-packages (from streamlit) (2.32.4)\n",
      "Requirement already satisfied: tenacity<10,>=8.1.0 in /toolkit-cache/0.2.29/python3.10/kernel-libs/lib/python3.10/site-packages (from streamlit) (9.0.0)\n",
      "Requirement already satisfied: tornado!=6.5.0,<7,>=6.0.3 in /toolkit-cache/0.2.29/python3.10/kernel-libs/lib/python3.10/site-packages (from streamlit) (6.4.1)\n",
      "Requirement already satisfied: gitpython!=3.1.19,<4,>=3.0.7 in /root/venv/lib/python3.10/site-packages (from streamlit) (3.1.45)\n",
      "Requirement already satisfied: watchdog<7,>=2.1.5 in /root/venv/lib/python3.10/site-packages (from streamlit) (6.0.0)\n",
      "Requirement already satisfied: blinker<2,>=1.5.0 in /root/venv/lib/python3.10/site-packages (from streamlit) (1.9.0)\n",
      "Requirement already satisfied: scipy>=1.8.0 in /root/venv/lib/python3.10/site-packages (from scikit-learn) (1.9.3)\n",
      "Requirement already satisfied: threadpoolctl>=3.1.0 in /root/venv/lib/python3.10/site-packages (from scikit-learn) (3.6.0)\n",
      "Requirement already satisfied: nvidia-nccl-cu12 in /root/venv/lib/python3.10/site-packages (from xgboost) (2.27.7)\n",
      "Requirement already satisfied: pytz>=2020.1 in /root/venv/lib/python3.10/site-packages (from pandas) (2025.2)\n",
      "Requirement already satisfied: python-dateutil>=2.8.2 in /root/venv/lib/python3.10/site-packages (from pandas) (2.9.0.post0)\n",
      "Requirement already satisfied: tzdata>=2022.7 in /root/venv/lib/python3.10/site-packages (from pandas) (2025.2)\n",
      "Requirement already satisfied: contourpy>=1.0.1 in /root/venv/lib/python3.10/site-packages (from matplotlib) (1.3.2)\n",
      "Requirement already satisfied: pyparsing>=2.3.1 in /root/venv/lib/python3.10/site-packages (from matplotlib) (3.2.3)\n",
      "Requirement already satisfied: cycler>=0.10 in /root/venv/lib/python3.10/site-packages (from matplotlib) (0.12.1)\n",
      "Requirement already satisfied: kiwisolver>=1.3.1 in /root/venv/lib/python3.10/site-packages (from matplotlib) (1.4.8)\n",
      "Requirement already satisfied: fonttools>=4.22.0 in /root/venv/lib/python3.10/site-packages (from matplotlib) (4.59.0)\n",
      "Requirement already satisfied: narwhals>=1.14.2 in /root/venv/lib/python3.10/site-packages (from altair!=5.4.0,!=5.4.1,<6,>=4.0->streamlit) (1.47.1)\n",
      "Requirement already satisfied: jsonschema>=3.0 in /toolkit-cache/0.2.29/python3.10/kernel-libs/lib/python3.10/site-packages (from altair!=5.4.0,!=5.4.1,<6,>=4.0->streamlit) (4.23.0)\n",
      "Requirement already satisfied: jinja2 in /root/venv/lib/python3.10/site-packages (from altair!=5.4.0,!=5.4.1,<6,>=4.0->streamlit) (3.1.6)\n",
      "Requirement already satisfied: gitdb<5,>=4.0.1 in /root/venv/lib/python3.10/site-packages (from gitpython!=3.1.19,<4,>=3.0.7->streamlit) (4.0.12)\n",
      "Requirement already satisfied: six>=1.5 in /root/venv/lib/python3.10/site-packages (from python-dateutil>=2.8.2->pandas) (1.17.0)\n",
      "Requirement already satisfied: charset_normalizer<4,>=2 in /root/venv/lib/python3.10/site-packages (from requests<3,>=2.27->streamlit) (3.4.2)\n",
      "Requirement already satisfied: urllib3<3,>=1.21.1 in /root/venv/lib/python3.10/site-packages (from requests<3,>=2.27->streamlit) (2.5.0)\n",
      "Requirement already satisfied: idna<4,>=2.5 in /root/venv/lib/python3.10/site-packages (from requests<3,>=2.27->streamlit) (3.10)\n",
      "Requirement already satisfied: certifi>=2017.4.17 in /root/venv/lib/python3.10/site-packages (from requests<3,>=2.27->streamlit) (2025.7.14)\n",
      "Requirement already satisfied: smmap<6,>=3.0.1 in /root/venv/lib/python3.10/site-packages (from gitdb<5,>=4.0.1->gitpython!=3.1.19,<4,>=3.0.7->streamlit) (5.0.2)\n",
      "Requirement already satisfied: MarkupSafe>=2.0 in /root/venv/lib/python3.10/site-packages (from jinja2->altair!=5.4.0,!=5.4.1,<6,>=4.0->streamlit) (3.0.2)\n",
      "Requirement already satisfied: attrs>=22.2.0 in /root/venv/lib/python3.10/site-packages (from jsonschema>=3.0->altair!=5.4.0,!=5.4.1,<6,>=4.0->streamlit) (25.3.0)\n",
      "Requirement already satisfied: rpds-py>=0.7.1 in /toolkit-cache/0.2.29/python3.10/kernel-libs/lib/python3.10/site-packages (from jsonschema>=3.0->altair!=5.4.0,!=5.4.1,<6,>=4.0->streamlit) (0.20.0)\n",
      "Requirement already satisfied: referencing>=0.28.4 in /toolkit-cache/0.2.29/python3.10/kernel-libs/lib/python3.10/site-packages (from jsonschema>=3.0->altair!=5.4.0,!=5.4.1,<6,>=4.0->streamlit) (0.35.1)\n",
      "Requirement already satisfied: jsonschema-specifications>=2023.03.6 in /toolkit-cache/0.2.29/python3.10/kernel-libs/lib/python3.10/site-packages (from jsonschema>=3.0->altair!=5.4.0,!=5.4.1,<6,>=4.0->streamlit) (2023.12.1)\n",
      "\n",
      "\u001b[1m[\u001b[0m\u001b[34;49mnotice\u001b[0m\u001b[1;39;49m]\u001b[0m\u001b[39;49m A new release of pip is available: \u001b[0m\u001b[31;49m23.0.1\u001b[0m\u001b[39;49m -> \u001b[0m\u001b[32;49m25.2\u001b[0m\n",
      "\u001b[1m[\u001b[0m\u001b[34;49mnotice\u001b[0m\u001b[1;39;49m]\u001b[0m\u001b[39;49m To update, run: \u001b[0m\u001b[32;49mpip install --upgrade pip\u001b[0m\n"
     ]
    }
   ],
   "source": [
    "%pip install --upgrade streamlit scikit-learn xgboost pandas matplotlib seaborn joblib"
   ]
  },
  {
   "cell_type": "code",
   "execution_count": null,
   "metadata": {
    "cell_id": "d3050870e353494f8e42c028a4e35fc5",
    "deepnote_cell_type": "code",
    "execution_context_id": "7785e0f8-c8d5-46fe-9321-13d8453a6968",
    "execution_millis": 820,
    "execution_start": 1756928479705,
    "source_hash": "111f239b"
   },
   "outputs": [
    {
     "name": "stdout",
     "output_type": "stream",
     "text": [
      "dill                          0.3.8\n",
      "geopandas                     1.1.1\n",
      "joblib                        1.5.2\n",
      "pandas                        2.3.2\n",
      "scikit-learn                  1.7.1\n",
      "streamlit                     1.49.1\n",
      "xgboost                       3.0.4\n",
      "\n",
      "\u001b[1m[\u001b[0m\u001b[34;49mnotice\u001b[0m\u001b[1;39;49m]\u001b[0m\u001b[39;49m A new release of pip is available: \u001b[0m\u001b[31;49m23.0.1\u001b[0m\u001b[39;49m -> \u001b[0m\u001b[32;49m25.2\u001b[0m\n",
      "\u001b[1m[\u001b[0m\u001b[34;49mnotice\u001b[0m\u001b[1;39;49m]\u001b[0m\u001b[39;49m To update, run: \u001b[0m\u001b[32;49mpip install --upgrade pip\u001b[0m\n"
     ]
    }
   ],
   "source": [
    "!pip list | grep -E \"scikit-learn|xgboost|joblib|pandas|streamlit|dill|matpotlib\""
   ]
  },
  {
   "cell_type": "code",
   "execution_count": null,
   "metadata": {
    "cell_id": "ccb0dc7da0b143f5b6bf819c9a5b653d",
    "deepnote_cell_type": "code",
    "execution_context_id": "7785e0f8-c8d5-46fe-9321-13d8453a6968",
    "execution_millis": 196,
    "execution_start": 1756928480575,
    "source_hash": "f3136246"
   },
   "outputs": [],
   "source": [
    "df = pd.read_csv(\"AR - performance review - input - Sheet1.csv\")"
   ]
  },
  {
   "cell_type": "code",
   "execution_count": null,
   "metadata": {
    "cell_id": "29a1dc03a7ff441e80e827bb8fa4f91c",
    "deepnote_cell_type": "code",
    "execution_context_id": "7785e0f8-c8d5-46fe-9321-13d8453a6968",
    "execution_millis": 0,
    "execution_start": 1756928480835,
    "source_hash": "43934ed9"
   },
   "outputs": [
    {
     "name": "stdout",
     "output_type": "stream",
     "text": [
      "     #  CPT Code Insurance Company Physician Name Payment Amount  Balance  \\\n",
      "21  22   99214.0             Aetna    Dr. Johnson         $80.00   $20.00   \n",
      "22  23   99215.0             Cigna        Dr. Lee          $0.00  $150.00   \n",
      "23  24   93000.0  UnitedHealthcare      Dr. Patel         $50.00    $0.00   \n",
      "24  25   99212.0        Blue Cross        Dr. Kim          $0.00   $75.00   \n",
      "25  26       NaN               NaN            NaN            NaN      NaN   \n",
      "\n",
      "                       Denial Reason  \n",
      "21                               NaN  \n",
      "22  45 - Charge exceeds fee schedule  \n",
      "23                               NaN  \n",
      "24          96 - Non-covered service  \n",
      "25                               NaN  \n"
     ]
    }
   ],
   "source": [
    "print(df.tail())\n",
    "print(\"Hi\")"
   ]
  },
  {
   "cell_type": "code",
   "execution_count": 6,
   "metadata": {
    "cell_id": "24df34fce2b241629020b7d69e8f134f",
    "deepnote_cell_type": "code",
    "execution_context_id": "7785e0f8-c8d5-46fe-9321-13d8453a6968",
    "execution_millis": 0,
    "execution_start": 1756928480895,
    "source_hash": "78f724bb"
   },
   "outputs": [
    {
     "name": "stdout",
     "output_type": "stream",
     "text": [
      "   #  CPT Code Insurance Company Physician Name Payment Amount  Balance  \\\n",
      "0  1   99213.0          Medicare      Dr. Smith          $0.00  $100.00   \n",
      "1  2   99214.0             Aetna    Dr. Johnson         $80.00   $20.00   \n",
      "2  3   99215.0             Cigna        Dr. Lee          $0.00  $150.00   \n",
      "3  4   93000.0  UnitedHealthcare      Dr. Patel         $50.00    $0.00   \n",
      "4  5   99212.0        Blue Cross        Dr. Kim          $0.00   $75.00   \n",
      "\n",
      "                      Denial Reason  \n",
      "0          16 - Missing information  \n",
      "1                               NaN  \n",
      "2  45 - Charge exceeds fee schedule  \n",
      "3                               NaN  \n",
      "4          96 - Non-covered service  \n"
     ]
    }
   ],
   "source": [
    "print(df.head())"
   ]
  },
  {
   "cell_type": "code",
   "execution_count": 7,
   "metadata": {
    "cell_id": "a56309b5764a4a60ac79f71d75235669",
    "deepnote_cell_type": "code",
    "execution_context_id": "7785e0f8-c8d5-46fe-9321-13d8453a6968",
    "execution_millis": 1,
    "execution_start": 1756928480955,
    "source_hash": "8b651934"
   },
   "outputs": [
    {
     "name": "stdout",
     "output_type": "stream",
     "text": [
      "<class 'pandas.core.frame.DataFrame'>\n",
      "RangeIndex: 26 entries, 0 to 25\n",
      "Data columns (total 7 columns):\n",
      " #   Column             Non-Null Count  Dtype  \n",
      "---  ------             --------------  -----  \n",
      " 0   #                  26 non-null     int64  \n",
      " 1   CPT Code           25 non-null     float64\n",
      " 2   Insurance Company  25 non-null     object \n",
      " 3   Physician Name     25 non-null     object \n",
      " 4   Payment Amount     25 non-null     object \n",
      " 5   Balance            25 non-null     object \n",
      " 6   Denial Reason      15 non-null     object \n",
      "dtypes: float64(1), int64(1), object(5)\n",
      "memory usage: 1.5+ KB\n",
      "None\n"
     ]
    }
   ],
   "source": [
    "print(df.info())"
   ]
  },
  {
   "cell_type": "code",
   "execution_count": 8,
   "metadata": {
    "cell_id": "132de99de4894639b004719a2793d5fc",
    "deepnote_cell_type": "code",
    "execution_context_id": "7785e0f8-c8d5-46fe-9321-13d8453a6968",
    "execution_millis": 1,
    "execution_start": 1756928481018,
    "source_hash": "be3b9ac4"
   },
   "outputs": [
    {
     "name": "stdout",
     "output_type": "stream",
     "text": [
      "#                     0\n",
      "CPT Code              1\n",
      "Insurance Company     1\n",
      "Physician Name        1\n",
      "Payment Amount        1\n",
      "Balance               1\n",
      "Denial Reason        11\n",
      "dtype: int64\n"
     ]
    }
   ],
   "source": [
    "print(df.isnull().sum())"
   ]
  },
  {
   "cell_type": "code",
   "execution_count": 9,
   "metadata": {
    "cell_id": "30d95c03be134ec7848657abc642f522",
    "deepnote_cell_type": "code",
    "execution_context_id": "7785e0f8-c8d5-46fe-9321-13d8453a6968",
    "execution_millis": 0,
    "execution_start": 1756928481085,
    "source_hash": "8025e28b"
   },
   "outputs": [],
   "source": [
    "df['CPT Code'] = df['CPT Code'].astype(str).str.replace('.0','', regex=False)"
   ]
  },
  {
   "cell_type": "code",
   "execution_count": 10,
   "metadata": {
    "cell_id": "bfe044dac8e8441eafeb94d28d9831a4",
    "deepnote_cell_type": "code",
    "execution_context_id": "7785e0f8-c8d5-46fe-9321-13d8453a6968",
    "execution_millis": 0,
    "execution_start": 1756928481135,
    "source_hash": "b314a7a1"
   },
   "outputs": [],
   "source": [
    "df['CPT Code'] = df['CPT Code'].astype(str)"
   ]
  },
  {
   "cell_type": "code",
   "execution_count": 11,
   "metadata": {
    "cell_id": "d29ebf27e4604b439602cb2d90283362",
    "deepnote_cell_type": "code",
    "execution_context_id": "7785e0f8-c8d5-46fe-9321-13d8453a6968",
    "execution_millis": 0,
    "execution_start": 1756928481185,
    "source_hash": "cef77762"
   },
   "outputs": [],
   "source": [
    "# Remove $ and commas, then convert to float\n",
    "df[\"Payment Amount\"] = df[\"Payment Amount\"].replace('[\\$,]', '', regex=True).astype(float)\n",
    "df[\"Balance\"] = df[\"Balance\"].replace('[\\$,]', '', regex=True).astype(float)"
   ]
  },
  {
   "cell_type": "code",
   "execution_count": 12,
   "metadata": {
    "cell_id": "2a1d6f2f362b40318346e5dcfb8499a4",
    "deepnote_cell_type": "code",
    "execution_context_id": "7785e0f8-c8d5-46fe-9321-13d8453a6968",
    "execution_millis": 0,
    "execution_start": 1756928481235,
    "source_hash": "4acbba73"
   },
   "outputs": [],
   "source": [
    "df = df[~((df[\"Insurance Company\"] == \"Unknown\") & (df[\"Physician Name\"] == \"Unknown\"))].reset_index(drop=True)"
   ]
  },
  {
   "cell_type": "code",
   "execution_count": 13,
   "metadata": {
    "cell_id": "e5bdfab31e634de68c8db325112b0c6d",
    "deepnote_cell_type": "code",
    "execution_context_id": "7785e0f8-c8d5-46fe-9321-13d8453a6968",
    "execution_millis": 0,
    "execution_start": 1756928481295,
    "source_hash": "96feea0a"
   },
   "outputs": [
    {
     "data": {
      "application/vnd.deepnote.dataframe.v3+json": {
       "column_count": 7,
       "columns": [
        {
         "dtype": "int64",
         "name": "#",
         "stats": {
          "categories": null,
          "histogram": [
           {
            "bin_end": 25.1,
            "bin_start": 25,
            "count": 1
           },
           {
            "bin_end": 25.2,
            "bin_start": 25.1,
            "count": 0
           },
           {
            "bin_end": 25.3,
            "bin_start": 25.2,
            "count": 0
           },
           {
            "bin_end": 25.4,
            "bin_start": 25.3,
            "count": 0
           },
           {
            "bin_end": 25.5,
            "bin_start": 25.4,
            "count": 0
           },
           {
            "bin_end": 25.6,
            "bin_start": 25.5,
            "count": 0
           },
           {
            "bin_end": 25.7,
            "bin_start": 25.6,
            "count": 0
           },
           {
            "bin_end": 25.8,
            "bin_start": 25.7,
            "count": 0
           },
           {
            "bin_end": 25.9,
            "bin_start": 25.8,
            "count": 0
           },
           {
            "bin_end": 26,
            "bin_start": 25.9,
            "count": 1
           }
          ],
          "max": "26",
          "min": "25",
          "nan_count": 0,
          "unique_count": 2
         }
        },
        {
         "dtype": "object",
         "name": "CPT Code",
         "stats": {
          "categories": [
           {
            "count": 1,
            "name": "99212"
           },
           {
            "count": 1,
            "name": "nan"
           }
          ],
          "histogram": null,
          "max": null,
          "min": null,
          "nan_count": 0,
          "unique_count": 2
         }
        },
        {
         "dtype": "object",
         "name": "Insurance Company",
         "stats": {
          "categories": [
           {
            "count": 1,
            "name": "Blue Cross"
           },
           {
            "count": 1,
            "name": "Missing"
           }
          ],
          "histogram": null,
          "max": null,
          "min": null,
          "nan_count": 1,
          "unique_count": 1
         }
        },
        {
         "dtype": "object",
         "name": "Physician Name",
         "stats": {
          "categories": [
           {
            "count": 1,
            "name": "Dr. Kim"
           },
           {
            "count": 1,
            "name": "Missing"
           }
          ],
          "histogram": null,
          "max": null,
          "min": null,
          "nan_count": 1,
          "unique_count": 1
         }
        },
        {
         "dtype": "float64",
         "name": "Payment Amount",
         "stats": {
          "categories": null,
          "histogram": [
           {
            "bin_end": -0.4,
            "bin_start": -0.5,
            "count": 0
           },
           {
            "bin_end": -0.3,
            "bin_start": -0.4,
            "count": 0
           },
           {
            "bin_end": -0.19999999999999996,
            "bin_start": -0.3,
            "count": 0
           },
           {
            "bin_end": -0.09999999999999998,
            "bin_start": -0.19999999999999996,
            "count": 0
           },
           {
            "bin_end": 0,
            "bin_start": -0.09999999999999998,
            "count": 0
           },
           {
            "bin_end": 0.10000000000000009,
            "bin_start": 0,
            "count": 1
           },
           {
            "bin_end": 0.20000000000000007,
            "bin_start": 0.10000000000000009,
            "count": 0
           },
           {
            "bin_end": 0.30000000000000004,
            "bin_start": 0.20000000000000007,
            "count": 0
           },
           {
            "bin_end": 0.4,
            "bin_start": 0.30000000000000004,
            "count": 0
           },
           {
            "bin_end": 0.5,
            "bin_start": 0.4,
            "count": 0
           }
          ],
          "max": "0.0",
          "min": "0.0",
          "nan_count": 1,
          "unique_count": 1
         }
        },
        {
         "dtype": "float64",
         "name": "Balance",
         "stats": {
          "categories": null,
          "histogram": [
           {
            "bin_end": 74.6,
            "bin_start": 74.5,
            "count": 0
           },
           {
            "bin_end": 74.7,
            "bin_start": 74.6,
            "count": 0
           },
           {
            "bin_end": 74.8,
            "bin_start": 74.7,
            "count": 0
           },
           {
            "bin_end": 74.9,
            "bin_start": 74.8,
            "count": 0
           },
           {
            "bin_end": 75,
            "bin_start": 74.9,
            "count": 0
           },
           {
            "bin_end": 75.1,
            "bin_start": 75,
            "count": 1
           },
           {
            "bin_end": 75.2,
            "bin_start": 75.1,
            "count": 0
           },
           {
            "bin_end": 75.3,
            "bin_start": 75.2,
            "count": 0
           },
           {
            "bin_end": 75.4,
            "bin_start": 75.3,
            "count": 0
           },
           {
            "bin_end": 75.5,
            "bin_start": 75.4,
            "count": 0
           }
          ],
          "max": "75.0",
          "min": "75.0",
          "nan_count": 1,
          "unique_count": 1
         }
        },
        {
         "dtype": "object",
         "name": "Denial Reason",
         "stats": {
          "categories": [
           {
            "count": 1,
            "name": "96 - Non-covered service"
           },
           {
            "count": 1,
            "name": "Missing"
           }
          ],
          "histogram": null,
          "max": null,
          "min": null,
          "nan_count": 1,
          "unique_count": 1
         }
        },
        {
         "dtype": "int64",
         "name": "_deepnote_index_column"
        }
       ],
       "preview_row_count": 2,
       "row_count": 2,
       "rows": [
        {
         "#": 25,
         "Balance": 75,
         "CPT Code": "99212",
         "Denial Reason": "96 - Non-covered service",
         "Insurance Company": "Blue Cross",
         "Payment Amount": 0,
         "Physician Name": "Dr. Kim",
         "_deepnote_index_column": 24
        },
        {
         "#": 26,
         "Balance": "nan",
         "CPT Code": "nan",
         "Denial Reason": "nan",
         "Insurance Company": "nan",
         "Payment Amount": "nan",
         "Physician Name": "nan",
         "_deepnote_index_column": 25
        }
       ],
       "type": "dataframe"
      },
      "text/html": [
       "<div>\n",
       "<style scoped>\n",
       "    .dataframe tbody tr th:only-of-type {\n",
       "        vertical-align: middle;\n",
       "    }\n",
       "\n",
       "    .dataframe tbody tr th {\n",
       "        vertical-align: top;\n",
       "    }\n",
       "\n",
       "    .dataframe thead th {\n",
       "        text-align: right;\n",
       "    }\n",
       "</style>\n",
       "<table border=\"1\" class=\"dataframe\">\n",
       "  <thead>\n",
       "    <tr style=\"text-align: right;\">\n",
       "      <th></th>\n",
       "      <th>#</th>\n",
       "      <th>CPT Code</th>\n",
       "      <th>Insurance Company</th>\n",
       "      <th>Physician Name</th>\n",
       "      <th>Payment Amount</th>\n",
       "      <th>Balance</th>\n",
       "      <th>Denial Reason</th>\n",
       "    </tr>\n",
       "  </thead>\n",
       "  <tbody>\n",
       "    <tr>\n",
       "      <th>24</th>\n",
       "      <td>25</td>\n",
       "      <td>99212</td>\n",
       "      <td>Blue Cross</td>\n",
       "      <td>Dr. Kim</td>\n",
       "      <td>0.0</td>\n",
       "      <td>75.0</td>\n",
       "      <td>96 - Non-covered service</td>\n",
       "    </tr>\n",
       "    <tr>\n",
       "      <th>25</th>\n",
       "      <td>26</td>\n",
       "      <td>nan</td>\n",
       "      <td>NaN</td>\n",
       "      <td>NaN</td>\n",
       "      <td>NaN</td>\n",
       "      <td>NaN</td>\n",
       "      <td>NaN</td>\n",
       "    </tr>\n",
       "  </tbody>\n",
       "</table>\n",
       "</div>"
      ],
      "text/plain": [
       "     # CPT Code Insurance Company Physician Name  Payment Amount  Balance  \\\n",
       "24  25    99212        Blue Cross        Dr. Kim             0.0     75.0   \n",
       "25  26      nan               NaN            NaN             NaN      NaN   \n",
       "\n",
       "               Denial Reason  \n",
       "24  96 - Non-covered service  \n",
       "25                       NaN  "
      ]
     },
     "execution_count": 13,
     "metadata": {},
     "output_type": "execute_result"
    }
   ],
   "source": [
    "df.tail(2)   # check last 3 rows"
   ]
  },
  {
   "cell_type": "code",
   "execution_count": 14,
   "metadata": {
    "cell_id": "8654409af0c14f8e991b64b4966ebf9b",
    "deepnote_cell_type": "code",
    "execution_context_id": "7785e0f8-c8d5-46fe-9321-13d8453a6968",
    "execution_millis": 0,
    "execution_start": 1756928481345,
    "source_hash": "5abff934"
   },
   "outputs": [
    {
     "name": "stdout",
     "output_type": "stream",
     "text": [
      "0\n"
     ]
    }
   ],
   "source": [
    "df.dropna()\n",
    "df = df.drop_duplicates()\n",
    "print(df.duplicated().sum())\n",
    "\n",
    "df = df.reset_index(drop=True)"
   ]
  },
  {
   "cell_type": "code",
   "execution_count": 15,
   "metadata": {
    "cell_id": "3f9c124aa61f4c848f7df78aa7dd102d",
    "deepnote_cell_type": "code",
    "execution_context_id": "7785e0f8-c8d5-46fe-9321-13d8453a6968",
    "execution_millis": 0,
    "execution_start": 1756928481395,
    "source_hash": "d07dd1b5"
   },
   "outputs": [],
   "source": [
    "def split_denial_reason(x):\n",
    "    if pd.isna(x):\n",
    "        return pd.Series([None, None])\n",
    "    parts = str(x).split('-', 1)  # split only at the first '-'\n",
    "    if len(parts) == 2:\n",
    "        return pd.Series([parts[0].strip(), parts[1].strip()])\n",
    "    else:\n",
    "        return pd.Series([parts[0].strip(), None])\n",
    "\n",
    "df[['Denial Code', 'Denial Description']] = df['Denial Reason'].apply(split_denial_reason)"
   ]
  },
  {
   "cell_type": "code",
   "execution_count": 16,
   "metadata": {
    "cell_id": "5b94fc6bc1a7451b8f42073ffea19fe8",
    "deepnote_cell_type": "code",
    "execution_context_id": "7785e0f8-c8d5-46fe-9321-13d8453a6968",
    "execution_millis": 0,
    "execution_start": 1756928481461,
    "source_hash": "ed1b05a2"
   },
   "outputs": [
    {
     "name": "stdout",
     "output_type": "stream",
     "text": [
      "Dataset Shape: (26, 9)\n"
     ]
    }
   ],
   "source": [
    "print(\"Dataset Shape:\", df.shape)"
   ]
  },
  {
   "cell_type": "code",
   "execution_count": 17,
   "metadata": {
    "cell_id": "0b608cb6d2af4a84bfe82f23ac1b4c86",
    "deepnote_cell_type": "code",
    "execution_context_id": "7785e0f8-c8d5-46fe-9321-13d8453a6968",
    "execution_millis": 0,
    "execution_start": 1756928481525,
    "source_hash": "6fbee55"
   },
   "outputs": [
    {
     "name": "stdout",
     "output_type": "stream",
     "text": [
      "\n",
      "Summary Statistics:\n",
      "                #  Payment Amount     Balance\n",
      "count  26.000000        25.00000   25.000000\n",
      "mean   13.500000        26.00000   69.000000\n",
      "std     7.648529        33.91165   55.377492\n",
      "min     1.000000         0.00000    0.000000\n",
      "25%     7.250000         0.00000   20.000000\n",
      "50%    13.500000         0.00000   75.000000\n",
      "75%    19.750000        50.00000  100.000000\n",
      "max    26.000000        80.00000  150.000000\n"
     ]
    }
   ],
   "source": [
    "print(\"\\nSummary Statistics:\\n\", df.describe())"
   ]
  },
  {
   "cell_type": "code",
   "execution_count": 18,
   "metadata": {
    "cell_id": "6dc00f040e024495ac282b0e5c85fa52",
    "deepnote_cell_type": "code",
    "execution_context_id": "7785e0f8-c8d5-46fe-9321-13d8453a6968",
    "execution_millis": 0,
    "execution_start": 1756928481585,
    "source_hash": "546c27e6"
   },
   "outputs": [
    {
     "name": "stdout",
     "output_type": "stream",
     "text": [
      "\n",
      "Cleaned dataset:\n",
      "    # CPT Code Insurance Company Physician Name  Payment Amount  Balance  \\\n",
      "0  1    99213          Medicare      Dr. Smith             0.0    100.0   \n",
      "1  2    99214             Aetna    Dr. Johnson            80.0     20.0   \n",
      "2  3    99215             Cigna        Dr. Lee             0.0    150.0   \n",
      "3  4    93000  UnitedHealthcare      Dr. Patel            50.0      0.0   \n",
      "4  5    99212        Blue Cross        Dr. Kim             0.0     75.0   \n",
      "\n",
      "                      Denial Reason Denial Code           Denial Description  \n",
      "0          16 - Missing information          16          Missing information  \n",
      "1                               NaN        None                         None  \n",
      "2  45 - Charge exceeds fee schedule          45  Charge exceeds fee schedule  \n",
      "3                               NaN        None                         None  \n",
      "4          96 - Non-covered service          96          Non-covered service  \n"
     ]
    }
   ],
   "source": [
    "print(\"\\nCleaned dataset:\\n\", df.head())"
   ]
  },
  {
   "cell_type": "code",
   "execution_count": 19,
   "metadata": {
    "cell_id": "bb65ee9f0fab433ca631c2fd3f50ac4b",
    "deepnote_cell_type": "code",
    "execution_context_id": "7785e0f8-c8d5-46fe-9321-13d8453a6968",
    "execution_millis": 0,
    "execution_start": 1756928481645,
    "source_hash": "1ac1fb59"
   },
   "outputs": [
    {
     "name": "stdout",
     "output_type": "stream",
     "text": [
      "\n",
      "Data types after cleaning:\n",
      " #                       int64\n",
      "CPT Code               object\n",
      "Insurance Company      object\n",
      "Physician Name         object\n",
      "Payment Amount        float64\n",
      "Balance               float64\n",
      "Denial Reason          object\n",
      "Denial Code            object\n",
      "Denial Description     object\n",
      "dtype: object\n"
     ]
    }
   ],
   "source": [
    "print(\"\\nData types after cleaning:\\n\", df.dtypes)"
   ]
  },
  {
   "cell_type": "code",
   "execution_count": 20,
   "metadata": {
    "cell_id": "8da1fcef3e1247ccb0d7a48dd840b061",
    "deepnote_cell_type": "code",
    "execution_context_id": "7785e0f8-c8d5-46fe-9321-13d8453a6968",
    "execution_millis": 1,
    "execution_start": 1756928481735,
    "source_hash": "838c0c28"
   },
   "outputs": [
    {
     "data": {
      "application/vnd.deepnote.dataframe.v3+json": {
       "column_count": 9,
       "columns": [
        {
         "dtype": "int64",
         "name": "#",
         "stats": {
          "categories": null,
          "histogram": [
           {
            "bin_end": 22.4,
            "bin_start": 22,
            "count": 1
           },
           {
            "bin_end": 22.8,
            "bin_start": 22.4,
            "count": 0
           },
           {
            "bin_end": 23.2,
            "bin_start": 22.8,
            "count": 1
           },
           {
            "bin_end": 23.6,
            "bin_start": 23.2,
            "count": 0
           },
           {
            "bin_end": 24,
            "bin_start": 23.6,
            "count": 0
           },
           {
            "bin_end": 24.4,
            "bin_start": 24,
            "count": 1
           },
           {
            "bin_end": 24.8,
            "bin_start": 24.4,
            "count": 0
           },
           {
            "bin_end": 25.2,
            "bin_start": 24.8,
            "count": 1
           },
           {
            "bin_end": 25.6,
            "bin_start": 25.2,
            "count": 0
           },
           {
            "bin_end": 26,
            "bin_start": 25.6,
            "count": 1
           }
          ],
          "max": "26",
          "min": "22",
          "nan_count": 0,
          "unique_count": 5
         }
        },
        {
         "dtype": "object",
         "name": "CPT Code",
         "stats": {
          "categories": [
           {
            "count": 1,
            "name": "99214"
           },
           {
            "count": 1,
            "name": "99215"
           },
           {
            "count": 3,
            "name": "3 others"
           }
          ],
          "histogram": null,
          "max": null,
          "min": null,
          "nan_count": 0,
          "unique_count": 5
         }
        },
        {
         "dtype": "object",
         "name": "Insurance Company",
         "stats": {
          "categories": [
           {
            "count": 1,
            "name": "Aetna"
           },
           {
            "count": 3,
            "name": "3 others"
           },
           {
            "count": 1,
            "name": "Missing"
           }
          ],
          "histogram": null,
          "max": null,
          "min": null,
          "nan_count": 1,
          "unique_count": 4
         }
        },
        {
         "dtype": "object",
         "name": "Physician Name",
         "stats": {
          "categories": [
           {
            "count": 1,
            "name": "Dr. Johnson"
           },
           {
            "count": 3,
            "name": "3 others"
           },
           {
            "count": 1,
            "name": "Missing"
           }
          ],
          "histogram": null,
          "max": null,
          "min": null,
          "nan_count": 1,
          "unique_count": 4
         }
        },
        {
         "dtype": "float64",
         "name": "Payment Amount",
         "stats": {
          "categories": null,
          "histogram": [
           {
            "bin_end": 8,
            "bin_start": 0,
            "count": 2
           },
           {
            "bin_end": 16,
            "bin_start": 8,
            "count": 0
           },
           {
            "bin_end": 24,
            "bin_start": 16,
            "count": 0
           },
           {
            "bin_end": 32,
            "bin_start": 24,
            "count": 0
           },
           {
            "bin_end": 40,
            "bin_start": 32,
            "count": 0
           },
           {
            "bin_end": 48,
            "bin_start": 40,
            "count": 0
           },
           {
            "bin_end": 56,
            "bin_start": 48,
            "count": 1
           },
           {
            "bin_end": 64,
            "bin_start": 56,
            "count": 0
           },
           {
            "bin_end": 72,
            "bin_start": 64,
            "count": 0
           },
           {
            "bin_end": 80,
            "bin_start": 72,
            "count": 1
           }
          ],
          "max": "80.0",
          "min": "0.0",
          "nan_count": 1,
          "unique_count": 3
         }
        },
        {
         "dtype": "float64",
         "name": "Balance",
         "stats": {
          "categories": null,
          "histogram": [
           {
            "bin_end": 15,
            "bin_start": 0,
            "count": 1
           },
           {
            "bin_end": 30,
            "bin_start": 15,
            "count": 1
           },
           {
            "bin_end": 45,
            "bin_start": 30,
            "count": 0
           },
           {
            "bin_end": 60,
            "bin_start": 45,
            "count": 0
           },
           {
            "bin_end": 75,
            "bin_start": 60,
            "count": 0
           },
           {
            "bin_end": 90,
            "bin_start": 75,
            "count": 1
           },
           {
            "bin_end": 105,
            "bin_start": 90,
            "count": 0
           },
           {
            "bin_end": 120,
            "bin_start": 105,
            "count": 0
           },
           {
            "bin_end": 135,
            "bin_start": 120,
            "count": 0
           },
           {
            "bin_end": 150,
            "bin_start": 135,
            "count": 1
           }
          ],
          "max": "150.0",
          "min": "0.0",
          "nan_count": 1,
          "unique_count": 4
         }
        },
        {
         "dtype": "object",
         "name": "Denial Reason",
         "stats": {
          "categories": [
           {
            "count": 1,
            "name": "45 - Charge exceeds fee schedule"
           },
           {
            "count": 1,
            "name": "96 - Non-covered service"
           },
           {
            "count": 3,
            "name": "Missing"
           }
          ],
          "histogram": null,
          "max": null,
          "min": null,
          "nan_count": 3,
          "unique_count": 2
         }
        },
        {
         "dtype": "object",
         "name": "Denial Code",
         "stats": {
          "categories": [
           {
            "count": 1,
            "name": "45"
           },
           {
            "count": 1,
            "name": "96"
           },
           {
            "count": 3,
            "name": "Missing"
           }
          ],
          "histogram": null,
          "max": null,
          "min": null,
          "nan_count": 3,
          "unique_count": 2
         }
        },
        {
         "dtype": "object",
         "name": "Denial Description",
         "stats": {
          "categories": [
           {
            "count": 1,
            "name": "Charge exceeds fee schedule"
           },
           {
            "count": 1,
            "name": "Non-covered service"
           },
           {
            "count": 3,
            "name": "Missing"
           }
          ],
          "histogram": null,
          "max": null,
          "min": null,
          "nan_count": 3,
          "unique_count": 2
         }
        },
        {
         "dtype": "int64",
         "name": "_deepnote_index_column"
        }
       ],
       "preview_row_count": 5,
       "row_count": 5,
       "rows": [
        {
         "#": 22,
         "Balance": 20,
         "CPT Code": "99214",
         "Denial Code": "None",
         "Denial Description": "None",
         "Denial Reason": "nan",
         "Insurance Company": "Aetna",
         "Payment Amount": 80,
         "Physician Name": "Dr. Johnson",
         "_deepnote_index_column": 21
        },
        {
         "#": 23,
         "Balance": 150,
         "CPT Code": "99215",
         "Denial Code": "45",
         "Denial Description": "Charge exceeds fee schedule",
         "Denial Reason": "45 - Charge exceeds fee schedule",
         "Insurance Company": "Cigna",
         "Payment Amount": 0,
         "Physician Name": "Dr. Lee",
         "_deepnote_index_column": 22
        },
        {
         "#": 24,
         "Balance": 0,
         "CPT Code": "93000",
         "Denial Code": "None",
         "Denial Description": "None",
         "Denial Reason": "nan",
         "Insurance Company": "UnitedHealthcare",
         "Payment Amount": 50,
         "Physician Name": "Dr. Patel",
         "_deepnote_index_column": 23
        },
        {
         "#": 25,
         "Balance": 75,
         "CPT Code": "99212",
         "Denial Code": "96",
         "Denial Description": "Non-covered service",
         "Denial Reason": "96 - Non-covered service",
         "Insurance Company": "Blue Cross",
         "Payment Amount": 0,
         "Physician Name": "Dr. Kim",
         "_deepnote_index_column": 24
        },
        {
         "#": 26,
         "Balance": "nan",
         "CPT Code": "nan",
         "Denial Code": "None",
         "Denial Description": "None",
         "Denial Reason": "nan",
         "Insurance Company": "nan",
         "Payment Amount": "nan",
         "Physician Name": "nan",
         "_deepnote_index_column": 25
        }
       ],
       "type": "dataframe"
      },
      "text/html": [
       "<div>\n",
       "<style scoped>\n",
       "    .dataframe tbody tr th:only-of-type {\n",
       "        vertical-align: middle;\n",
       "    }\n",
       "\n",
       "    .dataframe tbody tr th {\n",
       "        vertical-align: top;\n",
       "    }\n",
       "\n",
       "    .dataframe thead th {\n",
       "        text-align: right;\n",
       "    }\n",
       "</style>\n",
       "<table border=\"1\" class=\"dataframe\">\n",
       "  <thead>\n",
       "    <tr style=\"text-align: right;\">\n",
       "      <th></th>\n",
       "      <th>#</th>\n",
       "      <th>CPT Code</th>\n",
       "      <th>Insurance Company</th>\n",
       "      <th>Physician Name</th>\n",
       "      <th>Payment Amount</th>\n",
       "      <th>Balance</th>\n",
       "      <th>Denial Reason</th>\n",
       "      <th>Denial Code</th>\n",
       "      <th>Denial Description</th>\n",
       "    </tr>\n",
       "  </thead>\n",
       "  <tbody>\n",
       "    <tr>\n",
       "      <th>21</th>\n",
       "      <td>22</td>\n",
       "      <td>99214</td>\n",
       "      <td>Aetna</td>\n",
       "      <td>Dr. Johnson</td>\n",
       "      <td>80.0</td>\n",
       "      <td>20.0</td>\n",
       "      <td>NaN</td>\n",
       "      <td>None</td>\n",
       "      <td>None</td>\n",
       "    </tr>\n",
       "    <tr>\n",
       "      <th>22</th>\n",
       "      <td>23</td>\n",
       "      <td>99215</td>\n",
       "      <td>Cigna</td>\n",
       "      <td>Dr. Lee</td>\n",
       "      <td>0.0</td>\n",
       "      <td>150.0</td>\n",
       "      <td>45 - Charge exceeds fee schedule</td>\n",
       "      <td>45</td>\n",
       "      <td>Charge exceeds fee schedule</td>\n",
       "    </tr>\n",
       "    <tr>\n",
       "      <th>23</th>\n",
       "      <td>24</td>\n",
       "      <td>93000</td>\n",
       "      <td>UnitedHealthcare</td>\n",
       "      <td>Dr. Patel</td>\n",
       "      <td>50.0</td>\n",
       "      <td>0.0</td>\n",
       "      <td>NaN</td>\n",
       "      <td>None</td>\n",
       "      <td>None</td>\n",
       "    </tr>\n",
       "    <tr>\n",
       "      <th>24</th>\n",
       "      <td>25</td>\n",
       "      <td>99212</td>\n",
       "      <td>Blue Cross</td>\n",
       "      <td>Dr. Kim</td>\n",
       "      <td>0.0</td>\n",
       "      <td>75.0</td>\n",
       "      <td>96 - Non-covered service</td>\n",
       "      <td>96</td>\n",
       "      <td>Non-covered service</td>\n",
       "    </tr>\n",
       "    <tr>\n",
       "      <th>25</th>\n",
       "      <td>26</td>\n",
       "      <td>nan</td>\n",
       "      <td>NaN</td>\n",
       "      <td>NaN</td>\n",
       "      <td>NaN</td>\n",
       "      <td>NaN</td>\n",
       "      <td>NaN</td>\n",
       "      <td>None</td>\n",
       "      <td>None</td>\n",
       "    </tr>\n",
       "  </tbody>\n",
       "</table>\n",
       "</div>"
      ],
      "text/plain": [
       "     # CPT Code Insurance Company Physician Name  Payment Amount  Balance  \\\n",
       "21  22    99214             Aetna    Dr. Johnson            80.0     20.0   \n",
       "22  23    99215             Cigna        Dr. Lee             0.0    150.0   \n",
       "23  24    93000  UnitedHealthcare      Dr. Patel            50.0      0.0   \n",
       "24  25    99212        Blue Cross        Dr. Kim             0.0     75.0   \n",
       "25  26      nan               NaN            NaN             NaN      NaN   \n",
       "\n",
       "                       Denial Reason Denial Code           Denial Description  \n",
       "21                               NaN        None                         None  \n",
       "22  45 - Charge exceeds fee schedule          45  Charge exceeds fee schedule  \n",
       "23                               NaN        None                         None  \n",
       "24          96 - Non-covered service          96          Non-covered service  \n",
       "25                               NaN        None                         None  "
      ]
     },
     "execution_count": 20,
     "metadata": {},
     "output_type": "execute_result"
    }
   ],
   "source": [
    "df.tail()"
   ]
  },
  {
   "cell_type": "code",
   "execution_count": 21,
   "metadata": {
    "cell_id": "72f16b73f1ac44178c5b08dc05ee40e6",
    "deepnote_cell_type": "code",
    "execution_context_id": "7785e0f8-c8d5-46fe-9321-13d8453a6968",
    "execution_millis": 0,
    "execution_start": 1756928481795,
    "source_hash": "b541d0d2"
   },
   "outputs": [],
   "source": [
    "df = df.drop(columns=['#'], errors='ignore')\n",
    "key = [\"CPT Code\",\"Insurance Company\",\"Physician Name\",\"Payment Amount\",\"Balance\",\"Denial Reason\"]\n",
    "df[key] = df[key].replace(['', ' ', 'nan', 'NaN', 'None'], pd.NA)\n",
    "df = df[df[key].notna().any(axis=1)].reset_index(drop=True)"
   ]
  },
  {
   "cell_type": "code",
   "execution_count": 22,
   "metadata": {
    "cell_id": "9249224efb7045a6b9c688ec7da251f4",
    "deepnote_cell_type": "code",
    "execution_context_id": "7785e0f8-c8d5-46fe-9321-13d8453a6968",
    "execution_millis": 0,
    "execution_start": 1756928481845,
    "source_hash": "1fad5ffa"
   },
   "outputs": [],
   "source": [
    "df[\"Is_Denied\"] = df.apply(\n",
    "    lambda x: True if pd.notna(x[\"Denial Reason\"]) or (x[\"Payment Amount\"] <= 0 and x[\"Balance\"] > 0)\n",
    "    else False, axis=1\n",
    ")\n"
   ]
  },
  {
   "cell_type": "code",
   "execution_count": 23,
   "metadata": {
    "cell_id": "2be85c895e6e4a84a8f5b31d6c451913",
    "deepnote_cell_type": "code",
    "execution_context_id": "7785e0f8-c8d5-46fe-9321-13d8453a6968",
    "execution_millis": 0,
    "execution_start": 1756928481905,
    "source_hash": "f69cf7a7"
   },
   "outputs": [],
   "source": [
    "def split_denial_reason(x):\n",
    "    if pd.isna(x):\n",
    "        return pd.Series([None, None])\n",
    "    parts = str(x).split(\"-\", 1)\n",
    "    if len(parts) == 2:\n",
    "        return pd.Series([parts[0].strip(), parts[1].strip()])\n",
    "    return pd.Series([parts[0].strip(), None])\n",
    "\n",
    "df[[\"Denial Code\", \"Denial Description\"]] = df[\"Denial Reason\"].apply(split_denial_reason)"
   ]
  },
  {
   "cell_type": "code",
   "execution_count": 24,
   "metadata": {
    "cell_id": "7f870f0125f24fbfa78bf13895e26735",
    "deepnote_cell_type": "code",
    "execution_context_id": "7785e0f8-c8d5-46fe-9321-13d8453a6968",
    "execution_millis": 1,
    "execution_start": 1756928481965,
    "source_hash": "eb333d7f"
   },
   "outputs": [
    {
     "name": "stdout",
     "output_type": "stream",
     "text": [
      "\n",
      "Top Denied CPTs:\n",
      "   CPT Code  total_claims  denied_claims  denial_rate  total_balance\n",
      "1    99212             5              5          1.0          375.0\n",
      "4    99215             5              5          1.0          750.0\n",
      "2    99213             5              5          1.0          500.0\n",
      "0    93000             5              0          0.0            0.0\n",
      "3    99214             5              0          0.0          100.0\n"
     ]
    }
   ],
   "source": [
    "# Top denied CPTs\n",
    "cpt_summary = df.groupby(\"CPT Code\").agg(\n",
    "    total_claims=(\"CPT Code\", \"size\"),\n",
    "    denied_claims=(\"Is_Denied\", \"sum\"),\n",
    "    denial_rate=(\"Is_Denied\", \"mean\"),\n",
    "    total_balance=(\"Balance\", \"sum\")\n",
    ").reset_index().sort_values(\"denied_claims\", ascending=False)\n",
    "\n",
    "print(\"\\nTop Denied CPTs:\\n\", cpt_summary.head())\n"
   ]
  },
  {
   "cell_type": "code",
   "execution_count": 25,
   "metadata": {
    "cell_id": "d080abfb679e49c091e3d979533ff703",
    "deepnote_cell_type": "code",
    "execution_context_id": "7785e0f8-c8d5-46fe-9321-13d8453a6968",
    "execution_millis": 0,
    "execution_start": 1756928482035,
    "source_hash": "400eb63"
   },
   "outputs": [
    {
     "name": "stdout",
     "output_type": "stream",
     "text": [
      "\n",
      "Most Common Denial Reasons:\n",
      " Denial Description\n",
      "Missing information            5\n",
      "Charge exceeds fee schedule    5\n",
      "Non-covered service            5\n",
      "Name: count, dtype: int64\n"
     ]
    }
   ],
   "source": [
    "# Top denial reasons\n",
    "denial_summary = df[\"Denial Description\"].value_counts().head(10)\n",
    "print(\"\\nMost Common Denial Reasons:\\n\", denial_summary)\n"
   ]
  },
  {
   "cell_type": "code",
   "execution_count": 26,
   "metadata": {
    "cell_id": "402d48f5d62c42c6847530387f88d8fe",
    "deepnote_cell_type": "code",
    "execution_context_id": "7785e0f8-c8d5-46fe-9321-13d8453a6968",
    "execution_millis": 0,
    "execution_start": 1756928482095,
    "source_hash": "efa2cc22"
   },
   "outputs": [
    {
     "name": "stdout",
     "output_type": "stream",
     "text": [
      "\n",
      "Denial Rate by Insurance:\n",
      " Insurance Company\n",
      "Blue Cross          1.0\n",
      "Medicare            1.0\n",
      "Cigna               1.0\n",
      "Aetna               0.0\n",
      "UnitedHealthcare    0.0\n",
      "Name: Is_Denied, dtype: float64\n"
     ]
    }
   ],
   "source": [
    "# Denials by Payer\n",
    "payer_summary = df.groupby(\"Insurance Company\")[\"Is_Denied\"].mean().sort_values(ascending=False)\n",
    "print(\"\\nDenial Rate by Insurance:\\n\", payer_summary)\n"
   ]
  },
  {
   "cell_type": "code",
   "execution_count": 27,
   "metadata": {
    "cell_id": "8c18b9b4b5bb42b2ace44d49f21bc201",
    "deepnote_cell_type": "code",
    "execution_context_id": "7785e0f8-c8d5-46fe-9321-13d8453a6968",
    "execution_millis": 241,
    "execution_start": 1756928482168,
    "source_hash": "88306142"
   },
   "outputs": [
    {
     "data": {
      "image/png": "[encoded data removed]",
      "text/plain": [
       "<Figure size 1000x600 with 2 Axes>"
      ]
     },
     "metadata": {
      "image/png": {
       "height": 547,
       "width": 884
      }
     },
     "output_type": "display_data"
    }
   ],
   "source": [
    "import seaborn as sns\n",
    "pivot = df.pivot_table(index=\"Insurance Company\", columns=\"CPT Code\", values=\"Is_Denied\", aggfunc=\"mean\")\n",
    "plt.figure(figsize=(10,6))\n",
    "sns.heatmap(pivot, annot=True, fmt=\".2f\", cmap=\"Reds\")\n",
    "plt.title(\"Denial Rates by Payer and CPT\")\n",
    "plt.show()\n"
   ]
  },
  {
   "cell_type": "code",
   "execution_count": 28,
   "metadata": {
    "cell_id": "aef850c5bea8457ea541d7974f4472ad",
    "deepnote_cell_type": "code",
    "execution_context_id": "7785e0f8-c8d5-46fe-9321-13d8453a6968",
    "execution_millis": 278,
    "execution_start": 1756928482469,
    "source_hash": "6873f356"
   },
   "outputs": [
    {
     "data": {
      "image/png": "[encoded data removed]",
      "text/plain": [
       "<Figure size 700x500 with 1 Axes>"
      ]
     },
     "metadata": {
      "image/png": {
       "height": 470,
       "width": 609
      }
     },
     "output_type": "display_data"
    },
    {
     "data": {
      "image/png": "[encoded data removed]",
      "text/plain": [
       "<Figure size 700x500 with 1 Axes>"
      ]
     },
     "metadata": {
      "image/png": {
       "height": 470,
       "width": 600
      }
     },
     "output_type": "display_data"
    }
   ],
   "source": [
    "# Histogram for Payment Amount\n",
    "plt.figure(figsize=(7,5))\n",
    "sns.histplot(df['Payment Amount'], kde=True, bins=20)\n",
    "plt.title(\"Distribution of Payment Amounts\")\n",
    "plt.show()\n",
    "\n",
    "# Histogram for Balance\n",
    "plt.figure(figsize=(7,5))\n",
    "sns.histplot(df['Balance'], kde=True, bins=20)\n",
    "plt.title(\"Distribution of Balances\")\n",
    "plt.show()"
   ]
  },
  {
   "cell_type": "code",
   "execution_count": 29,
   "metadata": {
    "cell_id": "ed8ea84ec3994ef7a5395508b4f842f2",
    "deepnote_cell_type": "code",
    "execution_context_id": "7785e0f8-c8d5-46fe-9321-13d8453a6968",
    "execution_millis": 100,
    "execution_start": 1756928482795,
    "source_hash": "d900abe4"
   },
   "outputs": [
    {
     "data": {
      "image/png": "[encoded data removed]",
      "text/plain": [
       "<Figure size 800x500 with 1 Axes>"
      ]
     },
     "metadata": {
      "image/png": {
       "height": 691,
       "width": 678
      }
     },
     "output_type": "display_data"
    }
   ],
   "source": [
    "df[\"Denial Reason\"].value_counts().plot(kind=\"bar\", figsize=(8,5), color=\"coral\")\n",
    "plt.title(\"Denial Reasons Distribution\")\n",
    "plt.ylabel(\"Number of Claims\")\n",
    "plt.show()"
   ]
  },
  {
   "cell_type": "code",
   "execution_count": 30,
   "metadata": {
    "cell_id": "16bbf2beca9c4783ab59151062238bcb",
    "deepnote_cell_type": "code",
    "execution_context_id": "7785e0f8-c8d5-46fe-9321-13d8453a6968",
    "execution_millis": 77,
    "execution_start": 1756928482961,
    "source_hash": "a4f5fd2"
   },
   "outputs": [
    {
     "data": {
      "image/png": "[encoded data removed]",
      "text/plain": [
       "<Figure size 800x500 with 1 Axes>"
      ]
     },
     "metadata": {
      "image/png": {
       "height": 578,
       "width": 691
      }
     },
     "output_type": "display_data"
    }
   ],
   "source": [
    "denial_rate_by_payer = df.groupby(\"Insurance Company\")[\"Is_Denied\"].mean().sort_values(ascending=False)\n",
    "denial_rate_by_payer.plot(kind=\"bar\", figsize=(8,5), color=\"salmon\")\n",
    "plt.title(\"Denial Rate by Payer\")\n",
    "plt.ylabel(\"Denial Rate\")\n",
    "plt.show()\n"
   ]
  },
  {
   "cell_type": "code",
   "execution_count": 31,
   "metadata": {
    "cell_id": "7248103ab704466fbfc22ded149c1251",
    "deepnote_cell_type": "code",
    "execution_context_id": "7785e0f8-c8d5-46fe-9321-13d8453a6968",
    "execution_millis": 240,
    "execution_start": 1756928483105,
    "source_hash": "70f6278b"
   },
   "outputs": [
    {
     "data": {
      "image/png": "[encoded data removed]",
      "text/plain": [
       "<Figure size 700x500 with 1 Axes>"
      ]
     },
     "metadata": {
      "image/png": {
       "height": 470,
       "width": 609
      }
     },
     "output_type": "display_data"
    },
    {
     "data": {
      "image/png": "[encoded data removed]",
      "text/plain": [
       "<Figure size 700x500 with 1 Axes>"
      ]
     },
     "metadata": {
      "image/png": {
       "height": 470,
       "width": 600
      }
     },
     "output_type": "display_data"
    }
   ],
   "source": [
    "# Histogram for Payment Amount\n",
    "plt.figure(figsize=(7,5))\n",
    "sns.histplot(df['Payment Amount'], kde=True, bins=20)\n",
    "plt.title(\"Distribution of Payment Amounts\")\n",
    "plt.show()\n",
    "\n",
    "# Histogram for Balance\n",
    "plt.figure(figsize=(7,5))\n",
    "sns.histplot(df['Balance'], kde=True, bins=20)\n",
    "plt.title(\"Distribution of Balances\")\n",
    "plt.show()\n"
   ]
  },
  {
   "cell_type": "code",
   "execution_count": 32,
   "metadata": {
    "cell_id": "cd74f412b67941ebbc036cdccd6653db",
    "deepnote_cell_type": "code",
    "execution_context_id": "7785e0f8-c8d5-46fe-9321-13d8453a6968",
    "execution_millis": 113,
    "execution_start": 1756928483395,
    "source_hash": "fa49b971"
   },
   "outputs": [
    {
     "name": "stdout",
     "output_type": "stream",
     "text": [
      "\n",
      "Average Payment per Insurance Company:\n",
      " Insurance Company\n",
      "Aetna               80.0\n",
      "UnitedHealthcare    50.0\n",
      "Blue Cross           0.0\n",
      "Cigna                0.0\n",
      "Medicare             0.0\n",
      "Name: Payment Amount, dtype: float64\n"
     ]
    },
    {
     "data": {
      "image/png": "[encoded data removed]",
      "text/plain": [
       "<Figure size 800x500 with 1 Axes>"
      ]
     },
     "metadata": {
      "image/png": {
       "height": 578,
       "width": 686
      }
     },
     "output_type": "display_data"
    }
   ],
   "source": [
    "avg_payment = df.groupby(\"Insurance Company\")[\"Payment Amount\"].mean().sort_values(ascending=False)\n",
    "print(\"\\nAverage Payment per Insurance Company:\\n\", avg_payment)\n",
    "\n",
    "# Visualization\n",
    "plt.figure(figsize=(8,5))\n",
    "avg_payment.plot(kind=\"bar\", color=\"skyblue\")\n",
    "plt.title(\"Average Payment by Insurance Company\")\n",
    "plt.ylabel(\"Average Payment\")\n",
    "plt.show()"
   ]
  },
  {
   "cell_type": "code",
   "execution_count": 33,
   "metadata": {
    "cell_id": "a064a8d6d6ad49ef83fba49aac40c2ca",
    "deepnote_cell_type": "code",
    "execution_context_id": "7785e0f8-c8d5-46fe-9321-13d8453a6968",
    "execution_millis": 0,
    "execution_start": 1756928483560,
    "source_hash": "2dc54017"
   },
   "outputs": [
    {
     "name": "stdout",
     "output_type": "stream",
     "text": [
      "\n",
      "Denial Reasons:\n",
      " Denial Reason\n",
      "16 - Missing information            5\n",
      "45 - Charge exceeds fee schedule    5\n",
      "96 - Non-covered service            5\n",
      "Name: count, dtype: int64\n",
      " Total denial reason in dataset -  15\n"
     ]
    }
   ],
   "source": [
    "\n",
    "denial_counts = df[\"Denial Reason\"].value_counts()\n",
    "print(\"\\nDenial Reasons:\\n\", denial_counts)\n",
    "print( \" Total denial reason in dataset - \" , df[\"Denial Reason\"].count())"
   ]
  },
  {
   "cell_type": "code",
   "execution_count": 34,
   "metadata": {
    "cell_id": "d91d96aac36b43d8b754bf5fc56bd45d",
    "deepnote_cell_type": "code",
    "execution_context_id": "7785e0f8-c8d5-46fe-9321-13d8453a6968",
    "execution_millis": 1,
    "execution_start": 1756928483625,
    "source_hash": "79bbd1b7"
   },
   "outputs": [
    {
     "name": "stdout",
     "output_type": "stream",
     "text": [
      "\n",
      "Total claims: 25, Denied claims: 15, Denial rate: 60.00%\n"
     ]
    }
   ],
   "source": [
    "total_claims = len(df)\n",
    "denied_claims = df[\"Is_Denied\"].sum()\n",
    "denial_rate = denied_claims / total_claims\n",
    "print(f\"\\nTotal claims: {total_claims}, Denied claims: {denied_claims}, Denial rate: {denial_rate:.2%}\")"
   ]
  },
  {
   "cell_type": "code",
   "execution_count": 35,
   "metadata": {
    "cell_id": "7da19ad4f9334e47999d05a626f9fcda",
    "deepnote_cell_type": "code",
    "execution_context_id": "7785e0f8-c8d5-46fe-9321-13d8453a6968",
    "execution_millis": 0,
    "execution_start": 1756928483685,
    "source_hash": "30d016ce"
   },
   "outputs": [
    {
     "name": "stdout",
     "output_type": "stream",
     "text": [
      "\n",
      "Unique values in CPT Code:\n",
      "['99213' '99214' '99215' '93000' '99212']\n",
      "\n",
      "Unique values in Insurance Company:\n",
      "['Medicare' 'Aetna' 'Cigna' 'UnitedHealthcare' 'Blue Cross']\n",
      "\n",
      "Unique values in Physician Name:\n",
      "['Dr. Smith' 'Dr. Johnson' 'Dr. Lee' 'Dr. Patel' 'Dr. Kim']\n",
      "\n",
      "Unique values in Denial Reason:\n",
      "['16 - Missing information' nan '45 - Charge exceeds fee schedule'\n",
      " '96 - Non-covered service']\n"
     ]
    }
   ],
   "source": [
    "for col in ['CPT Code', 'Insurance Company', 'Physician Name', 'Denial Reason']:\n",
    "    print(f\"\\nUnique values in {col}:\")\n",
    "    print(df[col].unique())"
   ]
  },
  {
   "cell_type": "code",
   "execution_count": 36,
   "metadata": {
    "cell_id": "2067b7ea5d6f4b169efc019e505fc0a7",
    "deepnote_cell_type": "code",
    "execution_context_id": "7785e0f8-c8d5-46fe-9321-13d8453a6968",
    "execution_millis": 0,
    "execution_start": 1756928483745,
    "source_hash": "838c0c28"
   },
   "outputs": [
    {
     "data": {
      "application/vnd.deepnote.dataframe.v3+json": {
       "column_count": 9,
       "columns": [
        {
         "dtype": "object",
         "name": "CPT Code",
         "stats": {
          "categories": [
           {
            "count": 1,
            "name": "99213"
           },
           {
            "count": 1,
            "name": "99214"
           },
           {
            "count": 3,
            "name": "3 others"
           }
          ],
          "histogram": null,
          "max": null,
          "min": null,
          "nan_count": 0,
          "unique_count": 5
         }
        },
        {
         "dtype": "object",
         "name": "Insurance Company",
         "stats": {
          "categories": [
           {
            "count": 1,
            "name": "Medicare"
           },
           {
            "count": 1,
            "name": "Aetna"
           },
           {
            "count": 3,
            "name": "3 others"
           }
          ],
          "histogram": null,
          "max": null,
          "min": null,
          "nan_count": 0,
          "unique_count": 5
         }
        },
        {
         "dtype": "object",
         "name": "Physician Name",
         "stats": {
          "categories": [
           {
            "count": 1,
            "name": "Dr. Smith"
           },
           {
            "count": 1,
            "name": "Dr. Johnson"
           },
           {
            "count": 3,
            "name": "3 others"
           }
          ],
          "histogram": null,
          "max": null,
          "min": null,
          "nan_count": 0,
          "unique_count": 5
         }
        },
        {
         "dtype": "float64",
         "name": "Payment Amount",
         "stats": {
          "categories": null,
          "histogram": [
           {
            "bin_end": 8,
            "bin_start": 0,
            "count": 3
           },
           {
            "bin_end": 16,
            "bin_start": 8,
            "count": 0
           },
           {
            "bin_end": 24,
            "bin_start": 16,
            "count": 0
           },
           {
            "bin_end": 32,
            "bin_start": 24,
            "count": 0
           },
           {
            "bin_end": 40,
            "bin_start": 32,
            "count": 0
           },
           {
            "bin_end": 48,
            "bin_start": 40,
            "count": 0
           },
           {
            "bin_end": 56,
            "bin_start": 48,
            "count": 1
           },
           {
            "bin_end": 64,
            "bin_start": 56,
            "count": 0
           },
           {
            "bin_end": 72,
            "bin_start": 64,
            "count": 0
           },
           {
            "bin_end": 80,
            "bin_start": 72,
            "count": 1
           }
          ],
          "max": "80.0",
          "min": "0.0",
          "nan_count": 0,
          "unique_count": 3
         }
        },
        {
         "dtype": "float64",
         "name": "Balance",
         "stats": {
          "categories": null,
          "histogram": [
           {
            "bin_end": 15,
            "bin_start": 0,
            "count": 1
           },
           {
            "bin_end": 30,
            "bin_start": 15,
            "count": 1
           },
           {
            "bin_end": 45,
            "bin_start": 30,
            "count": 0
           },
           {
            "bin_end": 60,
            "bin_start": 45,
            "count": 0
           },
           {
            "bin_end": 75,
            "bin_start": 60,
            "count": 0
           },
           {
            "bin_end": 90,
            "bin_start": 75,
            "count": 1
           },
           {
            "bin_end": 105,
            "bin_start": 90,
            "count": 1
           },
           {
            "bin_end": 120,
            "bin_start": 105,
            "count": 0
           },
           {
            "bin_end": 135,
            "bin_start": 120,
            "count": 0
           },
           {
            "bin_end": 150,
            "bin_start": 135,
            "count": 1
           }
          ],
          "max": "150.0",
          "min": "0.0",
          "nan_count": 0,
          "unique_count": 5
         }
        },
        {
         "dtype": "object",
         "name": "Denial Reason",
         "stats": {
          "categories": [
           {
            "count": 1,
            "name": "16 - Missing information"
           },
           {
            "count": 2,
            "name": "2 others"
           },
           {
            "count": 2,
            "name": "Missing"
           }
          ],
          "histogram": null,
          "max": null,
          "min": null,
          "nan_count": 2,
          "unique_count": 3
         }
        },
        {
         "dtype": "object",
         "name": "Denial Code",
         "stats": {
          "categories": [
           {
            "count": 1,
            "name": "16"
           },
           {
            "count": 2,
            "name": "2 others"
           },
           {
            "count": 2,
            "name": "Missing"
           }
          ],
          "histogram": null,
          "max": null,
          "min": null,
          "nan_count": 2,
          "unique_count": 3
         }
        },
        {
         "dtype": "object",
         "name": "Denial Description",
         "stats": {
          "categories": [
           {
            "count": 1,
            "name": "Missing information"
           },
           {
            "count": 2,
            "name": "2 others"
           },
           {
            "count": 2,
            "name": "Missing"
           }
          ],
          "histogram": null,
          "max": null,
          "min": null,
          "nan_count": 2,
          "unique_count": 3
         }
        },
        {
         "dtype": "bool",
         "name": "Is_Denied",
         "stats": {
          "categories": [
           {
            "count": 3,
            "name": "True"
           },
           {
            "count": 2,
            "name": "False"
           }
          ],
          "histogram": null,
          "max": null,
          "min": null,
          "nan_count": 0,
          "unique_count": 2
         }
        },
        {
         "dtype": "int64",
         "name": "_deepnote_index_column"
        }
       ],
       "preview_row_count": 5,
       "row_count": 5,
       "rows": [
        {
         "Balance": 100,
         "CPT Code": "99213",
         "Denial Code": "16",
         "Denial Description": "Missing information",
         "Denial Reason": "16 - Missing information",
         "Insurance Company": "Medicare",
         "Is_Denied": "True",
         "Payment Amount": 0,
         "Physician Name": "Dr. Smith",
         "_deepnote_index_column": 20
        },
        {
         "Balance": 20,
         "CPT Code": "99214",
         "Denial Code": "None",
         "Denial Description": "None",
         "Denial Reason": "nan",
         "Insurance Company": "Aetna",
         "Is_Denied": "False",
         "Payment Amount": 80,
         "Physician Name": "Dr. Johnson",
         "_deepnote_index_column": 21
        },
        {
         "Balance": 150,
         "CPT Code": "99215",
         "Denial Code": "45",
         "Denial Description": "Charge exceeds fee schedule",
         "Denial Reason": "45 - Charge exceeds fee schedule",
         "Insurance Company": "Cigna",
         "Is_Denied": "True",
         "Payment Amount": 0,
         "Physician Name": "Dr. Lee",
         "_deepnote_index_column": 22
        },
        {
         "Balance": 0,
         "CPT Code": "93000",
         "Denial Code": "None",
         "Denial Description": "None",
         "Denial Reason": "nan",
         "Insurance Company": "UnitedHealthcare",
         "Is_Denied": "False",
         "Payment Amount": 50,
         "Physician Name": "Dr. Patel",
         "_deepnote_index_column": 23
        },
        {
         "Balance": 75,
         "CPT Code": "99212",
         "Denial Code": "96",
         "Denial Description": "Non-covered service",
         "Denial Reason": "96 - Non-covered service",
         "Insurance Company": "Blue Cross",
         "Is_Denied": "True",
         "Payment Amount": 0,
         "Physician Name": "Dr. Kim",
         "_deepnote_index_column": 24
        }
       ],
       "type": "dataframe"
      },
      "text/html": [
       "<div>\n",
       "<style scoped>\n",
       "    .dataframe tbody tr th:only-of-type {\n",
       "        vertical-align: middle;\n",
       "    }\n",
       "\n",
       "    .dataframe tbody tr th {\n",
       "        vertical-align: top;\n",
       "    }\n",
       "\n",
       "    .dataframe thead th {\n",
       "        text-align: right;\n",
       "    }\n",
       "</style>\n",
       "<table border=\"1\" class=\"dataframe\">\n",
       "  <thead>\n",
       "    <tr style=\"text-align: right;\">\n",
       "      <th></th>\n",
       "      <th>CPT Code</th>\n",
       "      <th>Insurance Company</th>\n",
       "      <th>Physician Name</th>\n",
       "      <th>Payment Amount</th>\n",
       "      <th>Balance</th>\n",
       "      <th>Denial Reason</th>\n",
       "      <th>Denial Code</th>\n",
       "      <th>Denial Description</th>\n",
       "      <th>Is_Denied</th>\n",
       "    </tr>\n",
       "  </thead>\n",
       "  <tbody>\n",
       "    <tr>\n",
       "      <th>20</th>\n",
       "      <td>99213</td>\n",
       "      <td>Medicare</td>\n",
       "      <td>Dr. Smith</td>\n",
       "      <td>0.0</td>\n",
       "      <td>100.0</td>\n",
       "      <td>16 - Missing information</td>\n",
       "      <td>16</td>\n",
       "      <td>Missing information</td>\n",
       "      <td>True</td>\n",
       "    </tr>\n",
       "    <tr>\n",
       "      <th>21</th>\n",
       "      <td>99214</td>\n",
       "      <td>Aetna</td>\n",
       "      <td>Dr. Johnson</td>\n",
       "      <td>80.0</td>\n",
       "      <td>20.0</td>\n",
       "      <td>NaN</td>\n",
       "      <td>None</td>\n",
       "      <td>None</td>\n",
       "      <td>False</td>\n",
       "    </tr>\n",
       "    <tr>\n",
       "      <th>22</th>\n",
       "      <td>99215</td>\n",
       "      <td>Cigna</td>\n",
       "      <td>Dr. Lee</td>\n",
       "      <td>0.0</td>\n",
       "      <td>150.0</td>\n",
       "      <td>45 - Charge exceeds fee schedule</td>\n",
       "      <td>45</td>\n",
       "      <td>Charge exceeds fee schedule</td>\n",
       "      <td>True</td>\n",
       "    </tr>\n",
       "    <tr>\n",
       "      <th>23</th>\n",
       "      <td>93000</td>\n",
       "      <td>UnitedHealthcare</td>\n",
       "      <td>Dr. Patel</td>\n",
       "      <td>50.0</td>\n",
       "      <td>0.0</td>\n",
       "      <td>NaN</td>\n",
       "      <td>None</td>\n",
       "      <td>None</td>\n",
       "      <td>False</td>\n",
       "    </tr>\n",
       "    <tr>\n",
       "      <th>24</th>\n",
       "      <td>99212</td>\n",
       "      <td>Blue Cross</td>\n",
       "      <td>Dr. Kim</td>\n",
       "      <td>0.0</td>\n",
       "      <td>75.0</td>\n",
       "      <td>96 - Non-covered service</td>\n",
       "      <td>96</td>\n",
       "      <td>Non-covered service</td>\n",
       "      <td>True</td>\n",
       "    </tr>\n",
       "  </tbody>\n",
       "</table>\n",
       "</div>"
      ],
      "text/plain": [
       "   CPT Code Insurance Company Physician Name  Payment Amount  Balance  \\\n",
       "20    99213          Medicare      Dr. Smith             0.0    100.0   \n",
       "21    99214             Aetna    Dr. Johnson            80.0     20.0   \n",
       "22    99215             Cigna        Dr. Lee             0.0    150.0   \n",
       "23    93000  UnitedHealthcare      Dr. Patel            50.0      0.0   \n",
       "24    99212        Blue Cross        Dr. Kim             0.0     75.0   \n",
       "\n",
       "                       Denial Reason Denial Code           Denial Description  \\\n",
       "20          16 - Missing information          16          Missing information   \n",
       "21                               NaN        None                         None   \n",
       "22  45 - Charge exceeds fee schedule          45  Charge exceeds fee schedule   \n",
       "23                               NaN        None                         None   \n",
       "24          96 - Non-covered service          96          Non-covered service   \n",
       "\n",
       "    Is_Denied  \n",
       "20       True  \n",
       "21      False  \n",
       "22       True  \n",
       "23      False  \n",
       "24       True  "
      ]
     },
     "execution_count": 36,
     "metadata": {},
     "output_type": "execute_result"
    }
   ],
   "source": [
    "df.tail()"
   ]
  },
  {
   "cell_type": "code",
   "execution_count": 37,
   "metadata": {
    "cell_id": "a7f34cb191c64ffc9967726b75c450fc",
    "deepnote_cell_type": "code",
    "execution_context_id": "7785e0f8-c8d5-46fe-9321-13d8453a6968",
    "execution_millis": 0,
    "execution_start": 1756928483795,
    "source_hash": "68750800"
   },
   "outputs": [
    {
     "name": "stdout",
     "output_type": "stream",
     "text": [
      "\n",
      "Missing values:\n",
      " CPT Code               0\n",
      "Insurance Company      0\n",
      "Physician Name         0\n",
      "Payment Amount         0\n",
      "Balance                0\n",
      "Denial Reason         10\n",
      "Denial Code           10\n",
      "Denial Description    10\n",
      "Is_Denied              0\n",
      "dtype: int64\n"
     ]
    }
   ],
   "source": [
    "print(\"\\nMissing values:\\n\", df.isnull().sum())"
   ]
  },
  {
   "cell_type": "code",
   "execution_count": 38,
   "metadata": {
    "cell_id": "655f1a551d1e4a9c82f4df22afae81ff",
    "deepnote_cell_type": "code",
    "execution_context_id": "7785e0f8-c8d5-46fe-9321-13d8453a6968",
    "execution_millis": 0,
    "execution_start": 1756928483845,
    "source_hash": "9e5a2051"
   },
   "outputs": [
    {
     "data": {
      "text/plain": [
       "array(['16 - Missing information', nan,\n",
       "       '45 - Charge exceeds fee schedule', '96 - Non-covered service'],\n",
       "      dtype=object)"
      ]
     },
     "execution_count": 38,
     "metadata": {},
     "output_type": "execute_result"
    }
   ],
   "source": [
    "df['Denial Reason'].unique()"
   ]
  },
  {
   "cell_type": "code",
   "execution_count": 39,
   "metadata": {
    "cell_id": "6dbe450313f24f81af73d3a8b76b170f",
    "deepnote_cell_type": "code",
    "execution_context_id": "7785e0f8-c8d5-46fe-9321-13d8453a6968",
    "execution_millis": 0,
    "execution_start": 1756928483895,
    "source_hash": "61a8023"
   },
   "outputs": [
    {
     "name": "stdout",
     "output_type": "stream",
     "text": [
      "Insurance Company\n",
      "Aetna               80.0\n",
      "UnitedHealthcare    50.0\n",
      "Blue Cross           0.0\n",
      "Cigna                0.0\n",
      "Medicare             0.0\n",
      "Name: Payment Amount, dtype: float64\n"
     ]
    }
   ],
   "source": [
    "avg_payment = df.groupby(\"Insurance Company\")[\"Payment Amount\"].mean().sort_values(ascending=False)\n",
    "print(avg_payment)"
   ]
  },
  {
   "cell_type": "code",
   "execution_count": 40,
   "metadata": {
    "cell_id": "93b1070f8ff64ef1ac48e6974c6e130d",
    "deepnote_cell_type": "code",
    "execution_context_id": "7785e0f8-c8d5-46fe-9321-13d8453a6968",
    "execution_millis": 1,
    "execution_start": 1756928483962,
    "source_hash": "238036b"
   },
   "outputs": [
    {
     "name": "stdout",
     "output_type": "stream",
     "text": [
      "Denial Reason\n",
      "16 - Missing information            5\n",
      "45 - Charge exceeds fee schedule    5\n",
      "96 - Non-covered service            5\n",
      "Name: count, dtype: int64\n"
     ]
    }
   ],
   "source": [
    "denial_counts = df[\"Denial Reason\"].value_counts()\n",
    "print(denial_counts)"
   ]
  },
  {
   "cell_type": "code",
   "execution_count": 41,
   "metadata": {
    "cell_id": "b23ac3fe96564a29bc39fcd8de9a5df8",
    "deepnote_cell_type": "code",
    "execution_context_id": "7785e0f8-c8d5-46fe-9321-13d8453a6968",
    "execution_millis": 1,
    "execution_start": 1756928484025,
    "source_hash": "cc94b0cf"
   },
   "outputs": [
    {
     "name": "stdout",
     "output_type": "stream",
     "text": [
      "['99213' '99214' '99215' '93000' '99212']\n",
      "['Medicare' 'Aetna' 'Cigna' 'UnitedHealthcare' 'Blue Cross']\n",
      "['Dr. Smith' 'Dr. Johnson' 'Dr. Lee' 'Dr. Patel' 'Dr. Kim']\n",
      "['16 - Missing information' nan '45 - Charge exceeds fee schedule'\n",
      " '96 - Non-covered service']\n"
     ]
    }
   ],
   "source": [
    "for col in ['CPT Code', 'Insurance Company', 'Physician Name', 'Denial Reason']:\n",
    "    print(df[col].unique())"
   ]
  },
  {
   "cell_type": "code",
   "execution_count": 42,
   "metadata": {
    "cell_id": "de9d1fa3d49e400b8c57d8d43ecb9340",
    "deepnote_cell_type": "code",
    "execution_context_id": "7785e0f8-c8d5-46fe-9321-13d8453a6968",
    "execution_millis": 1,
    "execution_start": 1756928484085,
    "source_hash": "9825df"
   },
   "outputs": [
    {
     "name": "stdout",
     "output_type": "stream",
     "text": [
      "CPT Code               0\n",
      "Insurance Company      0\n",
      "Physician Name         0\n",
      "Payment Amount         0\n",
      "Balance                0\n",
      "Denial Reason         10\n",
      "Denial Code           10\n",
      "Denial Description    10\n",
      "Is_Denied              0\n",
      "dtype: int64\n"
     ]
    }
   ],
   "source": [
    "print(df.isnull().sum())\n"
   ]
  },
  {
   "cell_type": "code",
   "execution_count": 43,
   "metadata": {
    "cell_id": "49c6ab5ffab047e9be75f5372b93fb3d",
    "deepnote_cell_type": "code",
    "execution_context_id": "7785e0f8-c8d5-46fe-9321-13d8453a6968",
    "execution_millis": 80,
    "execution_start": 1756928484145,
    "source_hash": "cd9cb733"
   },
   "outputs": [],
   "source": [
    "from sklearn.pipeline import Pipeline\n",
    "from sklearn.impute import SimpleImputer\n",
    "from sklearn.compose import ColumnTransformer\n",
    "from sklearn.preprocessing import OneHotEncoder\n",
    "\n",
    "# Define categorical and numeric columns\n",
    "categorical_cols = [\"CPT Code\", \"Insurance Company\", \"Physician Name\"]\n",
    "numeric_cols = [\"Payment Amount\", \"Balance\"]\n",
    "\n",
    "# Preprocess pipeline for categorical data\n",
    "categorical_transformer = Pipeline(steps=[\n",
    "    (\"imputer\", SimpleImputer(strategy=\"most_frequent\")),\n",
    "    (\"onehot\", OneHotEncoder(handle_unknown=\"ignore\"))\n",
    "])\n",
    "\n",
    "# Preprocess pipeline for numeric data\n",
    "numeric_transformer = Pipeline(steps=[\n",
    "    (\"imputer\", SimpleImputer(strategy=\"median\"))\n",
    "])\n",
    "\n",
    "# Combine into a ColumnTransformer\n",
    "preprocessor = ColumnTransformer(\n",
    "    transformers=[\n",
    "        (\"cat\", categorical_transformer, categorical_cols),\n",
    "        (\"num\", numeric_transformer, numeric_cols)\n",
    "    ]\n",
    ")"
   ]
  },
  {
   "cell_type": "code",
   "execution_count": 44,
   "metadata": {
    "cell_id": "ba0442477c2e4e20b2066dc109aa9141",
    "deepnote_cell_type": "code",
    "execution_context_id": "7785e0f8-c8d5-46fe-9321-13d8453a6968",
    "execution_millis": 0,
    "execution_start": 1756928484275,
    "source_hash": "ee877f71"
   },
   "outputs": [],
   "source": [
    "from sklearn.preprocessing import LabelEncoder\n",
    "from sklearn.compose import ColumnTransformer\n",
    "from sklearn.linear_model import LogisticRegression\n",
    "from sklearn.metrics import classification_report, confusion_matrix, accuracy_score\n",
    "\n",
    "\n",
    "# Features and target\n",
    "X = df[[\"CPT Code\", \"Insurance Company\", \"Physician Name\", \"Payment Amount\", \"Balance\"]]\n",
    "# Ensure target has no NaN values\n",
    "df[\"Denial Reason\"] = df[\"Denial Reason\"].fillna(\"No Denial\").astype(str)\n",
    "\n",
    "# Then encode\n",
    "le_target = LabelEncoder()\n",
    "y = le_target.fit_transform(df[\"Denial Reason\"])\n",
    "\n",
    "# Define categorical and numeric columns\n",
    "categorical_cols = [\"CPT Code\", \"Insurance Company\", \"Physician Name\"]\n",
    "numeric_cols = [\"Payment Amount\", \"Balance\"]\n",
    "\n",
    "\n",
    "# Final model pipeline\n",
    "logreg_model = Pipeline(steps=[\n",
    "    (\"preprocessor\", preprocessor),\n",
    "    (\"classifier\", LogisticRegression(max_iter=1000,random_state=42, class_weight=\"balanced\"))\n",
    "])\n"
   ]
  },
  {
   "cell_type": "code",
   "execution_count": 45,
   "metadata": {
    "cell_id": "1b6e4cfeda3e46fcbafa08d5df58be62",
    "deepnote_cell_type": "code",
    "execution_context_id": "7785e0f8-c8d5-46fe-9321-13d8453a6968",
    "execution_millis": 71,
    "execution_start": 1756928484335,
    "source_hash": "66a6af44"
   },
   "outputs": [
    {
     "name": "stdout",
     "output_type": "stream",
     "text": [
      "Accuracy: 1.0\n",
      "\n",
      "Classification Report:\n",
      "                                   precision    recall  f1-score   support\n",
      "\n",
      "        16 - Missing information       1.00      1.00      1.00         1\n",
      "45 - Charge exceeds fee schedule       1.00      1.00      1.00         2\n",
      "        96 - Non-covered service       1.00      1.00      1.00         2\n",
      "                       No Denial       1.00      1.00      1.00         3\n",
      "\n",
      "                        accuracy                           1.00         8\n",
      "                       macro avg       1.00      1.00      1.00         8\n",
      "                    weighted avg       1.00      1.00      1.00         8\n",
      "\n",
      "\n",
      "Confusion Matrix:\n",
      " [[1 0 0 0]\n",
      " [0 2 0 0]\n",
      " [0 0 2 0]\n",
      " [0 0 0 3]]\n"
     ]
    }
   ],
   "source": [
    "from sklearn.model_selection import train_test_split\n",
    "\n",
    "X_train, X_test, y_train, y_test = train_test_split(\n",
    "    X, y, test_size=0.3, random_state=42, stratify=y\n",
    ")\n",
    "\n",
    "# Fit the pipeline (preprocessing + model) to training data\n",
    "logreg_model.fit(X_train, y_train)\n",
    "\n",
    "# Predict on test data\n",
    "y_pred = logreg_model.predict(X_test)\n",
    "\n",
    "# Evaluate performance\n",
    "print(\"Accuracy:\", accuracy_score(y_test, y_pred))\n",
    "print(\"\\nClassification Report:\\n\", classification_report(y_test, y_pred, target_names=le_target.classes_))\n",
    "print(\"\\nConfusion Matrix:\\n\", confusion_matrix(y_test, y_pred))\n"
   ]
  },
  {
   "cell_type": "code",
   "execution_count": 46,
   "metadata": {
    "cell_id": "ae46562520a340a0be93c2f570e818ca",
    "deepnote_cell_type": "code",
    "execution_context_id": "7785e0f8-c8d5-46fe-9321-13d8453a6968",
    "execution_millis": 506,
    "execution_start": 1756928484476,
    "source_hash": "c7f05686"
   },
   "outputs": [
    {
     "name": "stdout",
     "output_type": "stream",
     "text": [
      "Cross-validation scores: [1. 1. 1. 1. 1.]\n",
      "Average CV accuracy: 1.0\n"
     ]
    }
   ],
   "source": [
    "from sklearn.model_selection import cross_val_score\n",
    "\n",
    "scores = cross_val_score(logreg_model, X, y, cv=5, scoring='accuracy')\n",
    "print(\"Cross-validation scores:\", scores)\n",
    "print(\"Average CV accuracy:\", scores.mean())\n"
   ]
  },
  {
   "cell_type": "code",
   "execution_count": 47,
   "metadata": {
    "cell_id": "efae54b668ba4513bf2be3b91ebcffaa",
    "deepnote_cell_type": "code",
    "execution_context_id": "7785e0f8-c8d5-46fe-9321-13d8453a6968",
    "execution_millis": 2880,
    "execution_start": 1756928485035,
    "source_hash": "c505e00"
   },
   "outputs": [
    {
     "name": "stdout",
     "output_type": "stream",
     "text": [
      "Requirement already satisfied: xgboost==3.0.4 in /root/venv/lib/python3.10/site-packages (3.0.4)\n",
      "Requirement already satisfied: numpy in /root/venv/lib/python3.10/site-packages (from xgboost==3.0.4) (1.25.2)\n",
      "Requirement already satisfied: nvidia-nccl-cu12 in /root/venv/lib/python3.10/site-packages (from xgboost==3.0.4) (2.27.7)\n",
      "Requirement already satisfied: scipy in /root/venv/lib/python3.10/site-packages (from xgboost==3.0.4) (1.9.3)\n",
      "\n",
      "\u001b[1m[\u001b[0m\u001b[34;49mnotice\u001b[0m\u001b[1;39;49m]\u001b[0m\u001b[39;49m A new release of pip is available: \u001b[0m\u001b[31;49m23.0.1\u001b[0m\u001b[39;49m -> \u001b[0m\u001b[32;49m25.2\u001b[0m\n",
      "\u001b[1m[\u001b[0m\u001b[34;49mnotice\u001b[0m\u001b[1;39;49m]\u001b[0m\u001b[39;49m To update, run: \u001b[0m\u001b[32;49mpip install --upgrade pip\u001b[0m\n"
     ]
    }
   ],
   "source": [
    "!pip install xgboost==3.0.4"
   ]
  },
  {
   "cell_type": "code",
   "execution_count": 48,
   "metadata": {
    "cell_id": "bda876618e6048038294679f3b2d9916",
    "deepnote_cell_type": "code",
    "execution_context_id": "7785e0f8-c8d5-46fe-9321-13d8453a6968",
    "execution_millis": 365,
    "execution_start": 1756928487975,
    "source_hash": "9184dde7"
   },
   "outputs": [
    {
     "name": "stdout",
     "output_type": "stream",
     "text": [
      "Random Forest Accuracy: 1.0\n",
      "                                  precision    recall  f1-score   support\n",
      "\n",
      "        16 - Missing information       1.00      1.00      1.00         1\n",
      "45 - Charge exceeds fee schedule       1.00      1.00      1.00         2\n",
      "        96 - Non-covered service       1.00      1.00      1.00         2\n",
      "                       No Denial       1.00      1.00      1.00         3\n",
      "\n",
      "                        accuracy                           1.00         8\n",
      "                       macro avg       1.00      1.00      1.00         8\n",
      "                    weighted avg       1.00      1.00      1.00         8\n",
      "\n",
      "[[1 0 0 0]\n",
      " [0 2 0 0]\n",
      " [0 0 2 0]\n",
      " [0 0 0 3]]\n"
     ]
    }
   ],
   "source": [
    "from sklearn.ensemble import RandomForestClassifier\n",
    "import xgboost as xgb\n",
    "\n",
    "# Random Forest pipeline\n",
    "rf_model = Pipeline(steps=[\n",
    "    (\"preprocessor\", preprocessor),\n",
    "    (\"classifier\", RandomForestClassifier(n_estimators=200, random_state=42, class_weight=\"balanced\"))\n",
    "\n",
    "])\n",
    "\n",
    "# XGBoost pipeline\n",
    "xgb_model = Pipeline(steps=[\n",
    "    (\"preprocessor\", preprocessor),\n",
    "    (\"classifier\", xgb.XGBClassifier(eval_metric='mlogloss', random_state=42))\n",
    "])\n",
    "\n",
    "# Now train and evaluate as usual\n",
    "X_train, X_test, y_train, y_test = train_test_split(X, y, test_size=0.3, random_state=42, stratify=y)\n",
    "\n",
    "# Train Random Forest\n",
    "rf_model.fit(X_train, y_train)\n",
    "y_pred_rf = rf_model.predict(X_test)\n",
    "\n",
    "print(\"Random Forest Accuracy:\", accuracy_score(y_test, y_pred_rf))\n",
    "print(classification_report(y_test, y_pred_rf, target_names=le_target.classes_))\n",
    "print(confusion_matrix(y_test, y_pred_rf))\n"
   ]
  },
  {
   "cell_type": "code",
   "execution_count": 49,
   "metadata": {
    "cell_id": "22b696c9b48247148ccbd61499f7a6d5",
    "deepnote_cell_type": "code",
    "execution_context_id": "7785e0f8-c8d5-46fe-9321-13d8453a6968",
    "execution_millis": 17,
    "execution_start": 1756928488395,
    "source_hash": "3e1e657b"
   },
   "outputs": [
    {
     "name": "stdout",
     "output_type": "stream",
     "text": [
      "XGBoost Accuracy: 1.0\n",
      "                                  precision    recall  f1-score   support\n",
      "\n",
      "        16 - Missing information       1.00      1.00      1.00         1\n",
      "45 - Charge exceeds fee schedule       1.00      1.00      1.00         2\n",
      "        96 - Non-covered service       1.00      1.00      1.00         2\n",
      "                       No Denial       1.00      1.00      1.00         3\n",
      "\n",
      "                        accuracy                           1.00         8\n",
      "                       macro avg       1.00      1.00      1.00         8\n",
      "                    weighted avg       1.00      1.00      1.00         8\n",
      "\n",
      "[[1 0 0 0]\n",
      " [0 2 0 0]\n",
      " [0 0 2 0]\n",
      " [0 0 0 3]]\n"
     ]
    }
   ],
   "source": [
    "\n",
    "# Train XGBoost\n",
    "xgb_model.fit(X_train, y_train)\n",
    "y_pred_xgb = xgb_model.predict(X_test)\n",
    "\n",
    "print(\"XGBoost Accuracy:\", accuracy_score(y_test, y_pred_xgb))\n",
    "print(classification_report(y_test, y_pred_xgb, target_names=le_target.classes_))\n",
    "print(confusion_matrix(y_test, y_pred_xgb))\n"
   ]
  },
  {
   "cell_type": "code",
   "execution_count": 50,
   "metadata": {
    "cell_id": "9c7b776d36594723bd40bb55c4f99d3e",
    "deepnote_cell_type": "code",
    "execution_context_id": "7785e0f8-c8d5-46fe-9321-13d8453a6968",
    "execution_millis": 2050,
    "execution_start": 1756928488466,
    "source_hash": "c8058b04"
   },
   "outputs": [
    {
     "name": "stdout",
     "output_type": "stream",
     "text": [
      "Logistic Regression cross-validation scores: [1. 1. 1. 1. 1.]\n",
      "Average Logistic Regression CV accuracy: 1.0\n",
      "Random Forest cross-validation scores: [1. 1. 1. 1. 1.]\n",
      "Average CV accuracy: 1.0\n",
      "XGBoost cross-validation scores: [1. 1. 1. 1. 1.]\n",
      "Average XGBoost CV accuracy: 1.0\n"
     ]
    }
   ],
   "source": [
    "from sklearn.model_selection import cross_val_score\n",
    "\n",
    "\n",
    "cv_scores_logreg = cross_val_score(logreg_model, X, y, cv=5)\n",
    "print(\"Logistic Regression cross-validation scores:\", cv_scores_logreg)\n",
    "print(\"Average Logistic Regression CV accuracy:\", cv_scores_logreg.mean())\n",
    "\n",
    "\n",
    "\n",
    "cv_scores = cross_val_score(rf_model, X, y, cv=5)\n",
    "print(\"Random Forest cross-validation scores:\", cv_scores)\n",
    "print(\"Average CV accuracy:\", cv_scores.mean())\n",
    "\n",
    "\n",
    "\n",
    "\n",
    "# Cross-validation for XGBoost\n",
    "cv_scores_xgb = cross_val_score(xgb_model, X, y, cv=5)\n",
    "print(\"XGBoost cross-validation scores:\", cv_scores_xgb)\n",
    "print(\"Average XGBoost CV accuracy:\", cv_scores_xgb.mean())\n"
   ]
  },
  {
   "cell_type": "code",
   "execution_count": 51,
   "metadata": {
    "cell_id": "16fb271fe484493eabaa4488da8b7504",
    "deepnote_cell_type": "code",
    "execution_context_id": "7785e0f8-c8d5-46fe-9321-13d8453a6968",
    "execution_millis": 822,
    "execution_start": 1756928490575,
    "source_hash": "cf88998d"
   },
   "outputs": [
    {
     "name": "stdout",
     "output_type": "stream",
     "text": [
      "Logistic Regression (categorical only) CV scores: [1. 1. 1. 1. 1.]\n",
      "Average accuracy: 1.0\n",
      "\n",
      "Random Forest (categorical only) CV scores: [1. 1. 1. 1. 1.]\n",
      "Average accuracy: 1.0\n",
      "\n",
      "XGBoost (categorical only) CV scores: [1. 1. 1. 1. 1.]\n",
      "Average accuracy: 1.0\n"
     ]
    }
   ],
   "source": [
    "from sklearn.pipeline import Pipeline\n",
    "from sklearn.impute import SimpleImputer\n",
    "from sklearn.compose import ColumnTransformer\n",
    "from sklearn.preprocessing import OneHotEncoder\n",
    "from sklearn.model_selection import cross_val_score\n",
    "from sklearn.linear_model import LogisticRegression\n",
    "from sklearn.ensemble import RandomForestClassifier\n",
    "import xgboost as xgb\n",
    "\n",
    "# Use only categorical features (remove Payment Amount & Balance)\n",
    "categorical_only = [\"CPT Code\", \"Insurance Company\", \"Physician Name\"]\n",
    "\n",
    "# Preprocessor for categorical data\n",
    "categorical_transformer = Pipeline(steps=[\n",
    "    (\"imputer\", SimpleImputer(strategy=\"most_frequent\")),\n",
    "    (\"onehot\", OneHotEncoder(handle_unknown=\"ignore\"))\n",
    "])\n",
    "\n",
    "preprocessor_categorical = ColumnTransformer(\n",
    "    transformers=[(\"cat\", categorical_transformer, categorical_only)]\n",
    ")\n",
    "\n",
    "# Logistic Regression pipeline\n",
    "logreg_model_cat = Pipeline(steps=[\n",
    "    (\"preprocessor\", preprocessor_categorical),\n",
    "    (\"classifier\", LogisticRegression(max_iter=1000, random_state=42))\n",
    "])\n",
    "\n",
    "# Random Forest pipeline\n",
    "rf_model_cat = Pipeline(steps=[\n",
    "    (\"preprocessor\", preprocessor_categorical),\n",
    "    (\"classifier\", RandomForestClassifier(random_state=42))\n",
    "])\n",
    "\n",
    "# XGBoost pipeline\n",
    "xgb_model_cat = Pipeline(steps=[\n",
    "    (\"preprocessor\", preprocessor_categorical),\n",
    "    (\"classifier\", xgb.XGBClassifier(eval_metric='mlogloss', random_state=42))\n",
    "])\n",
    "\n",
    "# --- Cross-validation for each model ---\n",
    "cv_scores_logreg_cat = cross_val_score(logreg_model_cat, X, y, cv=5, scoring=\"accuracy\")\n",
    "print(\"Logistic Regression (categorical only) CV scores:\", cv_scores_logreg_cat)\n",
    "print(\"Average accuracy:\", cv_scores_logreg_cat.mean())\n",
    "\n",
    "cv_scores_rf_cat = cross_val_score(rf_model_cat, X, y, cv=5, scoring=\"accuracy\")\n",
    "print(\"\\nRandom Forest (categorical only) CV scores:\", cv_scores_rf_cat)\n",
    "print(\"Average accuracy:\", cv_scores_rf_cat.mean())\n",
    "\n",
    "cv_scores_xgb_cat = cross_val_score(xgb_model_cat, X, y, cv=5, scoring=\"accuracy\")\n",
    "print(\"\\nXGBoost (categorical only) CV scores:\", cv_scores_xgb_cat)\n",
    "print(\"Average accuracy:\", cv_scores_xgb_cat.mean())\n"
   ]
  },
  {
   "cell_type": "code",
   "execution_count": 52,
   "metadata": {
    "cell_id": "e889129902af414eba12f0b437e60c13",
    "deepnote_cell_type": "code",
    "execution_context_id": "7785e0f8-c8d5-46fe-9321-13d8453a6968",
    "execution_millis": 333,
    "execution_start": 1756928491465,
    "source_hash": "8cb4b328"
   },
   "outputs": [
    {
     "name": "stderr",
     "output_type": "stream",
     "text": [
      "/root/venv/lib/python3.10/site-packages/xgboost/training.py:183: UserWarning: [19:41:31] WARNING: /workspace/src/learner.cc:738: \n",
      "Parameters: { \"use_label_encoder\" } are not used.\n",
      "\n",
      "  bst.update(dtrain, iteration=i, fobj=obj)\n"
     ]
    },
    {
     "data": {
      "text/html": [
       "<style>#sk-container-id-1 {\n",
       "  /* Definition of color scheme common for light and dark mode */\n",
       "  --sklearn-color-text: #000;\n",
       "  --sklearn-color-text-muted: #666;\n",
       "  --sklearn-color-line: gray;\n",
       "  /* Definition of color scheme for unfitted estimators */\n",
       "  --sklearn-color-unfitted-level-0: #fff5e6;\n",
       "  --sklearn-color-unfitted-level-1: #f6e4d2;\n",
       "  --sklearn-color-unfitted-level-2: #ffe0b3;\n",
       "  --sklearn-color-unfitted-level-3: chocolate;\n",
       "  /* Definition of color scheme for fitted estimators */\n",
       "  --sklearn-color-fitted-level-0: #f0f8ff;\n",
       "  --sklearn-color-fitted-level-1: #d4ebff;\n",
       "  --sklearn-color-fitted-level-2: #b3dbfd;\n",
       "  --sklearn-color-fitted-level-3: cornflowerblue;\n",
       "\n",
       "  /* Specific color for light theme */\n",
       "  --sklearn-color-text-on-default-background: var(--sg-text-color, var(--theme-code-foreground, var(--jp-content-font-color1, black)));\n",
       "  --sklearn-color-background: var(--sg-background-color, var(--theme-background, var(--jp-layout-color0, white)));\n",
       "  --sklearn-color-border-box: var(--sg-text-color, var(--theme-code-foreground, var(--jp-content-font-color1, black)));\n",
       "  --sklearn-color-icon: #696969;\n",
       "\n",
       "  @media (prefers-color-scheme: dark) {\n",
       "    /* Redefinition of color scheme for dark theme */\n",
       "    --sklearn-color-text-on-default-background: var(--sg-text-color, var(--theme-code-foreground, var(--jp-content-font-color1, white)));\n",
       "    --sklearn-color-background: var(--sg-background-color, var(--theme-background, var(--jp-layout-color0, #111)));\n",
       "    --sklearn-color-border-box: var(--sg-text-color, var(--theme-code-foreground, var(--jp-content-font-color1, white)));\n",
       "    --sklearn-color-icon: #878787;\n",
       "  }\n",
       "}\n",
       "\n",
       "#sk-container-id-1 {\n",
       "  color: var(--sklearn-color-text);\n",
       "}\n",
       "\n",
       "#sk-container-id-1 pre {\n",
       "  padding: 0;\n",
       "}\n",
       "\n",
       "#sk-container-id-1 input.sk-hidden--visually {\n",
       "  border: 0;\n",
       "  clip: rect(1px 1px 1px 1px);\n",
       "  clip: rect(1px, 1px, 1px, 1px);\n",
       "  height: 1px;\n",
       "  margin: -1px;\n",
       "  overflow: hidden;\n",
       "  padding: 0;\n",
       "  position: absolute;\n",
       "  width: 1px;\n",
       "}\n",
       "\n",
       "#sk-container-id-1 div.sk-dashed-wrapped {\n",
       "  border: 1px dashed var(--sklearn-color-line);\n",
       "  margin: 0 0.4em 0.5em 0.4em;\n",
       "  box-sizing: border-box;\n",
       "  padding-bottom: 0.4em;\n",
       "  background-color: var(--sklearn-color-background);\n",
       "}\n",
       "\n",
       "#sk-container-id-1 div.sk-container {\n",
       "  /* jupyter's `normalize.less` sets `[hidden] { display: none; }`\n",
       "     but bootstrap.min.css set `[hidden] { display: none !important; }`\n",
       "     so we also need the `!important` here to be able to override the\n",
       "     default hidden behavior on the sphinx rendered scikit-learn.org.\n",
       "     See: https://github.com/scikit-learn/scikit-learn/issues/21755 */\n",
       "  display: inline-block !important;\n",
       "  position: relative;\n",
       "}\n",
       "\n",
       "#sk-container-id-1 div.sk-text-repr-fallback {\n",
       "  display: none;\n",
       "}\n",
       "\n",
       "div.sk-parallel-item,\n",
       "div.sk-serial,\n",
       "div.sk-item {\n",
       "  /* draw centered vertical line to link estimators */\n",
       "  background-image: linear-gradient(var(--sklearn-color-text-on-default-background), var(--sklearn-color-text-on-default-background));\n",
       "  background-size: 2px 100%;\n",
       "  background-repeat: no-repeat;\n",
       "  background-position: center center;\n",
       "}\n",
       "\n",
       "/* Parallel-specific style estimator block */\n",
       "\n",
       "#sk-container-id-1 div.sk-parallel-item::after {\n",
       "  content: \"\";\n",
       "  width: 100%;\n",
       "  border-bottom: 2px solid var(--sklearn-color-text-on-default-background);\n",
       "  flex-grow: 1;\n",
       "}\n",
       "\n",
       "#sk-container-id-1 div.sk-parallel {\n",
       "  display: flex;\n",
       "  align-items: stretch;\n",
       "  justify-content: center;\n",
       "  background-color: var(--sklearn-color-background);\n",
       "  position: relative;\n",
       "}\n",
       "\n",
       "#sk-container-id-1 div.sk-parallel-item {\n",
       "  display: flex;\n",
       "  flex-direction: column;\n",
       "}\n",
       "\n",
       "#sk-container-id-1 div.sk-parallel-item:first-child::after {\n",
       "  align-self: flex-end;\n",
       "  width: 50%;\n",
       "}\n",
       "\n",
       "#sk-container-id-1 div.sk-parallel-item:last-child::after {\n",
       "  align-self: flex-start;\n",
       "  width: 50%;\n",
       "}\n",
       "\n",
       "#sk-container-id-1 div.sk-parallel-item:only-child::after {\n",
       "  width: 0;\n",
       "}\n",
       "\n",
       "/* Serial-specific style estimator block */\n",
       "\n",
       "#sk-container-id-1 div.sk-serial {\n",
       "  display: flex;\n",
       "  flex-direction: column;\n",
       "  align-items: center;\n",
       "  background-color: var(--sklearn-color-background);\n",
       "  padding-right: 1em;\n",
       "  padding-left: 1em;\n",
       "}\n",
       "\n",
       "\n",
       "/* Toggleable style: style used for estimator/Pipeline/ColumnTransformer box that is\n",
       "clickable and can be expanded/collapsed.\n",
       "- Pipeline and ColumnTransformer use this feature and define the default style\n",
       "- Estimators will overwrite some part of the style using the `sk-estimator` class\n",
       "*/\n",
       "\n",
       "/* Pipeline and ColumnTransformer style (default) */\n",
       "\n",
       "#sk-container-id-1 div.sk-toggleable {\n",
       "  /* Default theme specific background. It is overwritten whether we have a\n",
       "  specific estimator or a Pipeline/ColumnTransformer */\n",
       "  background-color: var(--sklearn-color-background);\n",
       "}\n",
       "\n",
       "/* Toggleable label */\n",
       "#sk-container-id-1 label.sk-toggleable__label {\n",
       "  cursor: pointer;\n",
       "  display: flex;\n",
       "  width: 100%;\n",
       "  margin-bottom: 0;\n",
       "  padding: 0.5em;\n",
       "  box-sizing: border-box;\n",
       "  text-align: center;\n",
       "  align-items: start;\n",
       "  justify-content: space-between;\n",
       "  gap: 0.5em;\n",
       "}\n",
       "\n",
       "#sk-container-id-1 label.sk-toggleable__label .caption {\n",
       "  font-size: 0.6rem;\n",
       "  font-weight: lighter;\n",
       "  color: var(--sklearn-color-text-muted);\n",
       "}\n",
       "\n",
       "#sk-container-id-1 label.sk-toggleable__label-arrow:before {\n",
       "  /* Arrow on the left of the label */\n",
       "  content: \"▸\";\n",
       "  float: left;\n",
       "  margin-right: 0.25em;\n",
       "  color: var(--sklearn-color-icon);\n",
       "}\n",
       "\n",
       "#sk-container-id-1 label.sk-toggleable__label-arrow:hover:before {\n",
       "  color: var(--sklearn-color-text);\n",
       "}\n",
       "\n",
       "/* Toggleable content - dropdown */\n",
       "\n",
       "#sk-container-id-1 div.sk-toggleable__content {\n",
       "  display: none;\n",
       "  text-align: left;\n",
       "  /* unfitted */\n",
       "  background-color: var(--sklearn-color-unfitted-level-0);\n",
       "}\n",
       "\n",
       "#sk-container-id-1 div.sk-toggleable__content.fitted {\n",
       "  /* fitted */\n",
       "  background-color: var(--sklearn-color-fitted-level-0);\n",
       "}\n",
       "\n",
       "#sk-container-id-1 div.sk-toggleable__content pre {\n",
       "  margin: 0.2em;\n",
       "  border-radius: 0.25em;\n",
       "  color: var(--sklearn-color-text);\n",
       "  /* unfitted */\n",
       "  background-color: var(--sklearn-color-unfitted-level-0);\n",
       "}\n",
       "\n",
       "#sk-container-id-1 div.sk-toggleable__content.fitted pre {\n",
       "  /* unfitted */\n",
       "  background-color: var(--sklearn-color-fitted-level-0);\n",
       "}\n",
       "\n",
       "#sk-container-id-1 input.sk-toggleable__control:checked~div.sk-toggleable__content {\n",
       "  /* Expand drop-down */\n",
       "  display: block;\n",
       "  width: 100%;\n",
       "  overflow: visible;\n",
       "}\n",
       "\n",
       "#sk-container-id-1 input.sk-toggleable__control:checked~label.sk-toggleable__label-arrow:before {\n",
       "  content: \"▾\";\n",
       "}\n",
       "\n",
       "/* Pipeline/ColumnTransformer-specific style */\n",
       "\n",
       "#sk-container-id-1 div.sk-label input.sk-toggleable__control:checked~label.sk-toggleable__label {\n",
       "  color: var(--sklearn-color-text);\n",
       "  background-color: var(--sklearn-color-unfitted-level-2);\n",
       "}\n",
       "\n",
       "#sk-container-id-1 div.sk-label.fitted input.sk-toggleable__control:checked~label.sk-toggleable__label {\n",
       "  background-color: var(--sklearn-color-fitted-level-2);\n",
       "}\n",
       "\n",
       "/* Estimator-specific style */\n",
       "\n",
       "/* Colorize estimator box */\n",
       "#sk-container-id-1 div.sk-estimator input.sk-toggleable__control:checked~label.sk-toggleable__label {\n",
       "  /* unfitted */\n",
       "  background-color: var(--sklearn-color-unfitted-level-2);\n",
       "}\n",
       "\n",
       "#sk-container-id-1 div.sk-estimator.fitted input.sk-toggleable__control:checked~label.sk-toggleable__label {\n",
       "  /* fitted */\n",
       "  background-color: var(--sklearn-color-fitted-level-2);\n",
       "}\n",
       "\n",
       "#sk-container-id-1 div.sk-label label.sk-toggleable__label,\n",
       "#sk-container-id-1 div.sk-label label {\n",
       "  /* The background is the default theme color */\n",
       "  color: var(--sklearn-color-text-on-default-background);\n",
       "}\n",
       "\n",
       "/* On hover, darken the color of the background */\n",
       "#sk-container-id-1 div.sk-label:hover label.sk-toggleable__label {\n",
       "  color: var(--sklearn-color-text);\n",
       "  background-color: var(--sklearn-color-unfitted-level-2);\n",
       "}\n",
       "\n",
       "/* Label box, darken color on hover, fitted */\n",
       "#sk-container-id-1 div.sk-label.fitted:hover label.sk-toggleable__label.fitted {\n",
       "  color: var(--sklearn-color-text);\n",
       "  background-color: var(--sklearn-color-fitted-level-2);\n",
       "}\n",
       "\n",
       "/* Estimator label */\n",
       "\n",
       "#sk-container-id-1 div.sk-label label {\n",
       "  font-family: monospace;\n",
       "  font-weight: bold;\n",
       "  display: inline-block;\n",
       "  line-height: 1.2em;\n",
       "}\n",
       "\n",
       "#sk-container-id-1 div.sk-label-container {\n",
       "  text-align: center;\n",
       "}\n",
       "\n",
       "/* Estimator-specific */\n",
       "#sk-container-id-1 div.sk-estimator {\n",
       "  font-family: monospace;\n",
       "  border: 1px dotted var(--sklearn-color-border-box);\n",
       "  border-radius: 0.25em;\n",
       "  box-sizing: border-box;\n",
       "  margin-bottom: 0.5em;\n",
       "  /* unfitted */\n",
       "  background-color: var(--sklearn-color-unfitted-level-0);\n",
       "}\n",
       "\n",
       "#sk-container-id-1 div.sk-estimator.fitted {\n",
       "  /* fitted */\n",
       "  background-color: var(--sklearn-color-fitted-level-0);\n",
       "}\n",
       "\n",
       "/* on hover */\n",
       "#sk-container-id-1 div.sk-estimator:hover {\n",
       "  /* unfitted */\n",
       "  background-color: var(--sklearn-color-unfitted-level-2);\n",
       "}\n",
       "\n",
       "#sk-container-id-1 div.sk-estimator.fitted:hover {\n",
       "  /* fitted */\n",
       "  background-color: var(--sklearn-color-fitted-level-2);\n",
       "}\n",
       "\n",
       "/* Specification for estimator info (e.g. \"i\" and \"?\") */\n",
       "\n",
       "/* Common style for \"i\" and \"?\" */\n",
       "\n",
       ".sk-estimator-doc-link,\n",
       "a:link.sk-estimator-doc-link,\n",
       "a:visited.sk-estimator-doc-link {\n",
       "  float: right;\n",
       "  font-size: smaller;\n",
       "  line-height: 1em;\n",
       "  font-family: monospace;\n",
       "  background-color: var(--sklearn-color-background);\n",
       "  border-radius: 1em;\n",
       "  height: 1em;\n",
       "  width: 1em;\n",
       "  text-decoration: none !important;\n",
       "  margin-left: 0.5em;\n",
       "  text-align: center;\n",
       "  /* unfitted */\n",
       "  border: var(--sklearn-color-unfitted-level-1) 1pt solid;\n",
       "  color: var(--sklearn-color-unfitted-level-1);\n",
       "}\n",
       "\n",
       ".sk-estimator-doc-link.fitted,\n",
       "a:link.sk-estimator-doc-link.fitted,\n",
       "a:visited.sk-estimator-doc-link.fitted {\n",
       "  /* fitted */\n",
       "  border: var(--sklearn-color-fitted-level-1) 1pt solid;\n",
       "  color: var(--sklearn-color-fitted-level-1);\n",
       "}\n",
       "\n",
       "/* On hover */\n",
       "div.sk-estimator:hover .sk-estimator-doc-link:hover,\n",
       ".sk-estimator-doc-link:hover,\n",
       "div.sk-label-container:hover .sk-estimator-doc-link:hover,\n",
       ".sk-estimator-doc-link:hover {\n",
       "  /* unfitted */\n",
       "  background-color: var(--sklearn-color-unfitted-level-3);\n",
       "  color: var(--sklearn-color-background);\n",
       "  text-decoration: none;\n",
       "}\n",
       "\n",
       "div.sk-estimator.fitted:hover .sk-estimator-doc-link.fitted:hover,\n",
       ".sk-estimator-doc-link.fitted:hover,\n",
       "div.sk-label-container:hover .sk-estimator-doc-link.fitted:hover,\n",
       ".sk-estimator-doc-link.fitted:hover {\n",
       "  /* fitted */\n",
       "  background-color: var(--sklearn-color-fitted-level-3);\n",
       "  color: var(--sklearn-color-background);\n",
       "  text-decoration: none;\n",
       "}\n",
       "\n",
       "/* Span, style for the box shown on hovering the info icon */\n",
       ".sk-estimator-doc-link span {\n",
       "  display: none;\n",
       "  z-index: 9999;\n",
       "  position: relative;\n",
       "  font-weight: normal;\n",
       "  right: .2ex;\n",
       "  padding: .5ex;\n",
       "  margin: .5ex;\n",
       "  width: min-content;\n",
       "  min-width: 20ex;\n",
       "  max-width: 50ex;\n",
       "  color: var(--sklearn-color-text);\n",
       "  box-shadow: 2pt 2pt 4pt #999;\n",
       "  /* unfitted */\n",
       "  background: var(--sklearn-color-unfitted-level-0);\n",
       "  border: .5pt solid var(--sklearn-color-unfitted-level-3);\n",
       "}\n",
       "\n",
       ".sk-estimator-doc-link.fitted span {\n",
       "  /* fitted */\n",
       "  background: var(--sklearn-color-fitted-level-0);\n",
       "  border: var(--sklearn-color-fitted-level-3);\n",
       "}\n",
       "\n",
       ".sk-estimator-doc-link:hover span {\n",
       "  display: block;\n",
       "}\n",
       "\n",
       "/* \"?\"-specific style due to the `<a>` HTML tag */\n",
       "\n",
       "#sk-container-id-1 a.estimator_doc_link {\n",
       "  float: right;\n",
       "  font-size: 1rem;\n",
       "  line-height: 1em;\n",
       "  font-family: monospace;\n",
       "  background-color: var(--sklearn-color-background);\n",
       "  border-radius: 1rem;\n",
       "  height: 1rem;\n",
       "  width: 1rem;\n",
       "  text-decoration: none;\n",
       "  /* unfitted */\n",
       "  color: var(--sklearn-color-unfitted-level-1);\n",
       "  border: var(--sklearn-color-unfitted-level-1) 1pt solid;\n",
       "}\n",
       "\n",
       "#sk-container-id-1 a.estimator_doc_link.fitted {\n",
       "  /* fitted */\n",
       "  border: var(--sklearn-color-fitted-level-1) 1pt solid;\n",
       "  color: var(--sklearn-color-fitted-level-1);\n",
       "}\n",
       "\n",
       "/* On hover */\n",
       "#sk-container-id-1 a.estimator_doc_link:hover {\n",
       "  /* unfitted */\n",
       "  background-color: var(--sklearn-color-unfitted-level-3);\n",
       "  color: var(--sklearn-color-background);\n",
       "  text-decoration: none;\n",
       "}\n",
       "\n",
       "#sk-container-id-1 a.estimator_doc_link.fitted:hover {\n",
       "  /* fitted */\n",
       "  background-color: var(--sklearn-color-fitted-level-3);\n",
       "}\n",
       "\n",
       ".estimator-table summary {\n",
       "    padding: .5rem;\n",
       "    font-family: monospace;\n",
       "    cursor: pointer;\n",
       "}\n",
       "\n",
       ".estimator-table details[open] {\n",
       "    padding-left: 0.1rem;\n",
       "    padding-right: 0.1rem;\n",
       "    padding-bottom: 0.3rem;\n",
       "}\n",
       "\n",
       ".estimator-table .parameters-table {\n",
       "    margin-left: auto !important;\n",
       "    margin-right: auto !important;\n",
       "}\n",
       "\n",
       ".estimator-table .parameters-table tr:nth-child(odd) {\n",
       "    background-color: #fff;\n",
       "}\n",
       "\n",
       ".estimator-table .parameters-table tr:nth-child(even) {\n",
       "    background-color: #f6f6f6;\n",
       "}\n",
       "\n",
       ".estimator-table .parameters-table tr:hover {\n",
       "    background-color: #e0e0e0;\n",
       "}\n",
       "\n",
       ".estimator-table table td {\n",
       "    border: 1px solid rgba(106, 105, 104, 0.232);\n",
       "}\n",
       "\n",
       ".user-set td {\n",
       "    color:rgb(255, 94, 0);\n",
       "    text-align: left;\n",
       "}\n",
       "\n",
       ".user-set td.value pre {\n",
       "    color:rgb(255, 94, 0) !important;\n",
       "    background-color: transparent !important;\n",
       "}\n",
       "\n",
       ".default td {\n",
       "    color: black;\n",
       "    text-align: left;\n",
       "}\n",
       "\n",
       ".user-set td i,\n",
       ".default td i {\n",
       "    color: black;\n",
       "}\n",
       "\n",
       ".copy-paste-icon {\n",
       "    background-image: url(data:image/svg+xml;base64,PHN2ZyB4bWxucz0iaHR0cDovL3d3dy53My5vcmcvMjAwMC9zdmciIHZpZXdCb3g9IjAgMCA0NDggNTEyIj48IS0tIUZvbnQgQXdlc29tZSBGcmVlIDYuNy4yIGJ5IEBmb250YXdlc29tZSAtIGh0dHBzOi8vZm9udGF3ZXNvbWUuY29tIExpY2Vuc2UgLSBodHRwczovL2ZvbnRhd2Vzb21lLmNvbS9saWNlbnNlL2ZyZWUgQ29weXJpZ2h0IDIwMjUgRm9udGljb25zLCBJbmMuLS0+PHBhdGggZD0iTTIwOCAwTDMzMi4xIDBjMTIuNyAwIDI0LjkgNS4xIDMzLjkgMTQuMWw2Ny45IDY3LjljOSA5IDE0LjEgMjEuMiAxNC4xIDMzLjlMNDQ4IDMzNmMwIDI2LjUtMjEuNSA0OC00OCA0OGwtMTkyIDBjLTI2LjUgMC00OC0yMS41LTQ4LTQ4bDAtMjg4YzAtMjYuNSAyMS41LTQ4IDQ4LTQ4ek00OCAxMjhsODAgMCAwIDY0LTY0IDAgMCAyNTYgMTkyIDAgMC0zMiA2NCAwIDAgNDhjMCAyNi41LTIxLjUgNDgtNDggNDhMNDggNTEyYy0yNi41IDAtNDgtMjEuNS00OC00OEwwIDE3NmMwLTI2LjUgMjEuNS00OCA0OC00OHoiLz48L3N2Zz4=);\n",
       "    background-repeat: no-repeat;\n",
       "    background-size: 14px 14px;\n",
       "    background-position: 0;\n",
       "    display: inline-block;\n",
       "    width: 14px;\n",
       "    height: 14px;\n",
       "    cursor: pointer;\n",
       "}\n",
       "</style><body><div id=\"sk-container-id-1\" class=\"sk-top-container\"><div class=\"sk-text-repr-fallback\"><pre>Pipeline(steps=[(&#x27;preprocessor&#x27;,\n",
       "                 ColumnTransformer(transformers=[(&#x27;cat&#x27;,\n",
       "                                                  Pipeline(steps=[(&#x27;imputer&#x27;,\n",
       "                                                                   SimpleImputer(strategy=&#x27;most_frequent&#x27;)),\n",
       "                                                                  (&#x27;onehot&#x27;,\n",
       "                                                                   OneHotEncoder(handle_unknown=&#x27;ignore&#x27;))]),\n",
       "                                                  [&#x27;CPT Code&#x27;,\n",
       "                                                   &#x27;Insurance Company&#x27;,\n",
       "                                                   &#x27;Physician Name&#x27;]),\n",
       "                                                 (&#x27;num&#x27;,\n",
       "                                                  Pipeline(steps=[(&#x27;imputer&#x27;,\n",
       "                                                                   SimpleImputer(strategy=&#x27;median&#x27;))]),\n",
       "                                                  [&#x27;Payment Amount&#x27;,\n",
       "                                                   &#x27;Balance&#x27;])])),\n",
       "                (&#x27;classif...\n",
       "                               feature_types=None, feature_weights=None,\n",
       "                               gamma=None, grow_policy=None,\n",
       "                               importance_type=None,\n",
       "                               interaction_constraints=None, learning_rate=None,\n",
       "                               max_bin=None, max_cat_threshold=None,\n",
       "                               max_cat_to_onehot=None, max_delta_step=None,\n",
       "                               max_depth=None, max_leaves=None,\n",
       "                               min_child_weight=None, missing=nan,\n",
       "                               monotone_constraints=None, multi_strategy=None,\n",
       "                               n_estimators=None, n_jobs=None,\n",
       "                               num_parallel_tree=None, ...))])</pre><b>In a Jupyter environment, please rerun this cell to show the HTML representation or trust the notebook. <br />On GitHub, the HTML representation is unable to render, please try loading this page with nbviewer.org.</b></div><div class=\"sk-container\" hidden><div class=\"sk-item sk-dashed-wrapped\"><div class=\"sk-label-container\"><div class=\"sk-label fitted sk-toggleable\"><input class=\"sk-toggleable__control sk-hidden--visually\" id=\"sk-estimator-id-1\" type=\"checkbox\" ><label for=\"sk-estimator-id-1\" class=\"sk-toggleable__label fitted sk-toggleable__label-arrow\"><div><div>Pipeline</div></div><div><a class=\"sk-estimator-doc-link fitted\" rel=\"noreferrer\" target=\"_blank\" href=\"https://scikit-learn.org/1.7/modules/generated/sklearn.pipeline.Pipeline.html\">?<span>Documentation for Pipeline</span></a><span class=\"sk-estimator-doc-link fitted\">i<span>Fitted</span></span></div></label><div class=\"sk-toggleable__content fitted\" data-param-prefix=\"\">\n",
       "        <div class=\"estimator-table\">\n",
       "            <details>\n",
       "                <summary>Parameters</summary>\n",
       "                <table class=\"parameters-table\">\n",
       "                  <tbody>\n",
       "                    \n",
       "        <tr class=\"user-set\">\n",
       "            <td><i class=\"copy-paste-icon\"\n",
       "                 onclick=\"copyToClipboard('steps',\n",
       "                          this.parentElement.nextElementSibling)\"\n",
       "            ></i></td>\n",
       "            <td class=\"param\">steps&nbsp;</td>\n",
       "            <td class=\"value\">[(&#x27;preprocessor&#x27;, ...), (&#x27;classifier&#x27;, ...)]</td>\n",
       "        </tr>\n",
       "    \n",
       "\n",
       "        <tr class=\"default\">\n",
       "            <td><i class=\"copy-paste-icon\"\n",
       "                 onclick=\"copyToClipboard('transform_input',\n",
       "                          this.parentElement.nextElementSibling)\"\n",
       "            ></i></td>\n",
       "            <td class=\"param\">transform_input&nbsp;</td>\n",
       "            <td class=\"value\">None</td>\n",
       "        </tr>\n",
       "    \n",
       "\n",
       "        <tr class=\"default\">\n",
       "            <td><i class=\"copy-paste-icon\"\n",
       "                 onclick=\"copyToClipboard('memory',\n",
       "                          this.parentElement.nextElementSibling)\"\n",
       "            ></i></td>\n",
       "            <td class=\"param\">memory&nbsp;</td>\n",
       "            <td class=\"value\">None</td>\n",
       "        </tr>\n",
       "    \n",
       "\n",
       "        <tr class=\"default\">\n",
       "            <td><i class=\"copy-paste-icon\"\n",
       "                 onclick=\"copyToClipboard('verbose',\n",
       "                          this.parentElement.nextElementSibling)\"\n",
       "            ></i></td>\n",
       "            <td class=\"param\">verbose&nbsp;</td>\n",
       "            <td class=\"value\">False</td>\n",
       "        </tr>\n",
       "    \n",
       "                  </tbody>\n",
       "                </table>\n",
       "            </details>\n",
       "        </div>\n",
       "    </div></div></div><div class=\"sk-serial\"><div class=\"sk-item sk-dashed-wrapped\"><div class=\"sk-label-container\"><div class=\"sk-label fitted sk-toggleable\"><input class=\"sk-toggleable__control sk-hidden--visually\" id=\"sk-estimator-id-2\" type=\"checkbox\" ><label for=\"sk-estimator-id-2\" class=\"sk-toggleable__label fitted sk-toggleable__label-arrow\"><div><div>preprocessor: ColumnTransformer</div></div><div><a class=\"sk-estimator-doc-link fitted\" rel=\"noreferrer\" target=\"_blank\" href=\"https://scikit-learn.org/1.7/modules/generated/sklearn.compose.ColumnTransformer.html\">?<span>Documentation for preprocessor: ColumnTransformer</span></a></div></label><div class=\"sk-toggleable__content fitted\" data-param-prefix=\"preprocessor__\">\n",
       "        <div class=\"estimator-table\">\n",
       "            <details>\n",
       "                <summary>Parameters</summary>\n",
       "                <table class=\"parameters-table\">\n",
       "                  <tbody>\n",
       "                    \n",
       "        <tr class=\"user-set\">\n",
       "            <td><i class=\"copy-paste-icon\"\n",
       "                 onclick=\"copyToClipboard('transformers',\n",
       "                          this.parentElement.nextElementSibling)\"\n",
       "            ></i></td>\n",
       "            <td class=\"param\">transformers&nbsp;</td>\n",
       "            <td class=\"value\">[(&#x27;cat&#x27;, ...), (&#x27;num&#x27;, ...)]</td>\n",
       "        </tr>\n",
       "    \n",
       "\n",
       "        <tr class=\"default\">\n",
       "            <td><i class=\"copy-paste-icon\"\n",
       "                 onclick=\"copyToClipboard('remainder',\n",
       "                          this.parentElement.nextElementSibling)\"\n",
       "            ></i></td>\n",
       "            <td class=\"param\">remainder&nbsp;</td>\n",
       "            <td class=\"value\">&#x27;drop&#x27;</td>\n",
       "        </tr>\n",
       "    \n",
       "\n",
       "        <tr class=\"default\">\n",
       "            <td><i class=\"copy-paste-icon\"\n",
       "                 onclick=\"copyToClipboard('sparse_threshold',\n",
       "                          this.parentElement.nextElementSibling)\"\n",
       "            ></i></td>\n",
       "            <td class=\"param\">sparse_threshold&nbsp;</td>\n",
       "            <td class=\"value\">0.3</td>\n",
       "        </tr>\n",
       "    \n",
       "\n",
       "        <tr class=\"default\">\n",
       "            <td><i class=\"copy-paste-icon\"\n",
       "                 onclick=\"copyToClipboard('n_jobs',\n",
       "                          this.parentElement.nextElementSibling)\"\n",
       "            ></i></td>\n",
       "            <td class=\"param\">n_jobs&nbsp;</td>\n",
       "            <td class=\"value\">None</td>\n",
       "        </tr>\n",
       "    \n",
       "\n",
       "        <tr class=\"default\">\n",
       "            <td><i class=\"copy-paste-icon\"\n",
       "                 onclick=\"copyToClipboard('transformer_weights',\n",
       "                          this.parentElement.nextElementSibling)\"\n",
       "            ></i></td>\n",
       "            <td class=\"param\">transformer_weights&nbsp;</td>\n",
       "            <td class=\"value\">None</td>\n",
       "        </tr>\n",
       "    \n",
       "\n",
       "        <tr class=\"default\">\n",
       "            <td><i class=\"copy-paste-icon\"\n",
       "                 onclick=\"copyToClipboard('verbose',\n",
       "                          this.parentElement.nextElementSibling)\"\n",
       "            ></i></td>\n",
       "            <td class=\"param\">verbose&nbsp;</td>\n",
       "            <td class=\"value\">False</td>\n",
       "        </tr>\n",
       "    \n",
       "\n",
       "        <tr class=\"default\">\n",
       "            <td><i class=\"copy-paste-icon\"\n",
       "                 onclick=\"copyToClipboard('verbose_feature_names_out',\n",
       "                          this.parentElement.nextElementSibling)\"\n",
       "            ></i></td>\n",
       "            <td class=\"param\">verbose_feature_names_out&nbsp;</td>\n",
       "            <td class=\"value\">True</td>\n",
       "        </tr>\n",
       "    \n",
       "\n",
       "        <tr class=\"default\">\n",
       "            <td><i class=\"copy-paste-icon\"\n",
       "                 onclick=\"copyToClipboard('force_int_remainder_cols',\n",
       "                          this.parentElement.nextElementSibling)\"\n",
       "            ></i></td>\n",
       "            <td class=\"param\">force_int_remainder_cols&nbsp;</td>\n",
       "            <td class=\"value\">&#x27;deprecated&#x27;</td>\n",
       "        </tr>\n",
       "    \n",
       "                  </tbody>\n",
       "                </table>\n",
       "            </details>\n",
       "        </div>\n",
       "    </div></div></div><div class=\"sk-parallel\"><div class=\"sk-parallel-item\"><div class=\"sk-item\"><div class=\"sk-label-container\"><div class=\"sk-label fitted sk-toggleable\"><input class=\"sk-toggleable__control sk-hidden--visually\" id=\"sk-estimator-id-3\" type=\"checkbox\" ><label for=\"sk-estimator-id-3\" class=\"sk-toggleable__label fitted sk-toggleable__label-arrow\"><div><div>cat</div></div></label><div class=\"sk-toggleable__content fitted\" data-param-prefix=\"preprocessor__cat__\"><pre>[&#x27;CPT Code&#x27;, &#x27;Insurance Company&#x27;, &#x27;Physician Name&#x27;]</pre></div></div></div><div class=\"sk-serial\"><div class=\"sk-item\"><div class=\"sk-serial\"><div class=\"sk-item\"><div class=\"sk-estimator fitted sk-toggleable\"><input class=\"sk-toggleable__control sk-hidden--visually\" id=\"sk-estimator-id-4\" type=\"checkbox\" ><label for=\"sk-estimator-id-4\" class=\"sk-toggleable__label fitted sk-toggleable__label-arrow\"><div><div>SimpleImputer</div></div><div><a class=\"sk-estimator-doc-link fitted\" rel=\"noreferrer\" target=\"_blank\" href=\"https://scikit-learn.org/1.7/modules/generated/sklearn.impute.SimpleImputer.html\">?<span>Documentation for SimpleImputer</span></a></div></label><div class=\"sk-toggleable__content fitted\" data-param-prefix=\"preprocessor__cat__imputer__\">\n",
       "        <div class=\"estimator-table\">\n",
       "            <details>\n",
       "                <summary>Parameters</summary>\n",
       "                <table class=\"parameters-table\">\n",
       "                  <tbody>\n",
       "                    \n",
       "        <tr class=\"default\">\n",
       "            <td><i class=\"copy-paste-icon\"\n",
       "                 onclick=\"copyToClipboard('missing_values',\n",
       "                          this.parentElement.nextElementSibling)\"\n",
       "            ></i></td>\n",
       "            <td class=\"param\">missing_values&nbsp;</td>\n",
       "            <td class=\"value\">nan</td>\n",
       "        </tr>\n",
       "    \n",
       "\n",
       "        <tr class=\"user-set\">\n",
       "            <td><i class=\"copy-paste-icon\"\n",
       "                 onclick=\"copyToClipboard('strategy',\n",
       "                          this.parentElement.nextElementSibling)\"\n",
       "            ></i></td>\n",
       "            <td class=\"param\">strategy&nbsp;</td>\n",
       "            <td class=\"value\">&#x27;most_frequent&#x27;</td>\n",
       "        </tr>\n",
       "    \n",
       "\n",
       "        <tr class=\"default\">\n",
       "            <td><i class=\"copy-paste-icon\"\n",
       "                 onclick=\"copyToClipboard('fill_value',\n",
       "                          this.parentElement.nextElementSibling)\"\n",
       "            ></i></td>\n",
       "            <td class=\"param\">fill_value&nbsp;</td>\n",
       "            <td class=\"value\">None</td>\n",
       "        </tr>\n",
       "    \n",
       "\n",
       "        <tr class=\"default\">\n",
       "            <td><i class=\"copy-paste-icon\"\n",
       "                 onclick=\"copyToClipboard('copy',\n",
       "                          this.parentElement.nextElementSibling)\"\n",
       "            ></i></td>\n",
       "            <td class=\"param\">copy&nbsp;</td>\n",
       "            <td class=\"value\">True</td>\n",
       "        </tr>\n",
       "    \n",
       "\n",
       "        <tr class=\"default\">\n",
       "            <td><i class=\"copy-paste-icon\"\n",
       "                 onclick=\"copyToClipboard('add_indicator',\n",
       "                          this.parentElement.nextElementSibling)\"\n",
       "            ></i></td>\n",
       "            <td class=\"param\">add_indicator&nbsp;</td>\n",
       "            <td class=\"value\">False</td>\n",
       "        </tr>\n",
       "    \n",
       "\n",
       "        <tr class=\"default\">\n",
       "            <td><i class=\"copy-paste-icon\"\n",
       "                 onclick=\"copyToClipboard('keep_empty_features',\n",
       "                          this.parentElement.nextElementSibling)\"\n",
       "            ></i></td>\n",
       "            <td class=\"param\">keep_empty_features&nbsp;</td>\n",
       "            <td class=\"value\">False</td>\n",
       "        </tr>\n",
       "    \n",
       "                  </tbody>\n",
       "                </table>\n",
       "            </details>\n",
       "        </div>\n",
       "    </div></div></div><div class=\"sk-item\"><div class=\"sk-estimator fitted sk-toggleable\"><input class=\"sk-toggleable__control sk-hidden--visually\" id=\"sk-estimator-id-5\" type=\"checkbox\" ><label for=\"sk-estimator-id-5\" class=\"sk-toggleable__label fitted sk-toggleable__label-arrow\"><div><div>OneHotEncoder</div></div><div><a class=\"sk-estimator-doc-link fitted\" rel=\"noreferrer\" target=\"_blank\" href=\"https://scikit-learn.org/1.7/modules/generated/sklearn.preprocessing.OneHotEncoder.html\">?<span>Documentation for OneHotEncoder</span></a></div></label><div class=\"sk-toggleable__content fitted\" data-param-prefix=\"preprocessor__cat__onehot__\">\n",
       "        <div class=\"estimator-table\">\n",
       "            <details>\n",
       "                <summary>Parameters</summary>\n",
       "                <table class=\"parameters-table\">\n",
       "                  <tbody>\n",
       "                    \n",
       "        <tr class=\"default\">\n",
       "            <td><i class=\"copy-paste-icon\"\n",
       "                 onclick=\"copyToClipboard('categories',\n",
       "                          this.parentElement.nextElementSibling)\"\n",
       "            ></i></td>\n",
       "            <td class=\"param\">categories&nbsp;</td>\n",
       "            <td class=\"value\">&#x27;auto&#x27;</td>\n",
       "        </tr>\n",
       "    \n",
       "\n",
       "        <tr class=\"default\">\n",
       "            <td><i class=\"copy-paste-icon\"\n",
       "                 onclick=\"copyToClipboard('drop',\n",
       "                          this.parentElement.nextElementSibling)\"\n",
       "            ></i></td>\n",
       "            <td class=\"param\">drop&nbsp;</td>\n",
       "            <td class=\"value\">None</td>\n",
       "        </tr>\n",
       "    \n",
       "\n",
       "        <tr class=\"default\">\n",
       "            <td><i class=\"copy-paste-icon\"\n",
       "                 onclick=\"copyToClipboard('sparse_output',\n",
       "                          this.parentElement.nextElementSibling)\"\n",
       "            ></i></td>\n",
       "            <td class=\"param\">sparse_output&nbsp;</td>\n",
       "            <td class=\"value\">True</td>\n",
       "        </tr>\n",
       "    \n",
       "\n",
       "        <tr class=\"default\">\n",
       "            <td><i class=\"copy-paste-icon\"\n",
       "                 onclick=\"copyToClipboard('dtype',\n",
       "                          this.parentElement.nextElementSibling)\"\n",
       "            ></i></td>\n",
       "            <td class=\"param\">dtype&nbsp;</td>\n",
       "            <td class=\"value\">&lt;class &#x27;numpy.float64&#x27;&gt;</td>\n",
       "        </tr>\n",
       "    \n",
       "\n",
       "        <tr class=\"user-set\">\n",
       "            <td><i class=\"copy-paste-icon\"\n",
       "                 onclick=\"copyToClipboard('handle_unknown',\n",
       "                          this.parentElement.nextElementSibling)\"\n",
       "            ></i></td>\n",
       "            <td class=\"param\">handle_unknown&nbsp;</td>\n",
       "            <td class=\"value\">&#x27;ignore&#x27;</td>\n",
       "        </tr>\n",
       "    \n",
       "\n",
       "        <tr class=\"default\">\n",
       "            <td><i class=\"copy-paste-icon\"\n",
       "                 onclick=\"copyToClipboard('min_frequency',\n",
       "                          this.parentElement.nextElementSibling)\"\n",
       "            ></i></td>\n",
       "            <td class=\"param\">min_frequency&nbsp;</td>\n",
       "            <td class=\"value\">None</td>\n",
       "        </tr>\n",
       "    \n",
       "\n",
       "        <tr class=\"default\">\n",
       "            <td><i class=\"copy-paste-icon\"\n",
       "                 onclick=\"copyToClipboard('max_categories',\n",
       "                          this.parentElement.nextElementSibling)\"\n",
       "            ></i></td>\n",
       "            <td class=\"param\">max_categories&nbsp;</td>\n",
       "            <td class=\"value\">None</td>\n",
       "        </tr>\n",
       "    \n",
       "\n",
       "        <tr class=\"default\">\n",
       "            <td><i class=\"copy-paste-icon\"\n",
       "                 onclick=\"copyToClipboard('feature_name_combiner',\n",
       "                          this.parentElement.nextElementSibling)\"\n",
       "            ></i></td>\n",
       "            <td class=\"param\">feature_name_combiner&nbsp;</td>\n",
       "            <td class=\"value\">&#x27;concat&#x27;</td>\n",
       "        </tr>\n",
       "    \n",
       "                  </tbody>\n",
       "                </table>\n",
       "            </details>\n",
       "        </div>\n",
       "    </div></div></div></div></div></div></div></div><div class=\"sk-parallel-item\"><div class=\"sk-item\"><div class=\"sk-label-container\"><div class=\"sk-label fitted sk-toggleable\"><input class=\"sk-toggleable__control sk-hidden--visually\" id=\"sk-estimator-id-6\" type=\"checkbox\" ><label for=\"sk-estimator-id-6\" class=\"sk-toggleable__label fitted sk-toggleable__label-arrow\"><div><div>num</div></div></label><div class=\"sk-toggleable__content fitted\" data-param-prefix=\"preprocessor__num__\"><pre>[&#x27;Payment Amount&#x27;, &#x27;Balance&#x27;]</pre></div></div></div><div class=\"sk-serial\"><div class=\"sk-item\"><div class=\"sk-serial\"><div class=\"sk-item\"><div class=\"sk-estimator fitted sk-toggleable\"><input class=\"sk-toggleable__control sk-hidden--visually\" id=\"sk-estimator-id-7\" type=\"checkbox\" ><label for=\"sk-estimator-id-7\" class=\"sk-toggleable__label fitted sk-toggleable__label-arrow\"><div><div>SimpleImputer</div></div><div><a class=\"sk-estimator-doc-link fitted\" rel=\"noreferrer\" target=\"_blank\" href=\"https://scikit-learn.org/1.7/modules/generated/sklearn.impute.SimpleImputer.html\">?<span>Documentation for SimpleImputer</span></a></div></label><div class=\"sk-toggleable__content fitted\" data-param-prefix=\"preprocessor__num__imputer__\">\n",
       "        <div class=\"estimator-table\">\n",
       "            <details>\n",
       "                <summary>Parameters</summary>\n",
       "                <table class=\"parameters-table\">\n",
       "                  <tbody>\n",
       "                    \n",
       "        <tr class=\"default\">\n",
       "            <td><i class=\"copy-paste-icon\"\n",
       "                 onclick=\"copyToClipboard('missing_values',\n",
       "                          this.parentElement.nextElementSibling)\"\n",
       "            ></i></td>\n",
       "            <td class=\"param\">missing_values&nbsp;</td>\n",
       "            <td class=\"value\">nan</td>\n",
       "        </tr>\n",
       "    \n",
       "\n",
       "        <tr class=\"user-set\">\n",
       "            <td><i class=\"copy-paste-icon\"\n",
       "                 onclick=\"copyToClipboard('strategy',\n",
       "                          this.parentElement.nextElementSibling)\"\n",
       "            ></i></td>\n",
       "            <td class=\"param\">strategy&nbsp;</td>\n",
       "            <td class=\"value\">&#x27;median&#x27;</td>\n",
       "        </tr>\n",
       "    \n",
       "\n",
       "        <tr class=\"default\">\n",
       "            <td><i class=\"copy-paste-icon\"\n",
       "                 onclick=\"copyToClipboard('fill_value',\n",
       "                          this.parentElement.nextElementSibling)\"\n",
       "            ></i></td>\n",
       "            <td class=\"param\">fill_value&nbsp;</td>\n",
       "            <td class=\"value\">None</td>\n",
       "        </tr>\n",
       "    \n",
       "\n",
       "        <tr class=\"default\">\n",
       "            <td><i class=\"copy-paste-icon\"\n",
       "                 onclick=\"copyToClipboard('copy',\n",
       "                          this.parentElement.nextElementSibling)\"\n",
       "            ></i></td>\n",
       "            <td class=\"param\">copy&nbsp;</td>\n",
       "            <td class=\"value\">True</td>\n",
       "        </tr>\n",
       "    \n",
       "\n",
       "        <tr class=\"default\">\n",
       "            <td><i class=\"copy-paste-icon\"\n",
       "                 onclick=\"copyToClipboard('add_indicator',\n",
       "                          this.parentElement.nextElementSibling)\"\n",
       "            ></i></td>\n",
       "            <td class=\"param\">add_indicator&nbsp;</td>\n",
       "            <td class=\"value\">False</td>\n",
       "        </tr>\n",
       "    \n",
       "\n",
       "        <tr class=\"default\">\n",
       "            <td><i class=\"copy-paste-icon\"\n",
       "                 onclick=\"copyToClipboard('keep_empty_features',\n",
       "                          this.parentElement.nextElementSibling)\"\n",
       "            ></i></td>\n",
       "            <td class=\"param\">keep_empty_features&nbsp;</td>\n",
       "            <td class=\"value\">False</td>\n",
       "        </tr>\n",
       "    \n",
       "                  </tbody>\n",
       "                </table>\n",
       "            </details>\n",
       "        </div>\n",
       "    </div></div></div></div></div></div></div></div></div></div><div class=\"sk-item\"><div class=\"sk-estimator fitted sk-toggleable\"><input class=\"sk-toggleable__control sk-hidden--visually\" id=\"sk-estimator-id-8\" type=\"checkbox\" ><label for=\"sk-estimator-id-8\" class=\"sk-toggleable__label fitted sk-toggleable__label-arrow\"><div><div>XGBClassifier</div></div><div><a class=\"sk-estimator-doc-link fitted\" rel=\"noreferrer\" target=\"_blank\" href=\"https://xgboost.readthedocs.io/en/release_3.0.0/python/python_api.html#xgboost.XGBClassifier\">?<span>Documentation for XGBClassifier</span></a></div></label><div class=\"sk-toggleable__content fitted\" data-param-prefix=\"classifier__\">\n",
       "        <div class=\"estimator-table\">\n",
       "            <details>\n",
       "                <summary>Parameters</summary>\n",
       "                <table class=\"parameters-table\">\n",
       "                  <tbody>\n",
       "                    \n",
       "        <tr class=\"user-set\">\n",
       "            <td><i class=\"copy-paste-icon\"\n",
       "                 onclick=\"copyToClipboard('objective',\n",
       "                          this.parentElement.nextElementSibling)\"\n",
       "            ></i></td>\n",
       "            <td class=\"param\">objective&nbsp;</td>\n",
       "            <td class=\"value\">&#x27;multi:softprob&#x27;</td>\n",
       "        </tr>\n",
       "    \n",
       "\n",
       "        <tr class=\"user-set\">\n",
       "            <td><i class=\"copy-paste-icon\"\n",
       "                 onclick=\"copyToClipboard('base_score',\n",
       "                          this.parentElement.nextElementSibling)\"\n",
       "            ></i></td>\n",
       "            <td class=\"param\">base_score&nbsp;</td>\n",
       "            <td class=\"value\">None</td>\n",
       "        </tr>\n",
       "    \n",
       "\n",
       "        <tr class=\"user-set\">\n",
       "            <td><i class=\"copy-paste-icon\"\n",
       "                 onclick=\"copyToClipboard('booster',\n",
       "                          this.parentElement.nextElementSibling)\"\n",
       "            ></i></td>\n",
       "            <td class=\"param\">booster&nbsp;</td>\n",
       "            <td class=\"value\">None</td>\n",
       "        </tr>\n",
       "    \n",
       "\n",
       "        <tr class=\"user-set\">\n",
       "            <td><i class=\"copy-paste-icon\"\n",
       "                 onclick=\"copyToClipboard('callbacks',\n",
       "                          this.parentElement.nextElementSibling)\"\n",
       "            ></i></td>\n",
       "            <td class=\"param\">callbacks&nbsp;</td>\n",
       "            <td class=\"value\">None</td>\n",
       "        </tr>\n",
       "    \n",
       "\n",
       "        <tr class=\"user-set\">\n",
       "            <td><i class=\"copy-paste-icon\"\n",
       "                 onclick=\"copyToClipboard('colsample_bylevel',\n",
       "                          this.parentElement.nextElementSibling)\"\n",
       "            ></i></td>\n",
       "            <td class=\"param\">colsample_bylevel&nbsp;</td>\n",
       "            <td class=\"value\">None</td>\n",
       "        </tr>\n",
       "    \n",
       "\n",
       "        <tr class=\"user-set\">\n",
       "            <td><i class=\"copy-paste-icon\"\n",
       "                 onclick=\"copyToClipboard('colsample_bynode',\n",
       "                          this.parentElement.nextElementSibling)\"\n",
       "            ></i></td>\n",
       "            <td class=\"param\">colsample_bynode&nbsp;</td>\n",
       "            <td class=\"value\">None</td>\n",
       "        </tr>\n",
       "    \n",
       "\n",
       "        <tr class=\"user-set\">\n",
       "            <td><i class=\"copy-paste-icon\"\n",
       "                 onclick=\"copyToClipboard('colsample_bytree',\n",
       "                          this.parentElement.nextElementSibling)\"\n",
       "            ></i></td>\n",
       "            <td class=\"param\">colsample_bytree&nbsp;</td>\n",
       "            <td class=\"value\">None</td>\n",
       "        </tr>\n",
       "    \n",
       "\n",
       "        <tr class=\"user-set\">\n",
       "            <td><i class=\"copy-paste-icon\"\n",
       "                 onclick=\"copyToClipboard('device',\n",
       "                          this.parentElement.nextElementSibling)\"\n",
       "            ></i></td>\n",
       "            <td class=\"param\">device&nbsp;</td>\n",
       "            <td class=\"value\">None</td>\n",
       "        </tr>\n",
       "    \n",
       "\n",
       "        <tr class=\"user-set\">\n",
       "            <td><i class=\"copy-paste-icon\"\n",
       "                 onclick=\"copyToClipboard('early_stopping_rounds',\n",
       "                          this.parentElement.nextElementSibling)\"\n",
       "            ></i></td>\n",
       "            <td class=\"param\">early_stopping_rounds&nbsp;</td>\n",
       "            <td class=\"value\">None</td>\n",
       "        </tr>\n",
       "    \n",
       "\n",
       "        <tr class=\"user-set\">\n",
       "            <td><i class=\"copy-paste-icon\"\n",
       "                 onclick=\"copyToClipboard('enable_categorical',\n",
       "                          this.parentElement.nextElementSibling)\"\n",
       "            ></i></td>\n",
       "            <td class=\"param\">enable_categorical&nbsp;</td>\n",
       "            <td class=\"value\">False</td>\n",
       "        </tr>\n",
       "    \n",
       "\n",
       "        <tr class=\"user-set\">\n",
       "            <td><i class=\"copy-paste-icon\"\n",
       "                 onclick=\"copyToClipboard('eval_metric',\n",
       "                          this.parentElement.nextElementSibling)\"\n",
       "            ></i></td>\n",
       "            <td class=\"param\">eval_metric&nbsp;</td>\n",
       "            <td class=\"value\">&#x27;mlogloss&#x27;</td>\n",
       "        </tr>\n",
       "    \n",
       "\n",
       "        <tr class=\"user-set\">\n",
       "            <td><i class=\"copy-paste-icon\"\n",
       "                 onclick=\"copyToClipboard('feature_types',\n",
       "                          this.parentElement.nextElementSibling)\"\n",
       "            ></i></td>\n",
       "            <td class=\"param\">feature_types&nbsp;</td>\n",
       "            <td class=\"value\">None</td>\n",
       "        </tr>\n",
       "    \n",
       "\n",
       "        <tr class=\"user-set\">\n",
       "            <td><i class=\"copy-paste-icon\"\n",
       "                 onclick=\"copyToClipboard('feature_weights',\n",
       "                          this.parentElement.nextElementSibling)\"\n",
       "            ></i></td>\n",
       "            <td class=\"param\">feature_weights&nbsp;</td>\n",
       "            <td class=\"value\">None</td>\n",
       "        </tr>\n",
       "    \n",
       "\n",
       "        <tr class=\"user-set\">\n",
       "            <td><i class=\"copy-paste-icon\"\n",
       "                 onclick=\"copyToClipboard('gamma',\n",
       "                          this.parentElement.nextElementSibling)\"\n",
       "            ></i></td>\n",
       "            <td class=\"param\">gamma&nbsp;</td>\n",
       "            <td class=\"value\">None</td>\n",
       "        </tr>\n",
       "    \n",
       "\n",
       "        <tr class=\"user-set\">\n",
       "            <td><i class=\"copy-paste-icon\"\n",
       "                 onclick=\"copyToClipboard('grow_policy',\n",
       "                          this.parentElement.nextElementSibling)\"\n",
       "            ></i></td>\n",
       "            <td class=\"param\">grow_policy&nbsp;</td>\n",
       "            <td class=\"value\">None</td>\n",
       "        </tr>\n",
       "    \n",
       "\n",
       "        <tr class=\"user-set\">\n",
       "            <td><i class=\"copy-paste-icon\"\n",
       "                 onclick=\"copyToClipboard('importance_type',\n",
       "                          this.parentElement.nextElementSibling)\"\n",
       "            ></i></td>\n",
       "            <td class=\"param\">importance_type&nbsp;</td>\n",
       "            <td class=\"value\">None</td>\n",
       "        </tr>\n",
       "    \n",
       "\n",
       "        <tr class=\"user-set\">\n",
       "            <td><i class=\"copy-paste-icon\"\n",
       "                 onclick=\"copyToClipboard('interaction_constraints',\n",
       "                          this.parentElement.nextElementSibling)\"\n",
       "            ></i></td>\n",
       "            <td class=\"param\">interaction_constraints&nbsp;</td>\n",
       "            <td class=\"value\">None</td>\n",
       "        </tr>\n",
       "    \n",
       "\n",
       "        <tr class=\"user-set\">\n",
       "            <td><i class=\"copy-paste-icon\"\n",
       "                 onclick=\"copyToClipboard('learning_rate',\n",
       "                          this.parentElement.nextElementSibling)\"\n",
       "            ></i></td>\n",
       "            <td class=\"param\">learning_rate&nbsp;</td>\n",
       "            <td class=\"value\">None</td>\n",
       "        </tr>\n",
       "    \n",
       "\n",
       "        <tr class=\"user-set\">\n",
       "            <td><i class=\"copy-paste-icon\"\n",
       "                 onclick=\"copyToClipboard('max_bin',\n",
       "                          this.parentElement.nextElementSibling)\"\n",
       "            ></i></td>\n",
       "            <td class=\"param\">max_bin&nbsp;</td>\n",
       "            <td class=\"value\">None</td>\n",
       "        </tr>\n",
       "    \n",
       "\n",
       "        <tr class=\"user-set\">\n",
       "            <td><i class=\"copy-paste-icon\"\n",
       "                 onclick=\"copyToClipboard('max_cat_threshold',\n",
       "                          this.parentElement.nextElementSibling)\"\n",
       "            ></i></td>\n",
       "            <td class=\"param\">max_cat_threshold&nbsp;</td>\n",
       "            <td class=\"value\">None</td>\n",
       "        </tr>\n",
       "    \n",
       "\n",
       "        <tr class=\"user-set\">\n",
       "            <td><i class=\"copy-paste-icon\"\n",
       "                 onclick=\"copyToClipboard('max_cat_to_onehot',\n",
       "                          this.parentElement.nextElementSibling)\"\n",
       "            ></i></td>\n",
       "            <td class=\"param\">max_cat_to_onehot&nbsp;</td>\n",
       "            <td class=\"value\">None</td>\n",
       "        </tr>\n",
       "    \n",
       "\n",
       "        <tr class=\"user-set\">\n",
       "            <td><i class=\"copy-paste-icon\"\n",
       "                 onclick=\"copyToClipboard('max_delta_step',\n",
       "                          this.parentElement.nextElementSibling)\"\n",
       "            ></i></td>\n",
       "            <td class=\"param\">max_delta_step&nbsp;</td>\n",
       "            <td class=\"value\">None</td>\n",
       "        </tr>\n",
       "    \n",
       "\n",
       "        <tr class=\"user-set\">\n",
       "            <td><i class=\"copy-paste-icon\"\n",
       "                 onclick=\"copyToClipboard('max_depth',\n",
       "                          this.parentElement.nextElementSibling)\"\n",
       "            ></i></td>\n",
       "            <td class=\"param\">max_depth&nbsp;</td>\n",
       "            <td class=\"value\">None</td>\n",
       "        </tr>\n",
       "    \n",
       "\n",
       "        <tr class=\"user-set\">\n",
       "            <td><i class=\"copy-paste-icon\"\n",
       "                 onclick=\"copyToClipboard('max_leaves',\n",
       "                          this.parentElement.nextElementSibling)\"\n",
       "            ></i></td>\n",
       "            <td class=\"param\">max_leaves&nbsp;</td>\n",
       "            <td class=\"value\">None</td>\n",
       "        </tr>\n",
       "    \n",
       "\n",
       "        <tr class=\"user-set\">\n",
       "            <td><i class=\"copy-paste-icon\"\n",
       "                 onclick=\"copyToClipboard('min_child_weight',\n",
       "                          this.parentElement.nextElementSibling)\"\n",
       "            ></i></td>\n",
       "            <td class=\"param\">min_child_weight&nbsp;</td>\n",
       "            <td class=\"value\">None</td>\n",
       "        </tr>\n",
       "    \n",
       "\n",
       "        <tr class=\"user-set\">\n",
       "            <td><i class=\"copy-paste-icon\"\n",
       "                 onclick=\"copyToClipboard('missing',\n",
       "                          this.parentElement.nextElementSibling)\"\n",
       "            ></i></td>\n",
       "            <td class=\"param\">missing&nbsp;</td>\n",
       "            <td class=\"value\">nan</td>\n",
       "        </tr>\n",
       "    \n",
       "\n",
       "        <tr class=\"user-set\">\n",
       "            <td><i class=\"copy-paste-icon\"\n",
       "                 onclick=\"copyToClipboard('monotone_constraints',\n",
       "                          this.parentElement.nextElementSibling)\"\n",
       "            ></i></td>\n",
       "            <td class=\"param\">monotone_constraints&nbsp;</td>\n",
       "            <td class=\"value\">None</td>\n",
       "        </tr>\n",
       "    \n",
       "\n",
       "        <tr class=\"user-set\">\n",
       "            <td><i class=\"copy-paste-icon\"\n",
       "                 onclick=\"copyToClipboard('multi_strategy',\n",
       "                          this.parentElement.nextElementSibling)\"\n",
       "            ></i></td>\n",
       "            <td class=\"param\">multi_strategy&nbsp;</td>\n",
       "            <td class=\"value\">None</td>\n",
       "        </tr>\n",
       "    \n",
       "\n",
       "        <tr class=\"user-set\">\n",
       "            <td><i class=\"copy-paste-icon\"\n",
       "                 onclick=\"copyToClipboard('n_estimators',\n",
       "                          this.parentElement.nextElementSibling)\"\n",
       "            ></i></td>\n",
       "            <td class=\"param\">n_estimators&nbsp;</td>\n",
       "            <td class=\"value\">None</td>\n",
       "        </tr>\n",
       "    \n",
       "\n",
       "        <tr class=\"user-set\">\n",
       "            <td><i class=\"copy-paste-icon\"\n",
       "                 onclick=\"copyToClipboard('n_jobs',\n",
       "                          this.parentElement.nextElementSibling)\"\n",
       "            ></i></td>\n",
       "            <td class=\"param\">n_jobs&nbsp;</td>\n",
       "            <td class=\"value\">None</td>\n",
       "        </tr>\n",
       "    \n",
       "\n",
       "        <tr class=\"user-set\">\n",
       "            <td><i class=\"copy-paste-icon\"\n",
       "                 onclick=\"copyToClipboard('num_parallel_tree',\n",
       "                          this.parentElement.nextElementSibling)\"\n",
       "            ></i></td>\n",
       "            <td class=\"param\">num_parallel_tree&nbsp;</td>\n",
       "            <td class=\"value\">None</td>\n",
       "        </tr>\n",
       "    \n",
       "\n",
       "        <tr class=\"user-set\">\n",
       "            <td><i class=\"copy-paste-icon\"\n",
       "                 onclick=\"copyToClipboard('random_state',\n",
       "                          this.parentElement.nextElementSibling)\"\n",
       "            ></i></td>\n",
       "            <td class=\"param\">random_state&nbsp;</td>\n",
       "            <td class=\"value\">None</td>\n",
       "        </tr>\n",
       "    \n",
       "\n",
       "        <tr class=\"user-set\">\n",
       "            <td><i class=\"copy-paste-icon\"\n",
       "                 onclick=\"copyToClipboard('reg_alpha',\n",
       "                          this.parentElement.nextElementSibling)\"\n",
       "            ></i></td>\n",
       "            <td class=\"param\">reg_alpha&nbsp;</td>\n",
       "            <td class=\"value\">None</td>\n",
       "        </tr>\n",
       "    \n",
       "\n",
       "        <tr class=\"user-set\">\n",
       "            <td><i class=\"copy-paste-icon\"\n",
       "                 onclick=\"copyToClipboard('reg_lambda',\n",
       "                          this.parentElement.nextElementSibling)\"\n",
       "            ></i></td>\n",
       "            <td class=\"param\">reg_lambda&nbsp;</td>\n",
       "            <td class=\"value\">None</td>\n",
       "        </tr>\n",
       "    \n",
       "\n",
       "        <tr class=\"user-set\">\n",
       "            <td><i class=\"copy-paste-icon\"\n",
       "                 onclick=\"copyToClipboard('sampling_method',\n",
       "                          this.parentElement.nextElementSibling)\"\n",
       "            ></i></td>\n",
       "            <td class=\"param\">sampling_method&nbsp;</td>\n",
       "            <td class=\"value\">None</td>\n",
       "        </tr>\n",
       "    \n",
       "\n",
       "        <tr class=\"user-set\">\n",
       "            <td><i class=\"copy-paste-icon\"\n",
       "                 onclick=\"copyToClipboard('scale_pos_weight',\n",
       "                          this.parentElement.nextElementSibling)\"\n",
       "            ></i></td>\n",
       "            <td class=\"param\">scale_pos_weight&nbsp;</td>\n",
       "            <td class=\"value\">None</td>\n",
       "        </tr>\n",
       "    \n",
       "\n",
       "        <tr class=\"user-set\">\n",
       "            <td><i class=\"copy-paste-icon\"\n",
       "                 onclick=\"copyToClipboard('subsample',\n",
       "                          this.parentElement.nextElementSibling)\"\n",
       "            ></i></td>\n",
       "            <td class=\"param\">subsample&nbsp;</td>\n",
       "            <td class=\"value\">None</td>\n",
       "        </tr>\n",
       "    \n",
       "\n",
       "        <tr class=\"user-set\">\n",
       "            <td><i class=\"copy-paste-icon\"\n",
       "                 onclick=\"copyToClipboard('tree_method',\n",
       "                          this.parentElement.nextElementSibling)\"\n",
       "            ></i></td>\n",
       "            <td class=\"param\">tree_method&nbsp;</td>\n",
       "            <td class=\"value\">None</td>\n",
       "        </tr>\n",
       "    \n",
       "\n",
       "        <tr class=\"user-set\">\n",
       "            <td><i class=\"copy-paste-icon\"\n",
       "                 onclick=\"copyToClipboard('validate_parameters',\n",
       "                          this.parentElement.nextElementSibling)\"\n",
       "            ></i></td>\n",
       "            <td class=\"param\">validate_parameters&nbsp;</td>\n",
       "            <td class=\"value\">None</td>\n",
       "        </tr>\n",
       "    \n",
       "\n",
       "        <tr class=\"user-set\">\n",
       "            <td><i class=\"copy-paste-icon\"\n",
       "                 onclick=\"copyToClipboard('verbosity',\n",
       "                          this.parentElement.nextElementSibling)\"\n",
       "            ></i></td>\n",
       "            <td class=\"param\">verbosity&nbsp;</td>\n",
       "            <td class=\"value\">None</td>\n",
       "        </tr>\n",
       "    \n",
       "\n",
       "        <tr class=\"user-set\">\n",
       "            <td><i class=\"copy-paste-icon\"\n",
       "                 onclick=\"copyToClipboard('use_label_encoder',\n",
       "                          this.parentElement.nextElementSibling)\"\n",
       "            ></i></td>\n",
       "            <td class=\"param\">use_label_encoder&nbsp;</td>\n",
       "            <td class=\"value\">False</td>\n",
       "        </tr>\n",
       "    \n",
       "                  </tbody>\n",
       "                </table>\n",
       "            </details>\n",
       "        </div>\n",
       "    </div></div></div></div></div></div></div><script>function copyToClipboard(text, element) {\n",
       "    // Get the parameter prefix from the closest toggleable content\n",
       "    const toggleableContent = element.closest('.sk-toggleable__content');\n",
       "    const paramPrefix = toggleableContent ? toggleableContent.dataset.paramPrefix : '';\n",
       "    const fullParamName = paramPrefix ? `${paramPrefix}${text}` : text;\n",
       "\n",
       "    const originalStyle = element.style;\n",
       "    const computedStyle = window.getComputedStyle(element);\n",
       "    const originalWidth = computedStyle.width;\n",
       "    const originalHTML = element.innerHTML.replace('Copied!', '');\n",
       "\n",
       "    navigator.clipboard.writeText(fullParamName)\n",
       "        .then(() => {\n",
       "            element.style.width = originalWidth;\n",
       "            element.style.color = 'green';\n",
       "            element.innerHTML = \"Copied!\";\n",
       "\n",
       "            setTimeout(() => {\n",
       "                element.innerHTML = originalHTML;\n",
       "                element.style = originalStyle;\n",
       "            }, 2000);\n",
       "        })\n",
       "        .catch(err => {\n",
       "            console.error('Failed to copy:', err);\n",
       "            element.style.color = 'red';\n",
       "            element.innerHTML = \"Failed!\";\n",
       "            setTimeout(() => {\n",
       "                element.innerHTML = originalHTML;\n",
       "                element.style = originalStyle;\n",
       "            }, 2000);\n",
       "        });\n",
       "    return false;\n",
       "}\n",
       "\n",
       "document.querySelectorAll('.fa-regular.fa-copy').forEach(function(element) {\n",
       "    const toggleableContent = element.closest('.sk-toggleable__content');\n",
       "    const paramPrefix = toggleableContent ? toggleableContent.dataset.paramPrefix : '';\n",
       "    const paramName = element.parentElement.nextElementSibling.textContent.trim();\n",
       "    const fullParamName = paramPrefix ? `${paramPrefix}${paramName}` : paramName;\n",
       "\n",
       "    element.setAttribute('title', fullParamName);\n",
       "});\n",
       "</script></body>"
      ],
      "text/plain": [
       "Pipeline(steps=[('preprocessor',\n",
       "                 ColumnTransformer(transformers=[('cat',\n",
       "                                                  Pipeline(steps=[('imputer',\n",
       "                                                                   SimpleImputer(strategy='most_frequent')),\n",
       "                                                                  ('onehot',\n",
       "                                                                   OneHotEncoder(handle_unknown='ignore'))]),\n",
       "                                                  ['CPT Code',\n",
       "                                                   'Insurance Company',\n",
       "                                                   'Physician Name']),\n",
       "                                                 ('num',\n",
       "                                                  Pipeline(steps=[('imputer',\n",
       "                                                                   SimpleImputer(strategy='median'))]),\n",
       "                                                  ['Payment Amount',\n",
       "                                                   'Balance'])])),\n",
       "                ('classif...\n",
       "                               feature_types=None, feature_weights=None,\n",
       "                               gamma=None, grow_policy=None,\n",
       "                               importance_type=None,\n",
       "                               interaction_constraints=None, learning_rate=None,\n",
       "                               max_bin=None, max_cat_threshold=None,\n",
       "                               max_cat_to_onehot=None, max_delta_step=None,\n",
       "                               max_depth=None, max_leaves=None,\n",
       "                               min_child_weight=None, missing=nan,\n",
       "                               monotone_constraints=None, multi_strategy=None,\n",
       "                               n_estimators=None, n_jobs=None,\n",
       "                               num_parallel_tree=None, ...))])"
      ]
     },
     "execution_count": 52,
     "metadata": {},
     "output_type": "execute_result"
    }
   ],
   "source": [
    "# Logistic Regression\n",
    "from sklearn.linear_model import LogisticRegression\n",
    "logreg_model = Pipeline(steps=[\n",
    "    (\"preprocessor\", preprocessor),\n",
    "    (\"classifier\", LogisticRegression(max_iter=1000))\n",
    "])\n",
    "logreg_model.fit(X_train, y_train)\n",
    "\n",
    "# Random Forest\n",
    "from sklearn.ensemble import RandomForestClassifier\n",
    "rf_model = Pipeline(steps=[\n",
    "    (\"preprocessor\", preprocessor),\n",
    "    (\"classifier\", RandomForestClassifier(n_estimators=200, random_state=42))\n",
    "])\n",
    "rf_model.fit(X_train, y_train)\n",
    "\n",
    "# XGBoost\n",
    "from xgboost import XGBClassifier\n",
    "xgb_model = Pipeline(steps=[\n",
    "    (\"preprocessor\", preprocessor),\n",
    "    (\"classifier\", XGBClassifier(use_label_encoder=False, eval_metric=\"mlogloss\"))\n",
    "])\n",
    "xgb_model.fit(X_train, y_train)\n"
   ]
  },
  {
   "cell_type": "code",
   "execution_count": 53,
   "metadata": {
    "cell_id": "2646a690c85a492c8cb3c90b54905e99",
    "deepnote_cell_type": "code",
    "execution_context_id": "7785e0f8-c8d5-46fe-9321-13d8453a6968",
    "execution_millis": 270,
    "execution_start": 1756928491863,
    "source_hash": "ed4042ab"
   },
   "outputs": [
    {
     "data": {
      "image/png": "[encoded data removed]",
      "text/plain": [
       "<Figure size 1000x700 with 1 Axes>"
      ]
     },
     "metadata": {
      "image/png": {
       "height": 629,
       "width": 861
      }
     },
     "output_type": "display_data"
    }
   ],
   "source": [
    "import matplotlib.pyplot as plt\n",
    "from sklearn.metrics import roc_auc_score, roc_curve, auc\n",
    "from sklearn.preprocessing import label_binarize\n",
    "import numpy as np\n",
    "\n",
    "# Binarize the output for multi-class ROC\n",
    "y_test_bin = label_binarize(y_test, classes=list(range(len(le_target.classes_))))\n",
    "n_classes = y_test_bin.shape[1]\n",
    "\n",
    "# Initialize figure\n",
    "plt.figure(figsize=(10, 7))\n",
    "\n",
    "models = {\n",
    "    \"Logistic Regression\": logreg_model,\n",
    "    \"Random Forest\": rf_model,\n",
    "    \"XGBoost\": xgb_model\n",
    "}\n",
    "\n",
    "\n",
    "# Loop through models\n",
    "for name, model in models.items():\n",
    "    # Predict probabilities\n",
    "    y_score = model.predict_proba(X_test)\n",
    "    \n",
    "    # Compute ROC curve and AUC for each class\n",
    "    for i in range(n_classes):\n",
    "        fpr, tpr, _ = roc_curve(y_test_bin[:, i], y_score[:, i])\n",
    "        roc_auc = auc(fpr, tpr)\n",
    "        plt.plot(fpr, tpr, lw=2,\n",
    "                 label=f\"{name} - {le_target.classes_[i]} (AUC = {roc_auc:.2f})\")\n",
    "\n",
    "# Plot settings\n",
    "plt.plot([0, 1], [0, 1], \"k--\", lw=2)  # diagonal line\n",
    "plt.xlim([0.0, 1.0])\n",
    "plt.ylim([0.0, 1.05])\n",
    "plt.xlabel(\"False Positive Rate\", fontsize=12)\n",
    "plt.ylabel(\"True Positive Rate\", fontsize=12)\n",
    "plt.title(\"ROC Curves for All Models\", fontsize=14)\n",
    "plt.legend(loc=\"lower right\", fontsize=9)\n",
    "plt.grid(True)\n",
    "plt.show()\n"
   ]
  },
  {
   "cell_type": "code",
   "execution_count": 54,
   "metadata": {
    "cell_id": "0ed29b0a7c304d57bab6d179065ca3d9",
    "deepnote_cell_type": "code",
    "execution_context_id": "7785e0f8-c8d5-46fe-9321-13d8453a6968",
    "execution_millis": 129,
    "execution_start": 1756928492185,
    "source_hash": "ea22fc60"
   },
   "outputs": [
    {
     "name": "stdout",
     "output_type": "stream",
     "text": [
      "--- Logistic Regression ---\n",
      "Accuracy: 1.0\n",
      "Confusion Matrix:\n",
      " [[1 0 0 0]\n",
      " [0 2 0 0]\n",
      " [0 0 2 0]\n",
      " [0 0 0 3]]\n",
      "Classification Report:\n",
      "               precision    recall  f1-score   support\n",
      "\n",
      "           0       1.00      1.00      1.00         1\n",
      "           1       1.00      1.00      1.00         2\n",
      "           2       1.00      1.00      1.00         2\n",
      "           3       1.00      1.00      1.00         3\n",
      "\n",
      "    accuracy                           1.00         8\n",
      "   macro avg       1.00      1.00      1.00         8\n",
      "weighted avg       1.00      1.00      1.00         8\n",
      "\n",
      "\n",
      "\n",
      "--- Random Forest ---\n",
      "Accuracy: 1.0\n",
      "Confusion Matrix:\n",
      " [[1 0 0 0]\n",
      " [0 2 0 0]\n",
      " [0 0 2 0]\n",
      " [0 0 0 3]]\n",
      "Classification Report:\n",
      "               precision    recall  f1-score   support\n",
      "\n",
      "           0       1.00      1.00      1.00         1\n",
      "           1       1.00      1.00      1.00         2\n",
      "           2       1.00      1.00      1.00         2\n",
      "           3       1.00      1.00      1.00         3\n",
      "\n",
      "    accuracy                           1.00         8\n",
      "   macro avg       1.00      1.00      1.00         8\n",
      "weighted avg       1.00      1.00      1.00         8\n",
      "\n",
      "\n",
      "\n",
      "--- XGBoost ---\n",
      "Accuracy: 1.0\n",
      "Confusion Matrix:\n",
      " [[1 0 0 0]\n",
      " [0 2 0 0]\n",
      " [0 0 2 0]\n",
      " [0 0 0 3]]\n",
      "Classification Report:\n",
      "               precision    recall  f1-score   support\n",
      "\n",
      "           0       1.00      1.00      1.00         1\n",
      "           1       1.00      1.00      1.00         2\n",
      "           2       1.00      1.00      1.00         2\n",
      "           3       1.00      1.00      1.00         3\n",
      "\n",
      "    accuracy                           1.00         8\n",
      "   macro avg       1.00      1.00      1.00         8\n",
      "weighted avg       1.00      1.00      1.00         8\n",
      "\n",
      "\n",
      "\n"
     ]
    }
   ],
   "source": [
    "from sklearn.metrics import classification_report, confusion_matrix, accuracy_score\n",
    "\n",
    "for name, model in models.items():\n",
    "    y_pred = model.predict(X_test)\n",
    "    print(f\"--- {name} ---\")\n",
    "    print(\"Accuracy:\", accuracy_score(y_test, y_pred))\n",
    "    print(\"Confusion Matrix:\\n\", confusion_matrix(y_test, y_pred))\n",
    "    print(\"Classification Report:\\n\", classification_report(y_test, y_pred))\n",
    "    print(\"\\n\")\n"
   ]
  },
  {
   "cell_type": "code",
   "execution_count": 55,
   "metadata": {
    "cell_id": "cec6fce17c4743a2901d10edd49aef95",
    "deepnote_cell_type": "code",
    "execution_context_id": "7785e0f8-c8d5-46fe-9321-13d8453a6968",
    "execution_millis": 1710,
    "execution_start": 1756928492382,
    "source_hash": "212b50fd"
   },
   "outputs": [
    {
     "name": "stdout",
     "output_type": "stream",
     "text": [
      "Logistic Regression CV Accuracy: 1.000 (+/- 0.000)\n",
      "Random Forest CV Accuracy: 1.000 (+/- 0.000)\n",
      "XGBoost CV Accuracy: 1.000 (+/- 0.000)\n"
     ]
    }
   ],
   "source": [
    "import warnings\n",
    "from sklearn.model_selection import cross_val_score\n",
    "\n",
    "warnings.filterwarnings(\"ignore\", category=UserWarning)\n",
    "for name, model in models.items():\n",
    "    scores = cross_val_score(model, X, y, cv=5, scoring=\"accuracy\")\n",
    "    print(f\"{name} CV Accuracy: {scores.mean():.3f} (+/- {scores.std():.3f})\")\n"
   ]
  },
  {
   "cell_type": "code",
   "execution_count": 56,
   "metadata": {
    "cell_id": "f59deba4ae4145b98b6d1eb731c37437",
    "deepnote_cell_type": "code",
    "execution_context_id": "7785e0f8-c8d5-46fe-9321-13d8453a6968",
    "execution_millis": 17660,
    "execution_start": 1756928494145,
    "source_hash": "ce95d5bc"
   },
   "outputs": [
    {
     "name": "stdout",
     "output_type": "stream",
     "text": [
      "Best Parameters: {'classifier__colsample_bytree': 0.8, 'classifier__gamma': 0, 'classifier__learning_rate': 0.01, 'classifier__max_depth': 3, 'classifier__n_estimators': 100, 'classifier__reg_lambda': 1, 'classifier__subsample': 0.8}\n",
      "Best CV Accuracy: 1.0\n"
     ]
    }
   ],
   "source": [
    "from sklearn.pipeline import Pipeline\n",
    "from sklearn.model_selection import GridSearchCV, StratifiedKFold\n",
    "from xgboost import XGBClassifier\n",
    "\n",
    "# Define categorical columns\n",
    "categorical_cols = ['CPT Code', 'Insurance Company', 'Physician Name']\n",
    "\n",
    "# Preprocessor\n",
    "preprocessor = ColumnTransformer(\n",
    "    transformers=[\n",
    "        ('cat', OneHotEncoder(handle_unknown='ignore'), categorical_cols)\n",
    "    ],\n",
    "    remainder='drop'\n",
    ")\n",
    "\n",
    "# XGBoost model\n",
    "xgb_clf = XGBClassifier( eval_metric='mlogloss')\n",
    "\n",
    "# Pipeline\n",
    "pipeline = Pipeline(steps=[('preprocessor', preprocessor),\n",
    "                           ('classifier', xgb_clf)])\n",
    "\n",
    "# Hyperparameter grid\n",
    "param_grid = {\n",
    "    'classifier__n_estimators': [100, 200],\n",
    "    'classifier__max_depth': [3, 5],\n",
    "    'classifier__learning_rate': [0.01, 0.1],\n",
    "    'classifier__subsample': [0.8, 1.0],\n",
    "    'classifier__colsample_bytree': [0.8, 1.0],\n",
    "    'classifier__gamma': [0, 0.1],\n",
    "    'classifier__reg_lambda': [1, 5, 10]\n",
    "}\n",
    "\n",
    "cv = StratifiedKFold(n_splits=5, shuffle=True, random_state=42)\n",
    "\n",
    "grid_search = GridSearchCV(\n",
    "    estimator=pipeline,\n",
    "    param_grid=param_grid,\n",
    "    scoring='accuracy',\n",
    "    cv=cv,\n",
    "    n_jobs=-1\n",
    ")\n",
    "\n",
    "grid_search.fit(X, y)\n",
    "\n",
    "print(\"Best Parameters:\", grid_search.best_params_)\n",
    "print(\"Best CV Accuracy:\", grid_search.best_score_)\n"
   ]
  },
  {
   "cell_type": "code",
   "execution_count": 57,
   "metadata": {
    "cell_id": "ce9444e9fe3a4f42ad14e0260ff6bdf1",
    "deepnote_cell_type": "code",
    "execution_context_id": "7785e0f8-c8d5-46fe-9321-13d8453a6968",
    "execution_millis": 0,
    "execution_start": 1756928511865,
    "source_hash": "86328c72"
   },
   "outputs": [],
   "source": [
    "from sklearn.preprocessing import OneHotEncoder\n",
    "from sklearn.compose import ColumnTransformer\n",
    "from sklearn.pipeline import Pipeline\n",
    "import xgboost as xgb\n",
    "\n",
    "# Categorical columns\n",
    "categorical_cols = ['CPT Code', 'Insurance Company', 'Physician Name']\n",
    "\n",
    "# Preprocessor\n",
    "preprocessor = ColumnTransformer(\n",
    "    transformers=[\n",
    "        ('cat', OneHotEncoder(handle_unknown='ignore'), categorical_cols)\n",
    "    ],\n",
    "    remainder='drop'\n",
    ")\n",
    "\n",
    "# Build pipeline with preprocessing + XGBoost\n",
    "best_model = Pipeline(steps=[\n",
    "    ('preprocessor', preprocessor),\n",
    "    ('classifier', xgb.XGBClassifier(\n",
    "        colsample_bytree=0.8,\n",
    "        gamma=0,\n",
    "        learning_rate=0.01,\n",
    "        max_depth=3,\n",
    "        n_estimators=100,\n",
    "        reg_lambda=1,\n",
    "        subsample=0.8,\n",
    "        random_state=42,\n",
    "        eval_metric=\"logloss\"\n",
    "    ))\n",
    "])\n",
    "\n",
    "# Train\n",
    "best_model.fit(X_train, y_train)\n",
    "\n",
    "# Predict\n",
    "y_pred = best_model.predict(X_test)\n"
   ]
  },
  {
   "cell_type": "code",
   "execution_count": 58,
   "metadata": {
    "cell_id": "47eafa073088418a97c6c157ecadf095",
    "deepnote_cell_type": "code",
    "execution_context_id": "7785e0f8-c8d5-46fe-9321-13d8453a6968",
    "execution_millis": 0,
    "execution_start": 1756928511915,
    "source_hash": "53c16718"
   },
   "outputs": [
    {
     "name": "stdout",
     "output_type": "stream",
     "text": [
      "Test Accuracy: 1.0\n",
      "\n",
      "Classification Report:\n",
      "               precision    recall  f1-score   support\n",
      "\n",
      "           0       1.00      1.00      1.00         1\n",
      "           1       1.00      1.00      1.00         2\n",
      "           2       1.00      1.00      1.00         2\n",
      "           3       1.00      1.00      1.00         3\n",
      "\n",
      "    accuracy                           1.00         8\n",
      "   macro avg       1.00      1.00      1.00         8\n",
      "weighted avg       1.00      1.00      1.00         8\n",
      "\n",
      "\n",
      "Confusion Matrix:\n",
      " [[1 0 0 0]\n",
      " [0 2 0 0]\n",
      " [0 0 2 0]\n",
      " [0 0 0 3]]\n"
     ]
    }
   ],
   "source": [
    "from sklearn.metrics import accuracy_score, classification_report, confusion_matrix\n",
    "\n",
    "y_pred = best_model.predict(X_test)\n",
    "\n",
    "print(\"Test Accuracy:\", accuracy_score(y_test, y_pred))\n",
    "print(\"\\nClassification Report:\\n\", classification_report(y_test, y_pred))\n",
    "print(\"\\nConfusion Matrix:\\n\", confusion_matrix(y_test, y_pred))\n"
   ]
  },
  {
   "cell_type": "code",
   "execution_count": 59,
   "metadata": {
    "cell_id": "c3d91111f2294891993a6fbb77c2a28d",
    "deepnote_cell_type": "code",
    "execution_context_id": "7785e0f8-c8d5-46fe-9321-13d8453a6968",
    "execution_millis": 48,
    "execution_start": 1756928511975,
    "source_hash": "acd99731"
   },
   "outputs": [
    {
     "name": "stderr",
     "output_type": "stream",
     "text": [
      "/tmp/ipykernel_142/3563767798.py:5: FutureWarning: \n",
      "\n",
      "Passing `palette` without assigning `hue` is deprecated and will be removed in v0.14.0. Assign the `x` variable to `hue` and set `legend=False` for the same effect.\n",
      "\n",
      "  sns.countplot(x=\"Denial Reason\", data=df, palette=\"Set2\")\n"
     ]
    },
    {
     "data": {
      "image/png": "[encoded data removed]",
      "text/plain": [
       "<Figure size 800x500 with 1 Axes>"
      ]
     },
     "metadata": {
      "image/png": {
       "height": 632,
       "width": 686
      }
     },
     "output_type": "display_data"
    }
   ],
   "source": [
    "import matplotlib.pyplot as plt\n",
    "import seaborn as sns\n",
    "\n",
    "plt.figure(figsize=(8,5))\n",
    "sns.countplot(x=\"Denial Reason\", data=df, palette=\"Set2\")\n",
    "plt.title(\"Frequency of Denial Reasons\")\n",
    "plt.xlabel(\"Denial Reason\")\n",
    "plt.ylabel(\"Count\")\n",
    "plt.xticks(rotation=45)\n",
    "plt.show()\n"
   ]
  },
  {
   "cell_type": "code",
   "execution_count": 60,
   "metadata": {
    "cell_id": "bf5e408d34ca4243bac9a1862e5f8bb0",
    "deepnote_cell_type": "code",
    "execution_context_id": "7785e0f8-c8d5-46fe-9321-13d8453a6968",
    "execution_millis": 4,
    "execution_start": 1756928512115,
    "source_hash": "d2fd0a15"
   },
   "outputs": [
    {
     "data": {
      "image/png": "[encoded data removed]",
      "text/plain": [
       "<Figure size 600x600 with 1 Axes>"
      ]
     },
     "metadata": {
      "image/png": {
       "height": 504,
       "width": 580
      }
     },
     "output_type": "display_data"
    }
   ],
   "source": [
    "plt.figure(figsize=(6,6))\n",
    "df[\"Insurance Company\"].value_counts().plot.pie(autopct='%1.1f%%', startangle=140, cmap=\"Set3\")\n",
    "plt.title(\"Claims Distribution by Insurance Company\")\n",
    "plt.ylabel(\"\")\n",
    "plt.show()\n"
   ]
  },
  {
   "cell_type": "code",
   "execution_count": 61,
   "metadata": {
    "cell_id": "028e98794f3548048efe95415aa3c6d1",
    "deepnote_cell_type": "code",
    "execution_context_id": "7785e0f8-c8d5-46fe-9321-13d8453a6968",
    "execution_millis": 121,
    "execution_start": 1756928512185,
    "source_hash": "b550940"
   },
   "outputs": [
    {
     "data": {
      "image/png": "[encoded data removed]",
      "text/plain": [
       "<Figure size 800x500 with 1 Axes>"
      ]
     },
     "metadata": {
      "image/png": {
       "height": 470,
       "width": 695
      }
     },
     "output_type": "display_data"
    }
   ],
   "source": [
    "plt.figure(figsize=(8,5))\n",
    "sns.lineplot(x=\"Payment Amount\", y=\"Balance\", data=df, marker=\"o\", color=\"blue\")\n",
    "plt.title(\"Trend: Payment vs Balance\")\n",
    "plt.xlabel(\"Payment Amount\")\n",
    "plt.ylabel(\"Balance\")\n",
    "plt.show()\n"
   ]
  },
  {
   "cell_type": "code",
   "execution_count": 62,
   "metadata": {
    "cell_id": "6e14cc88a175402092ddff87481e79b5",
    "deepnote_cell_type": "code",
    "execution_context_id": "7785e0f8-c8d5-46fe-9321-13d8453a6968",
    "execution_millis": 1431,
    "execution_start": 1756928512365,
    "source_hash": "305bf50"
   },
   "outputs": [
    {
     "name": "stdout",
     "output_type": "stream",
     "text": [
      "✅ Models and encoder saved successfully in 'models/' folder\n"
     ]
    }
   ],
   "source": [
    "import joblib\n",
    "\n",
    "# 📂 Make sure \"models\" folder exists\n",
    "import os\n",
    "os.makedirs(\"models\", exist_ok=True)\n",
    "\n",
    "# Save LabelEncoder\n",
    "joblib.dump(le_target, \"models/label_encoder.joblib\")\n",
    "\n",
    "# Save all models\n",
    "joblib.dump(logreg_model, \"models/logreg_pipeline.joblib\")\n",
    "joblib.dump(rf_model, \"models/rf_pipeline.joblib\")\n",
    "\n",
    "# Save best tuned XGBoost model (from GridSearch)\n",
    "best_model = grid_search.best_estimator_\n",
    "joblib.dump(best_model, \"models/xgb_pipeline.joblib\")\n",
    "\n",
    "print(\"✅ Models and encoder saved successfully in 'models/' folder\")\n"
   ]
  },
  {
   "cell_type": "code",
   "execution_count": 81,
   "metadata": {
    "cell_id": "753c16c452e54113a1b8c97d30f12201",
    "deepnote_cell_type": "code",
    "execution_context_id": "7785e0f8-c8d5-46fe-9321-13d8453a6968",
    "execution_millis": 36309,
    "execution_start": 1756929068886,
    "source_hash": "90ec25b6"
   },
   "outputs": [
    {
     "name": "stdout",
     "output_type": "stream",
     "text": [
      "Best Parameters: {'classifier__colsample_bytree': 0.8, 'classifier__gamma': 0, 'classifier__learning_rate': 0.01, 'classifier__max_depth': 3, 'classifier__n_estimators': 100, 'classifier__reg_lambda': 1, 'classifier__subsample': 0.8}\n",
      "Best CV Accuracy: 1.0\n"
     ]
    }
   ],
   "source": [
    "# The error indicates that the parameter 'max_depth' is not being passed correctly to the XGBClassifier within the pipeline.\n",
    "# To fix this, we need to prefix the parameter with 'classifier__' to specify that it belongs to the 'classifier' step in the pipeline.\n",
    "\n",
    "# Corrected code:\n",
    "grid_search = GridSearchCV(\n",
    "    estimator=pipeline,   \n",
    "    param_grid={\n",
    "        'classifier__n_estimators': [100, 200],\n",
    "        'classifier__max_depth': [3, 5],\n",
    "        'classifier__learning_rate': [0.01, 0.1],\n",
    "        'classifier__subsample': [0.8, 1.0],\n",
    "        'classifier__colsample_bytree': [0.8, 1.0],\n",
    "        'classifier__gamma': [0, 0.1],\n",
    "        'classifier__reg_lambda': [1, 5, 10]\n",
    "    },\n",
    "    scoring='accuracy',\n",
    "    cv=cv,\n",
    "    n_jobs=-1\n",
    ")\n",
    "grid_search.fit(X, y)\n",
    "\n",
    "print(\"Best Parameters:\", grid_search.best_params_)\n",
    "print(\"Best CV Accuracy:\", grid_search.best_score_)"
   ]
  },
  {
   "cell_type": "code",
   "execution_count": 85,
   "metadata": {
    "cell_id": "a589c1d911da441cbcfa04df09c8c600",
    "deepnote_cell_type": "code",
    "execution_context_id": "7785e0f8-c8d5-46fe-9321-13d8453a6968",
    "execution_millis": 637,
    "execution_start": 1756929124613,
    "source_hash": "8209271b"
   },
   "outputs": [
    {
     "data": {
      "text/plain": [
       "['models/xgb_bundle.joblib']"
      ]
     },
     "execution_count": 85,
     "metadata": {},
     "output_type": "execute_result"
    }
   ],
   "source": [
    "import joblib\n",
    "\n",
    "# After grid_search.fit(X, y)\n",
    "bundle = {\n",
    "    \"pipeline\": grid_search.best_estimator_,\n",
    "    \"label_encoder\": le_target,   # if you used one\n",
    "    \"cv_results\": grid_search.cv_results_,\n",
    "    \"best_params\": grid_search.best_params_,\n",
    "    \"classification_report\": classification_report(y_test, y_pred, output_dict=True),\n",
    "    \"roc_curve\": roc_curve(y_test, grid_search.best_estimator_.predict_proba(X_test)[:,1]) if len(np.unique(y_test)) == 2 else None\n",
    "}\n",
    "\n",
    "joblib.dump(bundle, \"models/xgb_bundle.joblib\")\n"
   ]
  },
  {
   "cell_type": "code",
   "execution_count": 88,
   "metadata": {
    "cell_id": "81e781d8317f403097e76526688b4c39",
    "deepnote_cell_type": "code",
    "execution_context_id": "7785e0f8-c8d5-46fe-9321-13d8453a6968",
    "execution_millis": 396,
    "execution_start": 1756929240355,
    "source_hash": "d5c7cd8"
   },
   "outputs": [
    {
     "data": {
      "text/plain": [
       "['models/xgb_bundle.joblib']"
      ]
     },
     "execution_count": 88,
     "metadata": {},
     "output_type": "execute_result"
    }
   ],
   "source": [
    "import joblib\n",
    "from sklearn.metrics import classification_report, roc_curve\n",
    "\n",
    "# After GridSearchCV is done\n",
    "best_model = grid_search.best_estimator_\n",
    "\n",
    "# (optional) hold-out test set\n",
    "X_train, X_test, y_train, y_test = train_test_split(X, y, stratify=y, test_size=0.2, random_state=42)\n",
    "best_model.fit(X_train, y_train)\n",
    "y_pred = best_model.predict(X_test)\n",
    "\n",
    "# Bundle everything\n",
    "bundle = {\n",
    "    \"pipeline\": best_model,\n",
    "    \"label_encoder\": le_target if \"le_target\" in globals() else None,  # only if you used one\n",
    "    \"cv_results\": grid_search.cv_results_,\n",
    "    \"best_params\": grid_search.best_params_,\n",
    "    \"classification_report\": classification_report(y_test, y_pred, output_dict=True),\n",
    "    \"roc_curve\": roc_curve(y_test, best_model.predict_proba(X_test)[:,1]) if len(np.unique(y_test)) == 2 else None\n",
    "}\n",
    "\n",
    "joblib.dump(bundle, \"models/xgb_bundle.joblib\")\n"
   ]
  },
  {
   "cell_type": "code",
   "execution_count": 63,
   "metadata": {
    "cell_id": "d6fef073c65d4f14a7b6fe833f397ea0",
    "deepnote_cell_type": "code",
    "deepnote_to_be_reexecuted": true,
    "execution_context_id": "d9c32564-ea8d-47bd-9070-40e486f95705",
    "execution_millis": 0,
    "execution_start": 1756920213100,
    "source_hash": "838c0c28"
   },
   "outputs": [
    {
     "data": {
      "application/vnd.deepnote.dataframe.v3+json": {
       "column_count": 9,
       "columns": [
        {
         "dtype": "object",
         "name": "CPT Code",
         "stats": {
          "categories": [
           {
            "count": 1,
            "name": "99213"
           },
           {
            "count": 1,
            "name": "99214"
           },
           {
            "count": 3,
            "name": "3 others"
           }
          ],
          "histogram": null,
          "max": null,
          "min": null,
          "nan_count": 0,
          "unique_count": 5
         }
        },
        {
         "dtype": "object",
         "name": "Insurance Company",
         "stats": {
          "categories": [
           {
            "count": 1,
            "name": "Medicare"
           },
           {
            "count": 1,
            "name": "Aetna"
           },
           {
            "count": 3,
            "name": "3 others"
           }
          ],
          "histogram": null,
          "max": null,
          "min": null,
          "nan_count": 0,
          "unique_count": 5
         }
        },
        {
         "dtype": "object",
         "name": "Physician Name",
         "stats": {
          "categories": [
           {
            "count": 1,
            "name": "Dr. Smith"
           },
           {
            "count": 1,
            "name": "Dr. Johnson"
           },
           {
            "count": 3,
            "name": "3 others"
           }
          ],
          "histogram": null,
          "max": null,
          "min": null,
          "nan_count": 0,
          "unique_count": 5
         }
        },
        {
         "dtype": "float64",
         "name": "Payment Amount",
         "stats": {
          "categories": null,
          "histogram": [
           {
            "bin_end": 8,
            "bin_start": 0,
            "count": 3
           },
           {
            "bin_end": 16,
            "bin_start": 8,
            "count": 0
           },
           {
            "bin_end": 24,
            "bin_start": 16,
            "count": 0
           },
           {
            "bin_end": 32,
            "bin_start": 24,
            "count": 0
           },
           {
            "bin_end": 40,
            "bin_start": 32,
            "count": 0
           },
           {
            "bin_end": 48,
            "bin_start": 40,
            "count": 0
           },
           {
            "bin_end": 56,
            "bin_start": 48,
            "count": 1
           },
           {
            "bin_end": 64,
            "bin_start": 56,
            "count": 0
           },
           {
            "bin_end": 72,
            "bin_start": 64,
            "count": 0
           },
           {
            "bin_end": 80,
            "bin_start": 72,
            "count": 1
           }
          ],
          "max": "80.0",
          "min": "0.0",
          "nan_count": 0,
          "unique_count": 3
         }
        },
        {
         "dtype": "float64",
         "name": "Balance",
         "stats": {
          "categories": null,
          "histogram": [
           {
            "bin_end": 15,
            "bin_start": 0,
            "count": 1
           },
           {
            "bin_end": 30,
            "bin_start": 15,
            "count": 1
           },
           {
            "bin_end": 45,
            "bin_start": 30,
            "count": 0
           },
           {
            "bin_end": 60,
            "bin_start": 45,
            "count": 0
           },
           {
            "bin_end": 75,
            "bin_start": 60,
            "count": 0
           },
           {
            "bin_end": 90,
            "bin_start": 75,
            "count": 1
           },
           {
            "bin_end": 105,
            "bin_start": 90,
            "count": 1
           },
           {
            "bin_end": 120,
            "bin_start": 105,
            "count": 0
           },
           {
            "bin_end": 135,
            "bin_start": 120,
            "count": 0
           },
           {
            "bin_end": 150,
            "bin_start": 135,
            "count": 1
           }
          ],
          "max": "150.0",
          "min": "0.0",
          "nan_count": 0,
          "unique_count": 5
         }
        },
        {
         "dtype": "object",
         "name": "Denial Reason",
         "stats": {
          "categories": [
           {
            "count": 2,
            "name": "No Denial"
           },
           {
            "count": 1,
            "name": "16 - Missing information"
           },
           {
            "count": 2,
            "name": "2 others"
           }
          ],
          "histogram": null,
          "max": null,
          "min": null,
          "nan_count": 0,
          "unique_count": 4
         }
        },
        {
         "dtype": "object",
         "name": "Denial Code",
         "stats": {
          "categories": [
           {
            "count": 1,
            "name": "16"
           },
           {
            "count": 2,
            "name": "2 others"
           },
           {
            "count": 2,
            "name": "Missing"
           }
          ],
          "histogram": null,
          "max": null,
          "min": null,
          "nan_count": 2,
          "unique_count": 3
         }
        },
        {
         "dtype": "object",
         "name": "Denial Description",
         "stats": {
          "categories": [
           {
            "count": 1,
            "name": "Missing information"
           },
           {
            "count": 2,
            "name": "2 others"
           },
           {
            "count": 2,
            "name": "Missing"
           }
          ],
          "histogram": null,
          "max": null,
          "min": null,
          "nan_count": 2,
          "unique_count": 3
         }
        },
        {
         "dtype": "bool",
         "name": "Is_Denied",
         "stats": {
          "categories": [
           {
            "count": 3,
            "name": "True"
           },
           {
            "count": 2,
            "name": "False"
           }
          ],
          "histogram": null,
          "max": null,
          "min": null,
          "nan_count": 0,
          "unique_count": 2
         }
        },
        {
         "dtype": "int64",
         "name": "_deepnote_index_column"
        }
       ],
       "preview_row_count": 5,
       "row_count": 5,
       "rows": [
        {
         "Balance": 100,
         "CPT Code": "99213",
         "Denial Code": "16",
         "Denial Description": "Missing information",
         "Denial Reason": "16 - Missing information",
         "Insurance Company": "Medicare",
         "Is_Denied": "True",
         "Payment Amount": 0,
         "Physician Name": "Dr. Smith",
         "_deepnote_index_column": 20
        },
        {
         "Balance": 20,
         "CPT Code": "99214",
         "Denial Code": "None",
         "Denial Description": "None",
         "Denial Reason": "No Denial",
         "Insurance Company": "Aetna",
         "Is_Denied": "False",
         "Payment Amount": 80,
         "Physician Name": "Dr. Johnson",
         "_deepnote_index_column": 21
        },
        {
         "Balance": 150,
         "CPT Code": "99215",
         "Denial Code": "45",
         "Denial Description": "Charge exceeds fee schedule",
         "Denial Reason": "45 - Charge exceeds fee schedule",
         "Insurance Company": "Cigna",
         "Is_Denied": "True",
         "Payment Amount": 0,
         "Physician Name": "Dr. Lee",
         "_deepnote_index_column": 22
        },
        {
         "Balance": 0,
         "CPT Code": "93000",
         "Denial Code": "None",
         "Denial Description": "None",
         "Denial Reason": "No Denial",
         "Insurance Company": "UnitedHealthcare",
         "Is_Denied": "False",
         "Payment Amount": 50,
         "Physician Name": "Dr. Patel",
         "_deepnote_index_column": 23
        },
        {
         "Balance": 75,
         "CPT Code": "99212",
         "Denial Code": "96",
         "Denial Description": "Non-covered service",
         "Denial Reason": "96 - Non-covered service",
         "Insurance Company": "Blue Cross",
         "Is_Denied": "True",
         "Payment Amount": 0,
         "Physician Name": "Dr. Kim",
         "_deepnote_index_column": 24
        }
       ],
       "type": "dataframe"
      },
      "text/html": [
       "<div>\n",
       "<style scoped>\n",
       "    .dataframe tbody tr th:only-of-type {\n",
       "        vertical-align: middle;\n",
       "    }\n",
       "\n",
       "    .dataframe tbody tr th {\n",
       "        vertical-align: top;\n",
       "    }\n",
       "\n",
       "    .dataframe thead th {\n",
       "        text-align: right;\n",
       "    }\n",
       "</style>\n",
       "<table border=\"1\" class=\"dataframe\">\n",
       "  <thead>\n",
       "    <tr style=\"text-align: right;\">\n",
       "      <th></th>\n",
       "      <th>CPT Code</th>\n",
       "      <th>Insurance Company</th>\n",
       "      <th>Physician Name</th>\n",
       "      <th>Payment Amount</th>\n",
       "      <th>Balance</th>\n",
       "      <th>Denial Reason</th>\n",
       "      <th>Denial Code</th>\n",
       "      <th>Denial Description</th>\n",
       "      <th>Is_Denied</th>\n",
       "    </tr>\n",
       "  </thead>\n",
       "  <tbody>\n",
       "    <tr>\n",
       "      <th>20</th>\n",
       "      <td>99213</td>\n",
       "      <td>Medicare</td>\n",
       "      <td>Dr. Smith</td>\n",
       "      <td>0.0</td>\n",
       "      <td>100.0</td>\n",
       "      <td>16 - Missing information</td>\n",
       "      <td>16</td>\n",
       "      <td>Missing information</td>\n",
       "      <td>True</td>\n",
       "    </tr>\n",
       "    <tr>\n",
       "      <th>21</th>\n",
       "      <td>99214</td>\n",
       "      <td>Aetna</td>\n",
       "      <td>Dr. Johnson</td>\n",
       "      <td>80.0</td>\n",
       "      <td>20.0</td>\n",
       "      <td>No Denial</td>\n",
       "      <td>None</td>\n",
       "      <td>None</td>\n",
       "      <td>False</td>\n",
       "    </tr>\n",
       "    <tr>\n",
       "      <th>22</th>\n",
       "      <td>99215</td>\n",
       "      <td>Cigna</td>\n",
       "      <td>Dr. Lee</td>\n",
       "      <td>0.0</td>\n",
       "      <td>150.0</td>\n",
       "      <td>45 - Charge exceeds fee schedule</td>\n",
       "      <td>45</td>\n",
       "      <td>Charge exceeds fee schedule</td>\n",
       "      <td>True</td>\n",
       "    </tr>\n",
       "    <tr>\n",
       "      <th>23</th>\n",
       "      <td>93000</td>\n",
       "      <td>UnitedHealthcare</td>\n",
       "      <td>Dr. Patel</td>\n",
       "      <td>50.0</td>\n",
       "      <td>0.0</td>\n",
       "      <td>No Denial</td>\n",
       "      <td>None</td>\n",
       "      <td>None</td>\n",
       "      <td>False</td>\n",
       "    </tr>\n",
       "    <tr>\n",
       "      <th>24</th>\n",
       "      <td>99212</td>\n",
       "      <td>Blue Cross</td>\n",
       "      <td>Dr. Kim</td>\n",
       "      <td>0.0</td>\n",
       "      <td>75.0</td>\n",
       "      <td>96 - Non-covered service</td>\n",
       "      <td>96</td>\n",
       "      <td>Non-covered service</td>\n",
       "      <td>True</td>\n",
       "    </tr>\n",
       "  </tbody>\n",
       "</table>\n",
       "</div>"
      ],
      "text/plain": [
       "   CPT Code Insurance Company Physician Name  Payment Amount  Balance  \\\n",
       "20    99213          Medicare      Dr. Smith             0.0    100.0   \n",
       "21    99214             Aetna    Dr. Johnson            80.0     20.0   \n",
       "22    99215             Cigna        Dr. Lee             0.0    150.0   \n",
       "23    93000  UnitedHealthcare      Dr. Patel            50.0      0.0   \n",
       "24    99212        Blue Cross        Dr. Kim             0.0     75.0   \n",
       "\n",
       "                       Denial Reason Denial Code           Denial Description  \\\n",
       "20          16 - Missing information          16          Missing information   \n",
       "21                         No Denial        None                         None   \n",
       "22  45 - Charge exceeds fee schedule          45  Charge exceeds fee schedule   \n",
       "23                         No Denial        None                         None   \n",
       "24          96 - Non-covered service          96          Non-covered service   \n",
       "\n",
       "    Is_Denied  \n",
       "20       True  \n",
       "21      False  \n",
       "22       True  \n",
       "23      False  \n",
       "24       True  "
      ]
     },
     "execution_count": 63,
     "metadata": {},
     "output_type": "execute_result"
    }
   ],
   "source": [
    "df.tail()"
   ]
  },
  {
   "cell_type": "code",
   "execution_count": 64,
   "metadata": {
    "cell_id": "111535b20b244a998d220972ba2dd594",
    "deepnote_cell_type": "code",
    "deepnote_to_be_reexecuted": true,
    "execution_context_id": "d9c32564-ea8d-47bd-9070-40e486f95705",
    "execution_millis": 0,
    "execution_start": 1756920213150,
    "source_hash": "c3be8e01"
   },
   "outputs": [
    {
     "ename": "SyntaxError",
     "evalue": "invalid syntax (1434610326.py, line 1)",
     "output_type": "error",
     "traceback": [
      "\u001b[0;36m  Cell \u001b[0;32mIn[64], line 1\u001b[0;36m\u001b[0m\n\u001b[0;31m    python -m pip install --upgrade --force-reinstall scikit-learn==1.3.2\u001b[0m\n\u001b[0m              ^\u001b[0m\n\u001b[0;31mSyntaxError\u001b[0m\u001b[0;31m:\u001b[0m invalid syntax\n"
     ]
    }
   ],
   "source": [
    "python -m pip install --upgrade --force-reinstall scikit-learn==1.3.2"
   ]
  },
  {
   "cell_type": "code",
   "execution_count": 5,
   "metadata": {
    "cell_id": "6e45b48167154402bfad22293a36602b",
    "deepnote_cell_type": "code",
    "deepnote_to_be_reexecuted": true,
    "execution_context_id": "43874c59-77bf-4b49-a451-3e9d6abb31ad",
    "execution_millis": 805,
    "execution_start": 1756909340978,
    "source_hash": "7f20c191"
   },
   "outputs": [
    {
     "name": "stdout",
     "output_type": "stream",
     "text": [
      "1.1.3\n"
     ]
    }
   ],
   "source": [
    "import sklearn\n",
    "print(sklearn.__version__)"
   ]
  },
  {
   "cell_type": "code",
   "execution_count": 20,
   "metadata": {
    "cell_id": "cfec5dd422bf418c943a884fa8368da2",
    "deepnote_cell_type": "code",
    "deepnote_to_be_reexecuted": true,
    "execution_context_id": "43874c59-77bf-4b49-a451-3e9d6abb31ad",
    "execution_millis": 2,
    "execution_start": 1756909375790,
    "source_hash": "a5c343aa"
   },
   "outputs": [
    {
     "name": "stdout",
     "output_type": "stream",
     "text": [
      "Python version: 3.10.15 (main, Jul 18 2025, 11:15:38) [GCC 10.2.1 20210110]\n"
     ]
    }
   ],
   "source": [
    "# Correcting the syntax to find the Python version\n",
    "import sys\n",
    "print(\"Python version:\", sys.version)"
   ]
  },
  {
   "cell_type": "code",
   "execution_count": 103,
   "metadata": {
    "cell_id": "e50b5f3d3e304e759a0a6cdf3511c600",
    "deepnote_cell_type": "code",
    "deepnote_to_be_reexecuted": true,
    "execution_context_id": "ed3b0ac4-12df-4597-b6d9-f632abd3012c",
    "execution_millis": 783,
    "execution_start": 1756905347266,
    "source_hash": "8c6c70f4"
   },
   "outputs": [
    {
     "name": "stdout",
     "output_type": "stream",
     "text": [
      "\u001b[31mERROR: Could not find a version that satisfies the requirement python (from versions: none)\u001b[0m\u001b[31m\n",
      "\u001b[0m\u001b[31mERROR: No matching distribution found for python\u001b[0m\u001b[31m\n",
      "\u001b[0m\n",
      "\u001b[1m[\u001b[0m\u001b[34;49mnotice\u001b[0m\u001b[1;39;49m]\u001b[0m\u001b[39;49m A new release of pip is available: \u001b[0m\u001b[31;49m23.0.1\u001b[0m\u001b[39;49m -> \u001b[0m\u001b[32;49m25.2\u001b[0m\n",
      "\u001b[1m[\u001b[0m\u001b[34;49mnotice\u001b[0m\u001b[1;39;49m]\u001b[0m\u001b[39;49m To update, run: \u001b[0m\u001b[32;49mpip install --upgrade pip\u001b[0m\n"
     ]
    }
   ],
   "source": [
    "!pip install python"
   ]
  },
  {
   "cell_type": "code",
   "execution_count": null,
   "metadata": {
    "cell_id": "f54f1bc967c24cd09dbbb3fb165f2816",
    "deepnote_cell_type": "code",
    "deepnote_to_be_reexecuted": true,
    "execution_context_id": "43874c59-77bf-4b49-a451-3e9d6abb31ad",
    "execution_millis": 3553,
    "execution_start": 1756909307438,
    "source_hash": "12dc24c0"
   },
   "outputs": [
    {
     "name": "stdout",
     "output_type": "stream",
     "text": [
      "Requirement already satisfied: scikit-learn==1.1.3 in /root/venv/lib/python3.10/site-packages (1.1.3)\n",
      "Requirement already satisfied: joblib>=1.0.0 in /root/venv/lib/python3.10/site-packages (from scikit-learn==1.1.3) (1.5.1)\n",
      "Requirement already satisfied: scipy>=1.3.2 in /root/venv/lib/python3.10/site-packages (from scikit-learn==1.1.3) (1.9.3)\n",
      "Requirement already satisfied: threadpoolctl>=2.0.0 in /root/venv/lib/python3.10/site-packages (from scikit-learn==1.1.3) (3.6.0)\n",
      "Requirement already satisfied: numpy>=1.17.3 in /root/venv/lib/python3.10/site-packages (from scikit-learn==1.1.3) (1.25.2)\n",
      "\n",
      "\u001b[1m[\u001b[0m\u001b[34;49mnotice\u001b[0m\u001b[1;39;49m]\u001b[0m\u001b[39;49m A new release of pip is available: \u001b[0m\u001b[31;49m23.0.1\u001b[0m\u001b[39;49m -> \u001b[0m\u001b[32;49m25.2\u001b[0m\n",
      "\u001b[1m[\u001b[0m\u001b[34;49mnotice\u001b[0m\u001b[1;39;49m]\u001b[0m\u001b[39;49m To update, run: \u001b[0m\u001b[32;49mpip install --upgrade pip\u001b[0m\n"
     ]
    }
   ],
   "source": [
    "%pip install scikit-learn==1.1.3"
   ]
  },
  {
   "cell_type": "code",
   "execution_count": null,
   "metadata": {
    "cell_id": "039f9880d998420d9d0a626ce24e8498",
    "deepnote_cell_type": "code",
    "deepnote_to_be_reexecuted": true,
    "execution_context_id": "43874c59-77bf-4b49-a451-3e9d6abb31ad",
    "execution_millis": 0,
    "execution_start": 1756909410648,
    "source_hash": "c2890129"
   },
   "outputs": [
    {
     "name": "stdout",
     "output_type": "stream",
     "text": [
      "1.1.3\n"
     ]
    }
   ],
   "source": [
    "print(sklearn.__version__)\n",
    "print(\"HI\")"
   ]
  },
  {
   "cell_type": "code",
   "execution_count": 26,
   "metadata": {
    "cell_id": "8e72fdb4cff64bac9a60bcad0bf856f8",
    "deepnote_cell_type": "code",
    "deepnote_to_be_reexecuted": true,
    "deepnote_variable_name": "",
    "execution_context_id": "43874c59-77bf-4b49-a451-3e9d6abb31ad",
    "execution_millis": 8825,
    "execution_start": 1756909435195,
    "source_hash": "62c461f9",
    "sql_integration_id": ""
   },
   "outputs": [
    {
     "name": "stdout",
     "output_type": "stream",
     "text": [
      "Collecting streamlit==1.38.0\n",
      "  Downloading streamlit-1.38.0-py2.py3-none-any.whl (8.7 MB)\n",
      "\u001b[2K     \u001b[90m━━━━━━━━━━━━━━━━━━━━━━━━━━━━━━━━━━━━━━━━\u001b[0m \u001b[32m8.7/8.7 MB\u001b[0m \u001b[31m89.2 MB/s\u001b[0m eta \u001b[36m0:00:00\u001b[0m\n",
      "\u001b[?25hCollecting packaging<25,>=20\n",
      "  Downloading packaging-24.2-py3-none-any.whl (65 kB)\n",
      "\u001b[2K     \u001b[90m━━━━━━━━━━━━━━━━━━━━━━━━━━━━━━━━━━━━━━━━\u001b[0m \u001b[32m65.5/65.5 kB\u001b[0m \u001b[31m23.3 MB/s\u001b[0m eta \u001b[36m0:00:00\u001b[0m\n",
      "\u001b[?25hCollecting pydeck<1,>=0.8.0b4\n",
      "  Downloading pydeck-0.9.1-py2.py3-none-any.whl (6.9 MB)\n",
      "\u001b[2K     \u001b[90m━━━━━━━━━━━━━━━━━━━━━━━━━━━━━━━━━━━━━━━━\u001b[0m \u001b[32m6.9/6.9 MB\u001b[0m \u001b[31m155.4 MB/s\u001b[0m eta \u001b[36m0:00:00\u001b[0m\n",
      "\u001b[?25hRequirement already satisfied: pyarrow>=7.0 in /toolkit-cache/0.2.29/python3.10/kernel-libs/lib/python3.10/site-packages (from streamlit==1.38.0) (17.0.0)\n",
      "Requirement already satisfied: tornado<7,>=6.0.3 in /toolkit-cache/0.2.29/python3.10/kernel-libs/lib/python3.10/site-packages (from streamlit==1.38.0) (6.4.1)\n",
      "Requirement already satisfied: pandas<3,>=1.3.0 in /root/venv/lib/python3.10/site-packages (from streamlit==1.38.0) (2.1.4)\n",
      "Collecting tenacity<9,>=8.1.0\n",
      "  Downloading tenacity-8.5.0-py3-none-any.whl (28 kB)\n",
      "Requirement already satisfied: typing-extensions<5,>=4.3.0 in /root/venv/lib/python3.10/site-packages (from streamlit==1.38.0) (4.14.1)\n",
      "Requirement already satisfied: cachetools<6,>=4.0 in /root/venv/lib/python3.10/site-packages (from streamlit==1.38.0) (5.5.2)\n",
      "Requirement already satisfied: protobuf<6,>=3.20 in /root/venv/lib/python3.10/site-packages (from streamlit==1.38.0) (4.25.8)\n",
      "Collecting rich<14,>=10.14.0\n",
      "  Downloading rich-13.9.4-py3-none-any.whl (242 kB)\n",
      "\u001b[2K     \u001b[90m━━━━━━━━━━━━━━━━━━━━━━━━━━━━━━━━━━━━━━\u001b[0m \u001b[32m242.4/242.4 kB\u001b[0m \u001b[31m59.9 MB/s\u001b[0m eta \u001b[36m0:00:00\u001b[0m\n",
      "\u001b[?25hCollecting gitpython!=3.1.19,<4,>=3.0.7\n",
      "  Downloading gitpython-3.1.45-py3-none-any.whl (208 kB)\n",
      "\u001b[2K     \u001b[90m━━━━━━━━━━━━━━━━━━━━━━━━━━━━━━━━━━━━━━\u001b[0m \u001b[32m208.2/208.2 kB\u001b[0m \u001b[31m66.5 MB/s\u001b[0m eta \u001b[36m0:00:00\u001b[0m\n",
      "\u001b[?25hRequirement already satisfied: click<9,>=7.0 in /root/venv/lib/python3.10/site-packages (from streamlit==1.38.0) (8.2.1)\n",
      "Requirement already satisfied: numpy<3,>=1.20 in /root/venv/lib/python3.10/site-packages (from streamlit==1.38.0) (1.25.2)\n",
      "Collecting toml<2,>=0.10.1\n",
      "  Downloading toml-0.10.2-py2.py3-none-any.whl (16 kB)\n",
      "Collecting watchdog<5,>=2.1.5\n",
      "  Downloading watchdog-4.0.2-py3-none-manylinux2014_x86_64.whl (82 kB)\n",
      "\u001b[2K     \u001b[90m━━━━━━━━━━━━━━━━━━━━━━━━━━━━━━━━━━━━━━━━\u001b[0m \u001b[32m82.9/82.9 kB\u001b[0m \u001b[31m29.1 MB/s\u001b[0m eta \u001b[36m0:00:00\u001b[0m\n",
      "\u001b[?25hCollecting pillow<11,>=7.1.0\n",
      "  Downloading pillow-10.4.0-cp310-cp310-manylinux_2_28_x86_64.whl (4.5 MB)\n",
      "\u001b[2K     \u001b[90m━━━━━━━━━━━━━━━━━━━━━━━━━━━━━━━━━━━━━━━━\u001b[0m \u001b[32m4.5/4.5 MB\u001b[0m \u001b[31m72.8 MB/s\u001b[0m eta \u001b[36m0:00:00\u001b[0m\n",
      "\u001b[?25hRequirement already satisfied: altair<6,>=4.0 in /toolkit-cache/0.2.29/python3.10/kernel-libs/lib/python3.10/site-packages (from streamlit==1.38.0) (5.5.0)\n",
      "Collecting blinker<2,>=1.0.0\n",
      "  Downloading blinker-1.9.0-py3-none-any.whl (8.5 kB)\n",
      "Requirement already satisfied: requests<3,>=2.27 in /root/venv/lib/python3.10/site-packages (from streamlit==1.38.0) (2.32.4)\n",
      "Requirement already satisfied: jinja2 in /root/venv/lib/python3.10/site-packages (from altair<6,>=4.0->streamlit==1.38.0) (3.1.6)\n",
      "Requirement already satisfied: jsonschema>=3.0 in /toolkit-cache/0.2.29/python3.10/kernel-libs/lib/python3.10/site-packages (from altair<6,>=4.0->streamlit==1.38.0) (4.23.0)\n",
      "Requirement already satisfied: narwhals>=1.14.2 in /root/venv/lib/python3.10/site-packages (from altair<6,>=4.0->streamlit==1.38.0) (1.47.1)\n",
      "Collecting gitdb<5,>=4.0.1\n",
      "  Downloading gitdb-4.0.12-py3-none-any.whl (62 kB)\n",
      "\u001b[2K     \u001b[90m━━━━━━━━━━━━━━━━━━━━━━━━━━━━━━━━━━━━━━━━\u001b[0m \u001b[32m62.8/62.8 kB\u001b[0m \u001b[31m21.5 MB/s\u001b[0m eta \u001b[36m0:00:00\u001b[0m\n",
      "\u001b[?25hRequirement already satisfied: pytz>=2020.1 in /root/venv/lib/python3.10/site-packages (from pandas<3,>=1.3.0->streamlit==1.38.0) (2025.2)\n",
      "Requirement already satisfied: tzdata>=2022.1 in /root/venv/lib/python3.10/site-packages (from pandas<3,>=1.3.0->streamlit==1.38.0) (2025.2)\n",
      "Requirement already satisfied: python-dateutil>=2.8.2 in /root/venv/lib/python3.10/site-packages (from pandas<3,>=1.3.0->streamlit==1.38.0) (2.9.0.post0)\n",
      "Requirement already satisfied: certifi>=2017.4.17 in /root/venv/lib/python3.10/site-packages (from requests<3,>=2.27->streamlit==1.38.0) (2025.7.14)\n",
      "Requirement already satisfied: urllib3<3,>=1.21.1 in /root/venv/lib/python3.10/site-packages (from requests<3,>=2.27->streamlit==1.38.0) (2.5.0)\n",
      "Requirement already satisfied: idna<4,>=2.5 in /root/venv/lib/python3.10/site-packages (from requests<3,>=2.27->streamlit==1.38.0) (3.10)\n",
      "Requirement already satisfied: charset_normalizer<4,>=2 in /root/venv/lib/python3.10/site-packages (from requests<3,>=2.27->streamlit==1.38.0) (3.4.2)\n",
      "Collecting markdown-it-py>=2.2.0\n",
      "  Downloading markdown_it_py-4.0.0-py3-none-any.whl (87 kB)\n",
      "\u001b[2K     \u001b[90m━━━━━━━━━━━━━━━━━━━━━━━━━━━━━━━━━━━━━━━━\u001b[0m \u001b[32m87.3/87.3 kB\u001b[0m \u001b[31m21.3 MB/s\u001b[0m eta \u001b[36m0:00:00\u001b[0m\n",
      "\u001b[?25hRequirement already satisfied: pygments<3.0.0,>=2.13.0 in /root/venv/lib/python3.10/site-packages (from rich<14,>=10.14.0->streamlit==1.38.0) (2.19.2)\n",
      "Collecting smmap<6,>=3.0.1\n",
      "  Downloading smmap-5.0.2-py3-none-any.whl (24 kB)\n",
      "Requirement already satisfied: MarkupSafe>=2.0 in /root/venv/lib/python3.10/site-packages (from jinja2->altair<6,>=4.0->streamlit==1.38.0) (3.0.2)\n",
      "Requirement already satisfied: jsonschema-specifications>=2023.03.6 in /toolkit-cache/0.2.29/python3.10/kernel-libs/lib/python3.10/site-packages (from jsonschema>=3.0->altair<6,>=4.0->streamlit==1.38.0) (2023.12.1)\n",
      "Requirement already satisfied: referencing>=0.28.4 in /toolkit-cache/0.2.29/python3.10/kernel-libs/lib/python3.10/site-packages (from jsonschema>=3.0->altair<6,>=4.0->streamlit==1.38.0) (0.35.1)\n",
      "Requirement already satisfied: attrs>=22.2.0 in /root/venv/lib/python3.10/site-packages (from jsonschema>=3.0->altair<6,>=4.0->streamlit==1.38.0) (25.3.0)\n",
      "Requirement already satisfied: rpds-py>=0.7.1 in /toolkit-cache/0.2.29/python3.10/kernel-libs/lib/python3.10/site-packages (from jsonschema>=3.0->altair<6,>=4.0->streamlit==1.38.0) (0.20.0)\n",
      "Collecting mdurl~=0.1\n",
      "  Downloading mdurl-0.1.2-py3-none-any.whl (10.0 kB)\n",
      "Requirement already satisfied: six>=1.5 in /root/venv/lib/python3.10/site-packages (from python-dateutil>=2.8.2->pandas<3,>=1.3.0->streamlit==1.38.0) (1.17.0)\n",
      "Installing collected packages: watchdog, toml, tenacity, smmap, pillow, packaging, mdurl, blinker, pydeck, markdown-it-py, gitdb, rich, gitpython, streamlit\n",
      "  Attempting uninstall: tenacity\n",
      "    Found existing installation: tenacity 9.0.0\n",
      "    Not uninstalling tenacity at /toolkit-cache/0.2.29/python3.10/kernel-libs/lib/python3.10/site-packages, outside environment /root/venv\n",
      "    Can't uninstall 'tenacity'. No files were found to uninstall.\n",
      "  Attempting uninstall: pillow\n",
      "    Found existing installation: pillow 11.3.0\n",
      "    Uninstalling pillow-11.3.0:\n",
      "      Successfully uninstalled pillow-11.3.0\n",
      "  Attempting uninstall: packaging\n",
      "    Found existing installation: packaging 25.0\n",
      "    Uninstalling packaging-25.0:\n",
      "      Successfully uninstalled packaging-25.0\n",
      "Successfully installed blinker-1.9.0 gitdb-4.0.12 gitpython-3.1.45 markdown-it-py-4.0.0 mdurl-0.1.2 packaging-24.2 pillow-10.4.0 pydeck-0.9.1 rich-13.9.4 smmap-5.0.2 streamlit-1.38.0 tenacity-8.5.0 toml-0.10.2 watchdog-4.0.2\n",
      "\n",
      "\u001b[1m[\u001b[0m\u001b[34;49mnotice\u001b[0m\u001b[1;39;49m]\u001b[0m\u001b[39;49m A new release of pip is available: \u001b[0m\u001b[31;49m23.0.1\u001b[0m\u001b[39;49m -> \u001b[0m\u001b[32;49m25.2\u001b[0m\n",
      "\u001b[1m[\u001b[0m\u001b[34;49mnotice\u001b[0m\u001b[1;39;49m]\u001b[0m\u001b[39;49m To update, run: \u001b[0m\u001b[32;49mpip install --upgrade pip\u001b[0m\n"
     ]
    }
   ],
   "source": [
    "{\"code\": \"!pip install streamlit==1.38.0\"}{\"code\": \"!pip install scikit-learn==1.1.3\"}"
   ]
  },
  {
   "cell_type": "code",
   "execution_count": 29,
   "metadata": {
    "cell_id": "31404144b9f64f73aed5cc3a81adc2f1",
    "deepnote_cell_type": "code",
    "deepnote_to_be_reexecuted": true,
    "deepnote_variable_name": "",
    "execution_context_id": "43874c59-77bf-4b49-a451-3e9d6abb31ad",
    "execution_millis": 3753,
    "execution_start": 1756909482733,
    "source_hash": "62c461f9",
    "sql_integration_id": ""
   },
   "outputs": [
    {
     "name": "stdout",
     "output_type": "stream",
     "text": [
      "Requirement already satisfied: streamlit==1.38.0 in /root/venv/lib/python3.10/site-packages (1.38.0)\n",
      "Requirement already satisfied: requests<3,>=2.27 in /root/venv/lib/python3.10/site-packages (from streamlit==1.38.0) (2.32.4)\n",
      "Requirement already satisfied: tornado<7,>=6.0.3 in /toolkit-cache/0.2.29/python3.10/kernel-libs/lib/python3.10/site-packages (from streamlit==1.38.0) (6.4.1)\n",
      "Requirement already satisfied: gitpython!=3.1.19,<4,>=3.0.7 in /root/venv/lib/python3.10/site-packages (from streamlit==1.38.0) (3.1.45)\n",
      "Requirement already satisfied: watchdog<5,>=2.1.5 in /root/venv/lib/python3.10/site-packages (from streamlit==1.38.0) (4.0.2)\n",
      "Requirement already satisfied: pydeck<1,>=0.8.0b4 in /root/venv/lib/python3.10/site-packages (from streamlit==1.38.0) (0.9.1)\n",
      "Requirement already satisfied: numpy<3,>=1.20 in /root/venv/lib/python3.10/site-packages (from streamlit==1.38.0) (1.25.2)\n",
      "Requirement already satisfied: typing-extensions<5,>=4.3.0 in /root/venv/lib/python3.10/site-packages (from streamlit==1.38.0) (4.14.1)\n",
      "Requirement already satisfied: click<9,>=7.0 in /root/venv/lib/python3.10/site-packages (from streamlit==1.38.0) (8.2.1)\n",
      "Requirement already satisfied: altair<6,>=4.0 in /toolkit-cache/0.2.29/python3.10/kernel-libs/lib/python3.10/site-packages (from streamlit==1.38.0) (5.5.0)\n",
      "Requirement already satisfied: packaging<25,>=20 in /root/venv/lib/python3.10/site-packages (from streamlit==1.38.0) (24.2)\n",
      "Requirement already satisfied: blinker<2,>=1.0.0 in /root/venv/lib/python3.10/site-packages (from streamlit==1.38.0) (1.9.0)\n",
      "Requirement already satisfied: toml<2,>=0.10.1 in /root/venv/lib/python3.10/site-packages (from streamlit==1.38.0) (0.10.2)\n",
      "Requirement already satisfied: protobuf<6,>=3.20 in /root/venv/lib/python3.10/site-packages (from streamlit==1.38.0) (4.25.8)\n",
      "Requirement already satisfied: pillow<11,>=7.1.0 in /root/venv/lib/python3.10/site-packages (from streamlit==1.38.0) (10.4.0)\n",
      "Requirement already satisfied: cachetools<6,>=4.0 in /root/venv/lib/python3.10/site-packages (from streamlit==1.38.0) (5.5.2)\n",
      "Requirement already satisfied: pandas<3,>=1.3.0 in /root/venv/lib/python3.10/site-packages (from streamlit==1.38.0) (2.1.4)\n",
      "Requirement already satisfied: pyarrow>=7.0 in /toolkit-cache/0.2.29/python3.10/kernel-libs/lib/python3.10/site-packages (from streamlit==1.38.0) (17.0.0)\n",
      "Requirement already satisfied: rich<14,>=10.14.0 in /root/venv/lib/python3.10/site-packages (from streamlit==1.38.0) (13.9.4)\n",
      "Requirement already satisfied: tenacity<9,>=8.1.0 in /root/venv/lib/python3.10/site-packages (from streamlit==1.38.0) (8.5.0)\n",
      "Requirement already satisfied: jinja2 in /root/venv/lib/python3.10/site-packages (from altair<6,>=4.0->streamlit==1.38.0) (3.1.6)\n",
      "Requirement already satisfied: narwhals>=1.14.2 in /root/venv/lib/python3.10/site-packages (from altair<6,>=4.0->streamlit==1.38.0) (1.47.1)\n",
      "Requirement already satisfied: jsonschema>=3.0 in /toolkit-cache/0.2.29/python3.10/kernel-libs/lib/python3.10/site-packages (from altair<6,>=4.0->streamlit==1.38.0) (4.23.0)\n",
      "Requirement already satisfied: gitdb<5,>=4.0.1 in /root/venv/lib/python3.10/site-packages (from gitpython!=3.1.19,<4,>=3.0.7->streamlit==1.38.0) (4.0.12)\n",
      "Requirement already satisfied: tzdata>=2022.1 in /root/venv/lib/python3.10/site-packages (from pandas<3,>=1.3.0->streamlit==1.38.0) (2025.2)\n",
      "Requirement already satisfied: pytz>=2020.1 in /root/venv/lib/python3.10/site-packages (from pandas<3,>=1.3.0->streamlit==1.38.0) (2025.2)\n",
      "Requirement already satisfied: python-dateutil>=2.8.2 in /root/venv/lib/python3.10/site-packages (from pandas<3,>=1.3.0->streamlit==1.38.0) (2.9.0.post0)\n",
      "Requirement already satisfied: urllib3<3,>=1.21.1 in /root/venv/lib/python3.10/site-packages (from requests<3,>=2.27->streamlit==1.38.0) (2.5.0)\n",
      "Requirement already satisfied: certifi>=2017.4.17 in /root/venv/lib/python3.10/site-packages (from requests<3,>=2.27->streamlit==1.38.0) (2025.7.14)\n",
      "Requirement already satisfied: charset_normalizer<4,>=2 in /root/venv/lib/python3.10/site-packages (from requests<3,>=2.27->streamlit==1.38.0) (3.4.2)\n",
      "Requirement already satisfied: idna<4,>=2.5 in /root/venv/lib/python3.10/site-packages (from requests<3,>=2.27->streamlit==1.38.0) (3.10)\n",
      "Requirement already satisfied: markdown-it-py>=2.2.0 in /root/venv/lib/python3.10/site-packages (from rich<14,>=10.14.0->streamlit==1.38.0) (4.0.0)\n",
      "Requirement already satisfied: pygments<3.0.0,>=2.13.0 in /root/venv/lib/python3.10/site-packages (from rich<14,>=10.14.0->streamlit==1.38.0) (2.19.2)\n",
      "Requirement already satisfied: smmap<6,>=3.0.1 in /root/venv/lib/python3.10/site-packages (from gitdb<5,>=4.0.1->gitpython!=3.1.19,<4,>=3.0.7->streamlit==1.38.0) (5.0.2)\n",
      "Requirement already satisfied: MarkupSafe>=2.0 in /root/venv/lib/python3.10/site-packages (from jinja2->altair<6,>=4.0->streamlit==1.38.0) (3.0.2)\n",
      "Requirement already satisfied: rpds-py>=0.7.1 in /toolkit-cache/0.2.29/python3.10/kernel-libs/lib/python3.10/site-packages (from jsonschema>=3.0->altair<6,>=4.0->streamlit==1.38.0) (0.20.0)\n",
      "Requirement already satisfied: referencing>=0.28.4 in /toolkit-cache/0.2.29/python3.10/kernel-libs/lib/python3.10/site-packages (from jsonschema>=3.0->altair<6,>=4.0->streamlit==1.38.0) (0.35.1)\n",
      "Requirement already satisfied: jsonschema-specifications>=2023.03.6 in /toolkit-cache/0.2.29/python3.10/kernel-libs/lib/python3.10/site-packages (from jsonschema>=3.0->altair<6,>=4.0->streamlit==1.38.0) (2023.12.1)\n",
      "Requirement already satisfied: attrs>=22.2.0 in /root/venv/lib/python3.10/site-packages (from jsonschema>=3.0->altair<6,>=4.0->streamlit==1.38.0) (25.3.0)\n",
      "Requirement already satisfied: mdurl~=0.1 in /root/venv/lib/python3.10/site-packages (from markdown-it-py>=2.2.0->rich<14,>=10.14.0->streamlit==1.38.0) (0.1.2)\n",
      "Requirement already satisfied: six>=1.5 in /root/venv/lib/python3.10/site-packages (from python-dateutil>=2.8.2->pandas<3,>=1.3.0->streamlit==1.38.0) (1.17.0)\n",
      "\n",
      "\u001b[1m[\u001b[0m\u001b[34;49mnotice\u001b[0m\u001b[1;39;49m]\u001b[0m\u001b[39;49m A new release of pip is available: \u001b[0m\u001b[31;49m23.0.1\u001b[0m\u001b[39;49m -> \u001b[0m\u001b[32;49m25.2\u001b[0m\n",
      "\u001b[1m[\u001b[0m\u001b[34;49mnotice\u001b[0m\u001b[1;39;49m]\u001b[0m\u001b[39;49m To update, run: \u001b[0m\u001b[32;49mpip install --upgrade pip\u001b[0m\n"
     ]
    }
   ],
   "source": [
    "{\"code\": \"!pip install streamlit==1.38.0\"}{\"code\": \"!pip install scikit-learn==1.1.3\"}"
   ]
  },
  {
   "cell_type": "code",
   "execution_count": 76,
   "metadata": {
    "cell_id": "b8c4cb4626594eb29909da34b93b30f6",
    "deepnote_cell_type": "code",
    "deepnote_to_be_reexecuted": true,
    "execution_context_id": "43874c59-77bf-4b49-a451-3e9d6abb31ad",
    "execution_millis": 23925,
    "execution_start": 1756910467838,
    "source_hash": "e0a03ee9"
   },
   "outputs": [
    {
     "name": "stdout",
     "output_type": "stream",
     "text": [
      "Requirement already satisfied: streamlit in /root/venv/lib/python3.10/site-packages (1.38.0)\n",
      "Collecting streamlit\n",
      "  Downloading streamlit-1.49.1-py3-none-any.whl (10.0 MB)\n",
      "\u001b[2K     \u001b[90m━━━━━━━━━━━━━━━━━━━━━━━━━━━━━━━━━━━━━━━\u001b[0m \u001b[32m10.0/10.0 MB\u001b[0m \u001b[31m114.3 MB/s\u001b[0m eta \u001b[36m0:00:00\u001b[0m\n",
      "\u001b[?25hRequirement already satisfied: scikit-learn in /root/venv/lib/python3.10/site-packages (1.0.2)\n",
      "Collecting scikit-learn\n",
      "  Downloading scikit_learn-1.7.1-cp310-cp310-manylinux2014_x86_64.manylinux_2_17_x86_64.whl (9.7 MB)\n",
      "\u001b[2K     \u001b[90m━━━━━━━━━━━━━━━━━━━━━━━━━━━━━━━━━━━━━━━━\u001b[0m \u001b[32m9.7/9.7 MB\u001b[0m \u001b[31m128.5 MB/s\u001b[0m eta \u001b[36m0:00:00\u001b[0m\n",
      "\u001b[?25hRequirement already satisfied: xgboost in /root/venv/lib/python3.10/site-packages (3.0.4)\n",
      "Requirement already satisfied: pandas in /root/venv/lib/python3.10/site-packages (2.1.4)\n",
      "Collecting pandas\n",
      "  Downloading pandas-2.3.2-cp310-cp310-manylinux_2_17_x86_64.manylinux2014_x86_64.whl (12.3 MB)\n",
      "\u001b[2K     \u001b[90m━━━━━━━━━━━━━━━━━━━━━━━━━━━━━━━━━━━━━━━\u001b[0m \u001b[32m12.3/12.3 MB\u001b[0m \u001b[31m121.6 MB/s\u001b[0m eta \u001b[36m0:00:00\u001b[0m\n",
      "\u001b[?25hRequirement already satisfied: matplotlib in /root/venv/lib/python3.10/site-packages (3.6.3)\n",
      "Collecting matplotlib\n",
      "  Downloading matplotlib-3.10.6-cp310-cp310-manylinux2014_x86_64.manylinux_2_17_x86_64.whl (8.7 MB)\n",
      "\u001b[2K     \u001b[90m━━━━━━━━━━━━━━━━━━━━━━━━━━━━━━━━━━━━━━━━\u001b[0m \u001b[32m8.7/8.7 MB\u001b[0m \u001b[31m118.2 MB/s\u001b[0m eta \u001b[36m0:00:00\u001b[0m\n",
      "\u001b[?25hRequirement already satisfied: seaborn in /root/venv/lib/python3.10/site-packages (0.13.2)\n",
      "Requirement already satisfied: joblib in /root/venv/lib/python3.10/site-packages (1.5.1)\n",
      "Collecting joblib\n",
      "  Downloading joblib-1.5.2-py3-none-any.whl (308 kB)\n",
      "\u001b[2K     \u001b[90m━━━━━━━━━━━━━━━━━━━━━━━━━━━━━━━━━━━━━━\u001b[0m \u001b[32m308.4/308.4 kB\u001b[0m \u001b[31m67.8 MB/s\u001b[0m eta \u001b[36m0:00:00\u001b[0m\n",
      "\u001b[?25hRequirement already satisfied: cachetools<7,>=4.0 in /root/venv/lib/python3.10/site-packages (from streamlit) (5.5.2)\n",
      "Requirement already satisfied: numpy<3,>=1.23 in /root/venv/lib/python3.10/site-packages (from streamlit) (1.25.2)\n",
      "Requirement already satisfied: pyarrow>=7.0 in /toolkit-cache/0.2.29/python3.10/kernel-libs/lib/python3.10/site-packages (from streamlit) (17.0.0)\n",
      "Requirement already satisfied: blinker<2,>=1.5.0 in /root/venv/lib/python3.10/site-packages (from streamlit) (1.9.0)\n",
      "Requirement already satisfied: tenacity<10,>=8.1.0 in /root/venv/lib/python3.10/site-packages (from streamlit) (8.5.0)\n",
      "Requirement already satisfied: altair!=5.4.0,!=5.4.1,<6,>=4.0 in /toolkit-cache/0.2.29/python3.10/kernel-libs/lib/python3.10/site-packages (from streamlit) (5.5.0)\n",
      "Requirement already satisfied: packaging<26,>=20 in /root/venv/lib/python3.10/site-packages (from streamlit) (24.2)\n",
      "Requirement already satisfied: protobuf<7,>=3.20 in /root/venv/lib/python3.10/site-packages (from streamlit) (4.25.8)\n",
      "Requirement already satisfied: pillow<12,>=7.1.0 in /root/venv/lib/python3.10/site-packages (from streamlit) (10.4.0)\n",
      "Requirement already satisfied: gitpython!=3.1.19,<4,>=3.0.7 in /root/venv/lib/python3.10/site-packages (from streamlit) (3.1.45)\n",
      "Requirement already satisfied: tornado!=6.5.0,<7,>=6.0.3 in /toolkit-cache/0.2.29/python3.10/kernel-libs/lib/python3.10/site-packages (from streamlit) (6.4.1)\n",
      "Requirement already satisfied: toml<2,>=0.10.1 in /root/venv/lib/python3.10/site-packages (from streamlit) (0.10.2)\n",
      "Requirement already satisfied: typing-extensions<5,>=4.4.0 in /root/venv/lib/python3.10/site-packages (from streamlit) (4.14.1)\n",
      "Requirement already satisfied: pydeck<1,>=0.8.0b4 in /root/venv/lib/python3.10/site-packages (from streamlit) (0.9.1)\n",
      "Requirement already satisfied: watchdog<7,>=2.1.5 in /root/venv/lib/python3.10/site-packages (from streamlit) (4.0.2)\n",
      "Requirement already satisfied: click<9,>=7.0 in /root/venv/lib/python3.10/site-packages (from streamlit) (8.2.1)\n",
      "Requirement already satisfied: requests<3,>=2.27 in /root/venv/lib/python3.10/site-packages (from streamlit) (2.32.4)\n",
      "Requirement already satisfied: scipy>=1.8.0 in /root/venv/lib/python3.10/site-packages (from scikit-learn) (1.9.3)\n",
      "Requirement already satisfied: threadpoolctl>=3.1.0 in /root/venv/lib/python3.10/site-packages (from scikit-learn) (3.6.0)\n",
      "Requirement already satisfied: nvidia-nccl-cu12 in /root/venv/lib/python3.10/site-packages (from xgboost) (2.27.7)\n",
      "Requirement already satisfied: pytz>=2020.1 in /root/venv/lib/python3.10/site-packages (from pandas) (2025.2)\n",
      "Requirement already satisfied: python-dateutil>=2.8.2 in /root/venv/lib/python3.10/site-packages (from pandas) (2.9.0.post0)\n",
      "Requirement already satisfied: tzdata>=2022.7 in /root/venv/lib/python3.10/site-packages (from pandas) (2025.2)\n",
      "Requirement already satisfied: contourpy>=1.0.1 in /root/venv/lib/python3.10/site-packages (from matplotlib) (1.3.2)\n",
      "Requirement already satisfied: kiwisolver>=1.3.1 in /root/venv/lib/python3.10/site-packages (from matplotlib) (1.4.8)\n",
      "Requirement already satisfied: fonttools>=4.22.0 in /root/venv/lib/python3.10/site-packages (from matplotlib) (4.59.0)\n",
      "Requirement already satisfied: pyparsing>=2.3.1 in /root/venv/lib/python3.10/site-packages (from matplotlib) (3.2.3)\n",
      "Requirement already satisfied: cycler>=0.10 in /root/venv/lib/python3.10/site-packages (from matplotlib) (0.12.1)\n",
      "Requirement already satisfied: jsonschema>=3.0 in /toolkit-cache/0.2.29/python3.10/kernel-libs/lib/python3.10/site-packages (from altair!=5.4.0,!=5.4.1,<6,>=4.0->streamlit) (4.23.0)\n",
      "Requirement already satisfied: jinja2 in /root/venv/lib/python3.10/site-packages (from altair!=5.4.0,!=5.4.1,<6,>=4.0->streamlit) (3.1.6)\n",
      "Requirement already satisfied: narwhals>=1.14.2 in /root/venv/lib/python3.10/site-packages (from altair!=5.4.0,!=5.4.1,<6,>=4.0->streamlit) (1.47.1)\n",
      "Requirement already satisfied: gitdb<5,>=4.0.1 in /root/venv/lib/python3.10/site-packages (from gitpython!=3.1.19,<4,>=3.0.7->streamlit) (4.0.12)\n",
      "Requirement already satisfied: six>=1.5 in /root/venv/lib/python3.10/site-packages (from python-dateutil>=2.8.2->pandas) (1.17.0)\n",
      "Requirement already satisfied: idna<4,>=2.5 in /root/venv/lib/python3.10/site-packages (from requests<3,>=2.27->streamlit) (3.10)\n",
      "Requirement already satisfied: charset_normalizer<4,>=2 in /root/venv/lib/python3.10/site-packages (from requests<3,>=2.27->streamlit) (3.4.2)\n",
      "Requirement already satisfied: certifi>=2017.4.17 in /root/venv/lib/python3.10/site-packages (from requests<3,>=2.27->streamlit) (2025.7.14)\n",
      "Requirement already satisfied: urllib3<3,>=1.21.1 in /root/venv/lib/python3.10/site-packages (from requests<3,>=2.27->streamlit) (2.5.0)\n",
      "Requirement already satisfied: smmap<6,>=3.0.1 in /root/venv/lib/python3.10/site-packages (from gitdb<5,>=4.0.1->gitpython!=3.1.19,<4,>=3.0.7->streamlit) (5.0.2)\n",
      "Requirement already satisfied: MarkupSafe>=2.0 in /root/venv/lib/python3.10/site-packages (from jinja2->altair!=5.4.0,!=5.4.1,<6,>=4.0->streamlit) (3.0.2)\n",
      "Requirement already satisfied: jsonschema-specifications>=2023.03.6 in /toolkit-cache/0.2.29/python3.10/kernel-libs/lib/python3.10/site-packages (from jsonschema>=3.0->altair!=5.4.0,!=5.4.1,<6,>=4.0->streamlit) (2023.12.1)\n",
      "Requirement already satisfied: attrs>=22.2.0 in /root/venv/lib/python3.10/site-packages (from jsonschema>=3.0->altair!=5.4.0,!=5.4.1,<6,>=4.0->streamlit) (25.3.0)\n",
      "Requirement already satisfied: rpds-py>=0.7.1 in /toolkit-cache/0.2.29/python3.10/kernel-libs/lib/python3.10/site-packages (from jsonschema>=3.0->altair!=5.4.0,!=5.4.1,<6,>=4.0->streamlit) (0.20.0)\n",
      "Requirement already satisfied: referencing>=0.28.4 in /toolkit-cache/0.2.29/python3.10/kernel-libs/lib/python3.10/site-packages (from jsonschema>=3.0->altair!=5.4.0,!=5.4.1,<6,>=4.0->streamlit) (0.35.1)\n",
      "Installing collected packages: joblib, scikit-learn, pandas, matplotlib, streamlit\n",
      "  Attempting uninstall: joblib\n",
      "    Found existing installation: joblib 1.5.1\n",
      "    Uninstalling joblib-1.5.1:\n",
      "      Successfully uninstalled joblib-1.5.1\n",
      "  Attempting uninstall: scikit-learn\n",
      "    Found existing installation: scikit-learn 1.0.2\n",
      "    Uninstalling scikit-learn-1.0.2:\n",
      "      Successfully uninstalled scikit-learn-1.0.2\n",
      "  Attempting uninstall: pandas\n",
      "    Found existing installation: pandas 2.1.4\n",
      "    Uninstalling pandas-2.1.4:\n",
      "      Successfully uninstalled pandas-2.1.4\n",
      "  Attempting uninstall: matplotlib\n",
      "    Found existing installation: matplotlib 3.6.3\n",
      "    Uninstalling matplotlib-3.6.3:\n",
      "      Successfully uninstalled matplotlib-3.6.3\n",
      "  Attempting uninstall: streamlit\n",
      "    Found existing installation: streamlit 1.38.0\n",
      "    Uninstalling streamlit-1.38.0:\n",
      "      Successfully uninstalled streamlit-1.38.0\n",
      "\u001b[31mERROR: pip's dependency resolver does not currently take into account all the packages that are installed. This behaviour is the source of the following dependency conflicts.\n",
      "deepnote-toolkit 0.1.0 requires pandas<2.2,>=1.2.5; python_version < \"3.12\", but you have pandas 2.3.2 which is incompatible.\u001b[0m\u001b[31m\n",
      "\u001b[0mSuccessfully installed joblib-1.5.2 matplotlib-3.10.6 pandas-2.3.2 scikit-learn-1.7.1 streamlit-1.49.1\n",
      "\n",
      "\u001b[1m[\u001b[0m\u001b[34;49mnotice\u001b[0m\u001b[1;39;49m]\u001b[0m\u001b[39;49m A new release of pip is available: \u001b[0m\u001b[31;49m23.0.1\u001b[0m\u001b[39;49m -> \u001b[0m\u001b[32;49m25.2\u001b[0m\n",
      "\u001b[1m[\u001b[0m\u001b[34;49mnotice\u001b[0m\u001b[1;39;49m]\u001b[0m\u001b[39;49m To update, run: \u001b[0m\u001b[32;49mpip install --upgrade pip\u001b[0m\n"
     ]
    }
   ],
   "source": [
    "!pip install --upgrade streamlit scikit-learn xgboost pandas matplotlib seaborn joblib"
   ]
  },
  {
   "cell_type": "code",
   "execution_count": 1,
   "metadata": {
    "cell_id": "2659778a45764e1dab74f7aa016552d3",
    "deepnote_cell_type": "code",
    "deepnote_to_be_reexecuted": true,
    "execution_context_id": "c2966c86-89bd-46f8-a1dc-dcf0aad83b74",
    "execution_millis": 1410,
    "execution_start": 1756915791435,
    "source_hash": "6eb6d0a0"
   },
   "outputs": [
    {
     "ename": "ModuleNotFoundError",
     "evalue": "No module named 'xgboost'",
     "output_type": "error",
     "traceback": [
      "\u001b[0;31m---------------------------------------------------------------------------\u001b[0m",
      "\u001b[0;31mModuleNotFoundError\u001b[0m                       Traceback (most recent call last)",
      "Cell \u001b[0;32mIn[1], line 1\u001b[0m\n\u001b[0;32m----> 1\u001b[0m \u001b[38;5;28;01mimport\u001b[39;00m\u001b[38;5;250m \u001b[39m\u001b[38;5;21;01msklearn\u001b[39;00m\u001b[38;5;241m,\u001b[39m\u001b[38;5;250m \u001b[39m\u001b[38;5;21;01mxgboost\u001b[39;00m\u001b[38;5;241m,\u001b[39m\u001b[38;5;250m \u001b[39m\u001b[38;5;21;01mjoblib\u001b[39;00m\n\u001b[1;32m      2\u001b[0m \u001b[38;5;28mprint\u001b[39m(\u001b[38;5;124m\"\u001b[39m\u001b[38;5;124msklearn:\u001b[39m\u001b[38;5;124m\"\u001b[39m, sklearn\u001b[38;5;241m.\u001b[39m__version__)\n\u001b[1;32m      3\u001b[0m \u001b[38;5;28mprint\u001b[39m(\u001b[38;5;124m\"\u001b[39m\u001b[38;5;124mxgboost:\u001b[39m\u001b[38;5;124m\"\u001b[39m, xgboost\u001b[38;5;241m.\u001b[39m__version__)\n",
      "\u001b[0;31mModuleNotFoundError\u001b[0m: No module named 'xgboost'"
     ]
    }
   ],
   "source": [
    "import sklearn, xgboost, joblib\n",
    "print(\"sklearn:\", sklearn.__version__)\n",
    "print(\"xgboost:\", xgboost.__version__)\n",
    "print(\"joblib:\", joblib.__version__)\n",
    "\n"
   ]
  },
  {
   "cell_type": "code",
   "execution_count": 4,
   "metadata": {
    "cell_id": "a7ea3e2e0de145ecbd6bfc6c8f2b77c5",
    "deepnote_cell_type": "code",
    "deepnote_to_be_reexecuted": true,
    "execution_context_id": "c2966c86-89bd-46f8-a1dc-dcf0aad83b74",
    "execution_millis": 1254,
    "execution_start": 1756915869135,
    "source_hash": "cdd86916"
   },
   "outputs": [
    {
     "name": "stdout",
     "output_type": "stream",
     "text": [
      "dill                          0.3.8\n",
      "geopandas                     1.1.1\n",
      "joblib                        1.5.1\n",
      "pandas                        2.1.4\n",
      "scikit-learn                  1.1.3\n",
      "\n",
      "\u001b[1m[\u001b[0m\u001b[34;49mnotice\u001b[0m\u001b[1;39;49m]\u001b[0m\u001b[39;49m A new release of pip is available: \u001b[0m\u001b[31;49m23.0.1\u001b[0m\u001b[39;49m -> \u001b[0m\u001b[32;49m25.2\u001b[0m\n",
      "\u001b[1m[\u001b[0m\u001b[34;49mnotice\u001b[0m\u001b[1;39;49m]\u001b[0m\u001b[39;49m To update, run: \u001b[0m\u001b[32;49mpip install --upgrade pip\u001b[0m\n"
     ]
    }
   ],
   "source": [
    "!pip list | grep -E \"scikit-learn|xgboost|joblib|pandas|streamlit|dill\"\n"
   ]
  },
  {
   "cell_type": "code",
   "execution_count": 19,
   "metadata": {
    "cell_id": "60ec23cc01e5497092e140cb03fdb119",
    "deepnote_cell_type": "code",
    "deepnote_to_be_reexecuted": true,
    "execution_context_id": "c2966c86-89bd-46f8-a1dc-dcf0aad83b74",
    "execution_millis": 3547,
    "execution_start": 1756916235457,
    "source_hash": "71994407"
   },
   "outputs": [
    {
     "name": "stdout",
     "output_type": "stream",
     "text": [
      "Requirement already satisfied: streamlit in /root/venv/lib/python3.10/site-packages (1.49.1)\n",
      "Requirement already satisfied: scikit-learn in /root/venv/lib/python3.10/site-packages (1.7.1)\n",
      "Requirement already satisfied: xgboost in /root/venv/lib/python3.10/site-packages (3.0.4)\n",
      "Requirement already satisfied: pandas in /root/venv/lib/python3.10/site-packages (2.3.2)\n",
      "Requirement already satisfied: matplotlib in /root/venv/lib/python3.10/site-packages (3.10.6)\n",
      "Requirement already satisfied: seaborn in /root/venv/lib/python3.10/site-packages (0.13.2)\n",
      "Requirement already satisfied: joblib in /root/venv/lib/python3.10/site-packages (1.5.2)\n",
      "Requirement already satisfied: requests<3,>=2.27 in /root/venv/lib/python3.10/site-packages (from streamlit) (2.32.4)\n",
      "Requirement already satisfied: protobuf<7,>=3.20 in /root/venv/lib/python3.10/site-packages (from streamlit) (4.25.8)\n",
      "Requirement already satisfied: pydeck<1,>=0.8.0b4 in /root/venv/lib/python3.10/site-packages (from streamlit) (0.9.1)\n",
      "Requirement already satisfied: toml<2,>=0.10.1 in /root/venv/lib/python3.10/site-packages (from streamlit) (0.10.2)\n",
      "Requirement already satisfied: typing-extensions<5,>=4.4.0 in /root/venv/lib/python3.10/site-packages (from streamlit) (4.14.1)\n",
      "Requirement already satisfied: watchdog<7,>=2.1.5 in /root/venv/lib/python3.10/site-packages (from streamlit) (6.0.0)\n",
      "Requirement already satisfied: blinker<2,>=1.5.0 in /root/venv/lib/python3.10/site-packages (from streamlit) (1.9.0)\n",
      "Requirement already satisfied: altair!=5.4.0,!=5.4.1,<6,>=4.0 in /toolkit-cache/0.2.29/python3.10/kernel-libs/lib/python3.10/site-packages (from streamlit) (5.5.0)\n",
      "Requirement already satisfied: numpy<3,>=1.23 in /root/venv/lib/python3.10/site-packages (from streamlit) (1.25.2)\n",
      "Requirement already satisfied: gitpython!=3.1.19,<4,>=3.0.7 in /root/venv/lib/python3.10/site-packages (from streamlit) (3.1.45)\n",
      "Requirement already satisfied: pyarrow>=7.0 in /toolkit-cache/0.2.29/python3.10/kernel-libs/lib/python3.10/site-packages (from streamlit) (17.0.0)\n",
      "Requirement already satisfied: tornado!=6.5.0,<7,>=6.0.3 in /toolkit-cache/0.2.29/python3.10/kernel-libs/lib/python3.10/site-packages (from streamlit) (6.4.1)\n",
      "Requirement already satisfied: pillow<12,>=7.1.0 in /root/venv/lib/python3.10/site-packages (from streamlit) (11.3.0)\n",
      "Requirement already satisfied: packaging<26,>=20 in /root/venv/lib/python3.10/site-packages (from streamlit) (25.0)\n",
      "Requirement already satisfied: tenacity<10,>=8.1.0 in /toolkit-cache/0.2.29/python3.10/kernel-libs/lib/python3.10/site-packages (from streamlit) (9.0.0)\n",
      "Requirement already satisfied: cachetools<7,>=4.0 in /root/venv/lib/python3.10/site-packages (from streamlit) (5.5.2)\n",
      "Requirement already satisfied: click<9,>=7.0 in /root/venv/lib/python3.10/site-packages (from streamlit) (8.2.1)\n",
      "Requirement already satisfied: scipy>=1.8.0 in /root/venv/lib/python3.10/site-packages (from scikit-learn) (1.9.3)\n",
      "Requirement already satisfied: threadpoolctl>=3.1.0 in /root/venv/lib/python3.10/site-packages (from scikit-learn) (3.6.0)\n",
      "Requirement already satisfied: nvidia-nccl-cu12 in /root/venv/lib/python3.10/site-packages (from xgboost) (2.27.7)\n",
      "Requirement already satisfied: python-dateutil>=2.8.2 in /root/venv/lib/python3.10/site-packages (from pandas) (2.9.0.post0)\n",
      "Requirement already satisfied: pytz>=2020.1 in /root/venv/lib/python3.10/site-packages (from pandas) (2025.2)\n",
      "Requirement already satisfied: tzdata>=2022.7 in /root/venv/lib/python3.10/site-packages (from pandas) (2025.2)\n",
      "Requirement already satisfied: contourpy>=1.0.1 in /root/venv/lib/python3.10/site-packages (from matplotlib) (1.3.2)\n",
      "Requirement already satisfied: pyparsing>=2.3.1 in /root/venv/lib/python3.10/site-packages (from matplotlib) (3.2.3)\n",
      "Requirement already satisfied: kiwisolver>=1.3.1 in /root/venv/lib/python3.10/site-packages (from matplotlib) (1.4.8)\n",
      "Requirement already satisfied: cycler>=0.10 in /root/venv/lib/python3.10/site-packages (from matplotlib) (0.12.1)\n",
      "Requirement already satisfied: fonttools>=4.22.0 in /root/venv/lib/python3.10/site-packages (from matplotlib) (4.59.0)\n",
      "Requirement already satisfied: jsonschema>=3.0 in /toolkit-cache/0.2.29/python3.10/kernel-libs/lib/python3.10/site-packages (from altair!=5.4.0,!=5.4.1,<6,>=4.0->streamlit) (4.23.0)\n",
      "Requirement already satisfied: jinja2 in /root/venv/lib/python3.10/site-packages (from altair!=5.4.0,!=5.4.1,<6,>=4.0->streamlit) (3.1.6)\n",
      "Requirement already satisfied: narwhals>=1.14.2 in /root/venv/lib/python3.10/site-packages (from altair!=5.4.0,!=5.4.1,<6,>=4.0->streamlit) (1.47.1)\n",
      "Requirement already satisfied: gitdb<5,>=4.0.1 in /root/venv/lib/python3.10/site-packages (from gitpython!=3.1.19,<4,>=3.0.7->streamlit) (4.0.12)\n",
      "Requirement already satisfied: six>=1.5 in /root/venv/lib/python3.10/site-packages (from python-dateutil>=2.8.2->pandas) (1.17.0)\n",
      "Requirement already satisfied: charset_normalizer<4,>=2 in /root/venv/lib/python3.10/site-packages (from requests<3,>=2.27->streamlit) (3.4.2)\n",
      "Requirement already satisfied: urllib3<3,>=1.21.1 in /root/venv/lib/python3.10/site-packages (from requests<3,>=2.27->streamlit) (2.5.0)\n",
      "Requirement already satisfied: certifi>=2017.4.17 in /root/venv/lib/python3.10/site-packages (from requests<3,>=2.27->streamlit) (2025.7.14)\n",
      "Requirement already satisfied: idna<4,>=2.5 in /root/venv/lib/python3.10/site-packages (from requests<3,>=2.27->streamlit) (3.10)\n",
      "Requirement already satisfied: smmap<6,>=3.0.1 in /root/venv/lib/python3.10/site-packages (from gitdb<5,>=4.0.1->gitpython!=3.1.19,<4,>=3.0.7->streamlit) (5.0.2)\n",
      "Requirement already satisfied: MarkupSafe>=2.0 in /root/venv/lib/python3.10/site-packages (from jinja2->altair!=5.4.0,!=5.4.1,<6,>=4.0->streamlit) (3.0.2)\n",
      "Requirement already satisfied: rpds-py>=0.7.1 in /toolkit-cache/0.2.29/python3.10/kernel-libs/lib/python3.10/site-packages (from jsonschema>=3.0->altair!=5.4.0,!=5.4.1,<6,>=4.0->streamlit) (0.20.0)\n",
      "Requirement already satisfied: jsonschema-specifications>=2023.03.6 in /toolkit-cache/0.2.29/python3.10/kernel-libs/lib/python3.10/site-packages (from jsonschema>=3.0->altair!=5.4.0,!=5.4.1,<6,>=4.0->streamlit) (2023.12.1)\n",
      "Requirement already satisfied: referencing>=0.28.4 in /toolkit-cache/0.2.29/python3.10/kernel-libs/lib/python3.10/site-packages (from jsonschema>=3.0->altair!=5.4.0,!=5.4.1,<6,>=4.0->streamlit) (0.35.1)\n",
      "Requirement already satisfied: attrs>=22.2.0 in /root/venv/lib/python3.10/site-packages (from jsonschema>=3.0->altair!=5.4.0,!=5.4.1,<6,>=4.0->streamlit) (25.3.0)\n",
      "\n",
      "\u001b[1m[\u001b[0m\u001b[34;49mnotice\u001b[0m\u001b[1;39;49m]\u001b[0m\u001b[39;49m A new release of pip is available: \u001b[0m\u001b[31;49m23.0.1\u001b[0m\u001b[39;49m -> \u001b[0m\u001b[32;49m25.2\u001b[0m\n",
      "\u001b[1m[\u001b[0m\u001b[34;49mnotice\u001b[0m\u001b[1;39;49m]\u001b[0m\u001b[39;49m To update, run: \u001b[0m\u001b[32;49mpip install --upgrade pip\u001b[0m\n"
     ]
    }
   ],
   "source": [
    "!pip install --upgrade streamlit scikit-learn xgboost pandas matplotlib seaborn joblib\n"
   ]
  },
  {
   "cell_type": "code",
   "execution_count": 67,
   "metadata": {
    "cell_id": "172ccb9bdc3e4ebeaedd0264507e4f25",
    "deepnote_cell_type": "code",
    "deepnote_to_be_reexecuted": true,
    "execution_context_id": "d9c32564-ea8d-47bd-9070-40e486f95705",
    "execution_millis": 1768,
    "execution_start": 1756920620479,
    "source_hash": "5d91a1f"
   },
   "outputs": [
    {
     "name": "stdout",
     "output_type": "stream",
     "text": [
      "dill                          0.3.8\n",
      "geopandas                     1.1.1\n",
      "joblib                        1.5.2\n",
      "matplotlib                    3.10.6\n",
      "matplotlib-inline             0.1.7\n",
      "pandas                        2.3.2\n",
      "scikit-learn                  1.7.1\n",
      "streamlit                     1.49.1\n",
      "xgboost                       3.0.4\n",
      "\n",
      "\u001b[1m[\u001b[0m\u001b[34;49mnotice\u001b[0m\u001b[1;39;49m]\u001b[0m\u001b[39;49m A new release of pip is available: \u001b[0m\u001b[31;49m23.0.1\u001b[0m\u001b[39;49m -> \u001b[0m\u001b[32;49m25.2\u001b[0m\n",
      "\u001b[1m[\u001b[0m\u001b[34;49mnotice\u001b[0m\u001b[1;39;49m]\u001b[0m\u001b[39;49m To update, run: \u001b[0m\u001b[32;49mpip install --upgrade pip\u001b[0m\n"
     ]
    }
   ],
   "source": [
    "!pip list | grep -E \"scikit-learn|xgboost|joblib|pandas|streamlit|dill|matplotlib\""
   ]
  },
  {
   "cell_type": "code",
   "execution_count": null,
   "metadata": {
    "cell_id": "28b48972aa024c29821d18776f65e7c3",
    "deepnote_cell_type": "code",
    "deepnote_to_be_reexecuted": true
   },
   "outputs": [],
   "source": [
    "import pandas as pd\n",
    "import matplotlib.pyplot as plt\n",
    "\n",
    "# ----------------------------\n",
    "# Step 1: Load Data\n",
    "# ----------------------------\n",
    "file_path = \"AR - performance review - input - Sheet1.csv\"\n",
    "df = pd.read_csv(file_path)\n",
    "\n",
    "# ----------------------------\n",
    "# Step 2: Clean Currency Fields\n",
    "# ----------------------------\n",
    "def clean_currency(x):\n",
    "    if isinstance(x, str):\n",
    "        return float(x.replace(\"$\", \"\").replace(\",\", \"\").strip())\n",
    "    return x\n",
    "\n",
    "df[\"Payment Amount\"] = df[\"Payment Amount\"].apply(clean_currency)\n",
    "df[\"Balance\"] = df[\"Balance\"].apply(clean_currency)\n",
    "\n",
    "# ----------------------------\n",
    "# Step 3: Calculate Metrics\n",
    "# ----------------------------\n",
    "df[\"Total Charge\"] = df[\"Payment Amount\"] + df[\"Balance\"]\n",
    "df[\"Payment Efficiency\"] = df[\"Payment Amount\"] / df[\"Total Charge\"].replace(0, 1)\n",
    "\n",
    "# ----------------------------\n",
    "# Step 4: Insights\n",
    "# ----------------------------\n",
    "# Top denied CPTs (Payment = 0)\n",
    "denied_cpts = df[df[\"Payment Amount\"] == 0][\"CPT Code\"].value_counts().head(5)\n",
    "\n",
    "# Top insurers causing denials\n",
    "denied_insurers = df[df[\"Payment Amount\"] == 0][\"Insurance Company\"].value_counts().head(5)\n",
    "\n",
    "# Top denial reasons\n",
    "denial_reasons = df[\"Denial Reason\"].dropna().value_counts().head(5)\n",
    "\n",
    "# Lowest payment efficiency CPT codes\n",
    "inefficiencies = df.groupby(\"CPT Code\")[\"Payment Efficiency\"].mean().sort_values().head(5)\n",
    "\n",
    "print(\"\\n🔹 Top Denied CPT Codes:\\n\", denied_cpts)\n",
    "print(\"\\n🔹 Top Denying Insurers:\\n\", denied_insurers)\n",
    "print(\"\\n🔹 Top Denial Reasons:\\n\", denial_reasons)\n",
    "print(\"\\n🔹 CPTs with Lowest Payment Efficiency:\\n\", inefficiencies)\n",
    "\n",
    "# ----------------------------\n",
    "# Step 5: Visualizations\n",
    "# ----------------------------\n",
    "plt.figure(figsize=(12, 6))\n",
    "\n",
    "# Bar chart: denial reasons\n",
    "plt.subplot(2, 2, 1)\n",
    "denial_reasons.plot(kind=\"bar\", color=\"salmon\")\n",
    "plt.title(\"Top Denial Reasons\")\n",
    "plt.ylabel(\"Count\")\n",
    "\n",
    "# Pie chart: claim distribution by insurer\n",
    "plt.subplot(2, 2, 2)\n",
    "df[\"Insurance Company\"].value_counts().plot(kind=\"pie\", autopct='%1.1f%%', startangle=90)\n",
    "plt.title(\"Claims by Insurance Company\")\n",
    "plt.ylabel(\"\")\n",
    "\n",
    "# Boxplot: payment distribution across CPT codes\n",
    "plt.subplot(2, 2, 3)\n",
    "df.boxplot(column=\"Payment Amount\", by=\"CPT Code\", grid=False)\n",
    "plt.title(\"Payment Distribution by CPT Code\")\n",
    "plt.suptitle(\"\")\n",
    "\n",
    "# Trend line: Payments vs Balances by CPT\n",
    "plt.subplot(2, 2, 4)\n",
    "df.groupby(\"CPT Code\")[[\"Payment Amount\", \"Balance\"]].sum().plot(marker=\"o\", ax=plt.gca())\n",
    "plt.title(\"Payments vs Balances by CPT Code\")\n",
    "plt.xlabel(\"CPT Code\")\n",
    "plt.ylabel(\"Amount ($)\")\n",
    "\n",
    "plt.tight_layout()\n",
    "plt.show()\n"
   ]
  }
 ],
 "metadata": {
  "deepnote_notebook_id": "62d1833f04504570a8436aa3ce3440c7",
  "deepnote_persisted_session": {
   "createdAt": "2025-09-03T20:14:21.938Z"
  },
  "language_info": {
   "name": "python"
  }
 },
 "nbformat": "4",
 "nbformat_minor": "0"
}
